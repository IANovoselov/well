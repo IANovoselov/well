{
  "nbformat": 4,
  "nbformat_minor": 0,
  "metadata": {
    "colab": {
      "provenance": [],
      "authorship_tag": "ABX9TyMMArdNVDiY/b/qmqkcui+u",
      "include_colab_link": true
    },
    "kernelspec": {
      "name": "python3",
      "display_name": "Python 3"
    },
    "language_info": {
      "name": "python"
    }
  },
  "cells": [
    {
      "cell_type": "markdown",
      "metadata": {
        "id": "view-in-github",
        "colab_type": "text"
      },
      "source": [
        "<a href=\"https://colab.research.google.com/github/IANovoselov/well/blob/main/well.ipynb\" target=\"_parent\"><img src=\"https://colab.research.google.com/assets/colab-badge.svg\" alt=\"Open In Colab\"/></a>"
      ]
    },
    {
      "cell_type": "code",
      "execution_count": 293,
      "metadata": {
        "id": "N0YZy14WujCD"
      },
      "outputs": [],
      "source": [
        "import numpy as np\n",
        "import pandas as pd"
      ]
    },
    {
      "cell_type": "code",
      "source": [
        " # Исходные данные для моделировния\n",
        "\n",
        "# Фонтанирующая скважина\n",
        "# p_R = 28  # Среднепластовое давление\n",
        "# p_G0 = 25  # Давление насыщенного газа\n",
        "\n",
        "# Нефонтанирующая скважина\n",
        "p_R = 21.65  # Среднепластовое давление\n",
        "p_G0 = 17.32  # Давление насыщенного газа\n",
        "\n",
        "H_R = 3000  # Глубина забоя по вертикали\n",
        "w_1 = 12  # Гидропроводность из пласта в ПЗ скважины\n",
        "w_2 = 60  # Гидропроводность из ПЗ в забой\n",
        "betta = 0.3  # Объёмная доля воды\n",
        "p_0 = 0.1  # Атмосферное давление\n",
        "\n",
        "# Удельный вес\n",
        "gamma_oil = 0.0068  # нефти\n",
        "gamma_water = 0.011  # воды\n",
        "gamma_gas = 0.000008  # газа\n",
        "G = 100  # Газовый фактор\n",
        "p_L = 1.5  # Давление в линии нефтесбора\n",
        "\n",
        "# Гидросопротивление\n",
        "r_K = 0.5  # обсадной колонный\n",
        "r_N = 4  # НКТ\n",
        "r_T = 0.8  # затрубного пространства\n",
        "r_U = 3  # устьевого штуцера\n",
        "r_GU = 3  # перепускного клапана\n",
        "\n",
        "# Параметры насоса\n",
        "H_N = 2000  # уровень подвеса\n",
        "q_0 = 60  # номинальный дебит\n",
        "\n",
        "# Напорная характеристика\n",
        "q_Pump = [5/3, 4/3, 2/3]\n",
        "lambda_0 = [10/3, 2, 3/2]\n",
        "lambda_1 = [2, 1, 1/4]"
      ],
      "metadata": {
        "id": "ZV2ClIokAvU2"
      },
      "execution_count": 294,
      "outputs": []
    },
    {
      "cell_type": "code",
      "source": [
        "# Моделируемые данные, начальные условия\n",
        "_q_N = []\n",
        "_q_T = []\n",
        "__q = []\n",
        "_p_1 = []\n",
        "_p_2 = []\n",
        "_p_3 = []\n",
        "_p_5 = []\n",
        "_p_4 = []\n",
        "_p_8 = []\n",
        "_u = []\n",
        "_h_4 = []"
      ],
      "metadata": {
        "id": "iFZbkJ2zA8gc"
      },
      "execution_count": 295,
      "outputs": []
    },
    {
      "cell_type": "code",
      "source": [
        "# Статический расчёт скважины\n",
        "\n",
        "# Гидросопротивления\n",
        "r_1 = 1/w_1  # Пласт - ПЗ\n",
        "r_2 = 1/w_2  # ПЗ - забой\n",
        "r_R = r_1 + r_2\n",
        "r_R = 0.1"
      ],
      "metadata": {
        "id": "AeMVydD0TX6j"
      },
      "execution_count": 296,
      "outputs": []
    },
    {
      "cell_type": "code",
      "source": [
        "# Ограничения\n",
        "h_lim = 100  # По уровню над приёмом насос\n",
        "betta_G_lim = 0.25  # По газу у первой ступени"
      ],
      "metadata": {
        "id": "OzA0P0qvYEJt"
      },
      "execution_count": 297,
      "outputs": []
    },
    {
      "cell_type": "code",
      "source": [
        "# Высота столба жидкости\n",
        "gamma = (1-betta)*gamma_oil+betta*gamma_water\n",
        "dH_R =  (p_R-p_L)/gamma - H_R\n",
        "dH_R"
      ],
      "metadata": {
        "id": "MBH_PzROWrqa",
        "outputId": "be1642d2-346e-4bd5-d217-81714fd6670d",
        "colab": {
          "base_uri": "https://localhost:8080/"
        }
      },
      "execution_count": 298,
      "outputs": [
        {
          "output_type": "execute_result",
          "data": {
            "text/plain": [
              "-500.0"
            ]
          },
          "metadata": {},
          "execution_count": 298
        }
      ]
    },
    {
      "cell_type": "code",
      "source": [
        "h_0 = q_0*(r_U + r_N + r_K + r_R/gamma) - dH_R"
      ],
      "metadata": {
        "id": "bJB6xG_5CDdx"
      },
      "execution_count": 299,
      "outputs": []
    },
    {
      "cell_type": "code",
      "source": [
        "alpha_G_3 = 0.4\n",
        "alpha_betta = 0.333\n",
        "k_S = 0.7\n",
        "X_G = 0.00008\n",
        "\n",
        "M_R3 = (1-betta)*G*((alpha_G_3*p_0) / (p_G0 - p_0))\n",
        "p_G3 = p_G0 * (((1-k_S)*M_R3)/(((1-k_S)*M_R3)+alpha_betta))\n",
        "\n",
        "a_GU = 0.0000091 #k_S*X_G*M_R3"
      ],
      "metadata": {
        "id": "ojGUBRRekLFT"
      },
      "execution_count": 300,
      "outputs": []
    },
    {
      "cell_type": "code",
      "source": [
        "# Расчёт динамики\n",
        "\n",
        "# Начальные условия\n",
        "\n",
        "M_q = 0.5\n",
        "\n",
        "h_4 = H_N + dH_R\n",
        "p_2 = p_R\n",
        "t = 0\n",
        "w = 1\n",
        "q = 0\n",
        "p_3 = p_L + gamma * h_4\n",
        "epsilon = 0.01 * p_3\n",
        "q_L = 0\n",
        "\n",
        "# Сегмент напорной характеристики\n",
        "i = 1\n",
        "k = 25000\n"
      ],
      "metadata": {
        "id": "2BfX0rNuZpdL"
      },
      "execution_count": 301,
      "outputs": []
    },
    {
      "cell_type": "code",
      "source": [
        "# Начало расчёта\n",
        "for _k in range(k):\n",
        "\n",
        "    q = (p_2 - p_3 - gamma*(H_R-H_N)) / (r_1 + gamma * r_K)\n",
        "    p_4 = (p_L + (p_G0 - p_3) * r_GU * np.sqrt(w) * a_GU * q)\n",
        "    __p_3 = p_4 + gamma * h_4\n",
        "    # Балансировка притока по начальным условиям\n",
        "    while abs(p_3 - __p_3) > epsilon:\n",
        "        p_3 = (1-M_q)*p_3 + M_q*__p_3\n",
        "        q = (p_2 - p_3 - gamma*(H_R-H_N)) / (r_1 + gamma * r_K)\n",
        "        p_4 = (p_L + (p_G0 - p_3) * r_GU * np.sqrt(w) * a_GU * q)\n",
        "        __p_3 = p_4 + gamma * h_4\n",
        "\n",
        "    p_3 = __p_3\n",
        "\n",
        "    p_8 =p_L + gamma*r_U*q_L\n",
        "\n",
        "    # Расчёт подачи\n",
        "\n",
        "    q_N = (w*w*h_0*lambda_0[i] - H_N + (1/gamma)*(p_3 - p_8)) / (w*(h_0/q_0)*lambda_1[i]+r_N)\n",
        "    q_N = max(q_N, 0)\n",
        "\n",
        "    if  q_N > w*q_0*q_Pump[i]:\n",
        "      i-=1\n",
        "      i = max(i, 0)\n",
        "      q_N = (w*w*h_0*lambda_0[i] - H_N + (1/gamma)*(p_3 - p_8)) / (w*(h_0/q_0)*lambda_1[i]+r_N)\n",
        "      q_N = max(q_N, 0)\n",
        "\n",
        "    if  q_N < w*q_0*q_Pump[i+1]:\n",
        "      i+=1\n",
        "      q_N = (w*w*h_0*lambda_0[i] - H_N + (1/gamma)*(p_3 - p_8)) / (w*(h_0/q_0)*lambda_1[i]+r_N)\n",
        "      q_N = max(q_N, 0)\n",
        "\n",
        "\n",
        "\n",
        "    betta_G3 = (M_R3*(p_G0 - p_3)) / (p_3 + M_R3*(p_G0 - p_3))\n",
        "    M_RS = (1 - k_S*np.sqrt(w))* M_R3\n",
        "    betta_GN = (M_RS*(p_G0 - p_3)) / (p_3 + M_RS*(p_G0 - p_3))\n",
        "\n",
        "    # Шаг по Эйлеру\n",
        "\n",
        "    p_1 = p_2 - r_1*q\n",
        "    p_5 = p_8 + gamma*(H_N+r_R*q_N)\n",
        "\n",
        "    _p_1.append(p_1)\n",
        "    _p_3.append(p_3)\n",
        "    _p_4.append(p_4)\n",
        "    _p_8.append(p_8)\n",
        "    _q_N.append(q_N)\n",
        "    __q.append(q)\n",
        "    _h_4.append(h_4)\n",
        "    _u.append(w)\n",
        "\n",
        "    p_2 = p_2 + (0.0001/0.4)*(p_R - p_2 - r_2*q)\n",
        "    h_4 = h_4 + (0.0001/0.01)*(q-q_N)\n",
        "    q_L = q_L + (0.0001/0.001)*(q_N-q_L)\n",
        "\n"
      ],
      "metadata": {
        "id": "WA8XTqw5laeO"
      },
      "execution_count": 302,
      "outputs": []
    },
    {
      "cell_type": "markdown",
      "source": [],
      "metadata": {
        "id": "GQ9c3dLcfTU5"
      }
    },
    {
      "cell_type": "code",
      "source": [
        "\n",
        "x = np.linspace(0, 1.5, k)\n",
        "x"
      ],
      "metadata": {
        "id": "pp2qJH-gbQGG",
        "outputId": "cef0043f-9772-4091-c849-2283f0c71ffa",
        "colab": {
          "base_uri": "https://localhost:8080/"
        }
      },
      "execution_count": 303,
      "outputs": [
        {
          "output_type": "execute_result",
          "data": {
            "text/plain": [
              "array([0.00000000e+00, 6.00024001e-05, 1.20004800e-04, ...,\n",
              "       1.49988000e+00, 1.49994000e+00, 1.50000000e+00])"
            ]
          },
          "metadata": {},
          "execution_count": 303
        }
      ]
    },
    {
      "cell_type": "code",
      "source": [
        "df = pd.DataFrame({'q_N': _q_N, 'p_3': _p_3, 'p_1': _p_1, 'q': __q, 'h_4': _h_4, 'u': _u, 'x': x,\n",
        "                   'p_4': _p_4, 'p_8': _p_8})"
      ],
      "metadata": {
        "id": "3VoIFG_wvc09"
      },
      "execution_count": 304,
      "outputs": []
    },
    {
      "cell_type": "code",
      "source": [
        "df"
      ],
      "metadata": {
        "id": "tsFwHH7qkkJa",
        "outputId": "af935995-bca2-44e0-9ba1-12cd380398ee",
        "colab": {
          "base_uri": "https://localhost:8080/",
          "height": 423
        }
      },
      "execution_count": 305,
      "outputs": [
        {
          "output_type": "execute_result",
          "data": {
            "text/plain": [
              "             q_N        p_3        p_1          q          h_4  u        x  \\\n",
              "0      85.119186  13.590000  21.650000   0.000000  1500.000000  1  0.00000   \n",
              "1      84.682898  13.583139  21.650000   0.000000  1499.148808  1  0.00006   \n",
              "2      84.291084  13.576322  21.643456   0.078530  1498.301979  1  0.00012   \n",
              "3      83.939074  13.569542  21.636953   0.156561  1497.459854  1  0.00018   \n",
              "4      83.622692  13.562798  21.630486   0.234155  1496.622028  1  0.00024   \n",
              "...          ...        ...        ...        ...          ... ..      ...   \n",
              "24995  60.007909   7.350447  15.652251  60.000885   723.835805  1  1.49976   \n",
              "24996  60.007907   7.350446  15.652251  60.000884   723.835735  1  1.49982   \n",
              "24997  60.007905   7.350446  15.652250  60.000884   723.835664  1  1.49988   \n",
              "24998  60.007903   7.350445  15.652249  60.000884   723.835594  1  1.49994   \n",
              "24999  60.007901   7.350445  15.652249  60.000884   723.835524  1  1.50000   \n",
              "\n",
              "            p_4       p_8  \n",
              "0      1.500000  1.500000  \n",
              "1      1.500000  1.705818  \n",
              "2      1.500008  1.890000  \n",
              "3      1.500016  2.054815  \n",
              "4      1.500024  2.202299  \n",
              "...         ...       ...  \n",
              "24995  1.516330  2.950992  \n",
              "24996  1.516330  2.950992  \n",
              "24997  1.516330  2.950992  \n",
              "24998  1.516330  2.950992  \n",
              "24999  1.516330  2.950992  \n",
              "\n",
              "[25000 rows x 9 columns]"
            ],
            "text/html": [
              "\n",
              "  <div id=\"df-8db05f7a-f0dd-4f9c-a266-c7dd0e7f7c95\" class=\"colab-df-container\">\n",
              "    <div>\n",
              "<style scoped>\n",
              "    .dataframe tbody tr th:only-of-type {\n",
              "        vertical-align: middle;\n",
              "    }\n",
              "\n",
              "    .dataframe tbody tr th {\n",
              "        vertical-align: top;\n",
              "    }\n",
              "\n",
              "    .dataframe thead th {\n",
              "        text-align: right;\n",
              "    }\n",
              "</style>\n",
              "<table border=\"1\" class=\"dataframe\">\n",
              "  <thead>\n",
              "    <tr style=\"text-align: right;\">\n",
              "      <th></th>\n",
              "      <th>q_N</th>\n",
              "      <th>p_3</th>\n",
              "      <th>p_1</th>\n",
              "      <th>q</th>\n",
              "      <th>h_4</th>\n",
              "      <th>u</th>\n",
              "      <th>x</th>\n",
              "      <th>p_4</th>\n",
              "      <th>p_8</th>\n",
              "    </tr>\n",
              "  </thead>\n",
              "  <tbody>\n",
              "    <tr>\n",
              "      <th>0</th>\n",
              "      <td>85.119186</td>\n",
              "      <td>13.590000</td>\n",
              "      <td>21.650000</td>\n",
              "      <td>0.000000</td>\n",
              "      <td>1500.000000</td>\n",
              "      <td>1</td>\n",
              "      <td>0.00000</td>\n",
              "      <td>1.500000</td>\n",
              "      <td>1.500000</td>\n",
              "    </tr>\n",
              "    <tr>\n",
              "      <th>1</th>\n",
              "      <td>84.682898</td>\n",
              "      <td>13.583139</td>\n",
              "      <td>21.650000</td>\n",
              "      <td>0.000000</td>\n",
              "      <td>1499.148808</td>\n",
              "      <td>1</td>\n",
              "      <td>0.00006</td>\n",
              "      <td>1.500000</td>\n",
              "      <td>1.705818</td>\n",
              "    </tr>\n",
              "    <tr>\n",
              "      <th>2</th>\n",
              "      <td>84.291084</td>\n",
              "      <td>13.576322</td>\n",
              "      <td>21.643456</td>\n",
              "      <td>0.078530</td>\n",
              "      <td>1498.301979</td>\n",
              "      <td>1</td>\n",
              "      <td>0.00012</td>\n",
              "      <td>1.500008</td>\n",
              "      <td>1.890000</td>\n",
              "    </tr>\n",
              "    <tr>\n",
              "      <th>3</th>\n",
              "      <td>83.939074</td>\n",
              "      <td>13.569542</td>\n",
              "      <td>21.636953</td>\n",
              "      <td>0.156561</td>\n",
              "      <td>1497.459854</td>\n",
              "      <td>1</td>\n",
              "      <td>0.00018</td>\n",
              "      <td>1.500016</td>\n",
              "      <td>2.054815</td>\n",
              "    </tr>\n",
              "    <tr>\n",
              "      <th>4</th>\n",
              "      <td>83.622692</td>\n",
              "      <td>13.562798</td>\n",
              "      <td>21.630486</td>\n",
              "      <td>0.234155</td>\n",
              "      <td>1496.622028</td>\n",
              "      <td>1</td>\n",
              "      <td>0.00024</td>\n",
              "      <td>1.500024</td>\n",
              "      <td>2.202299</td>\n",
              "    </tr>\n",
              "    <tr>\n",
              "      <th>...</th>\n",
              "      <td>...</td>\n",
              "      <td>...</td>\n",
              "      <td>...</td>\n",
              "      <td>...</td>\n",
              "      <td>...</td>\n",
              "      <td>...</td>\n",
              "      <td>...</td>\n",
              "      <td>...</td>\n",
              "      <td>...</td>\n",
              "    </tr>\n",
              "    <tr>\n",
              "      <th>24995</th>\n",
              "      <td>60.007909</td>\n",
              "      <td>7.350447</td>\n",
              "      <td>15.652251</td>\n",
              "      <td>60.000885</td>\n",
              "      <td>723.835805</td>\n",
              "      <td>1</td>\n",
              "      <td>1.49976</td>\n",
              "      <td>1.516330</td>\n",
              "      <td>2.950992</td>\n",
              "    </tr>\n",
              "    <tr>\n",
              "      <th>24996</th>\n",
              "      <td>60.007907</td>\n",
              "      <td>7.350446</td>\n",
              "      <td>15.652251</td>\n",
              "      <td>60.000884</td>\n",
              "      <td>723.835735</td>\n",
              "      <td>1</td>\n",
              "      <td>1.49982</td>\n",
              "      <td>1.516330</td>\n",
              "      <td>2.950992</td>\n",
              "    </tr>\n",
              "    <tr>\n",
              "      <th>24997</th>\n",
              "      <td>60.007905</td>\n",
              "      <td>7.350446</td>\n",
              "      <td>15.652250</td>\n",
              "      <td>60.000884</td>\n",
              "      <td>723.835664</td>\n",
              "      <td>1</td>\n",
              "      <td>1.49988</td>\n",
              "      <td>1.516330</td>\n",
              "      <td>2.950992</td>\n",
              "    </tr>\n",
              "    <tr>\n",
              "      <th>24998</th>\n",
              "      <td>60.007903</td>\n",
              "      <td>7.350445</td>\n",
              "      <td>15.652249</td>\n",
              "      <td>60.000884</td>\n",
              "      <td>723.835594</td>\n",
              "      <td>1</td>\n",
              "      <td>1.49994</td>\n",
              "      <td>1.516330</td>\n",
              "      <td>2.950992</td>\n",
              "    </tr>\n",
              "    <tr>\n",
              "      <th>24999</th>\n",
              "      <td>60.007901</td>\n",
              "      <td>7.350445</td>\n",
              "      <td>15.652249</td>\n",
              "      <td>60.000884</td>\n",
              "      <td>723.835524</td>\n",
              "      <td>1</td>\n",
              "      <td>1.50000</td>\n",
              "      <td>1.516330</td>\n",
              "      <td>2.950992</td>\n",
              "    </tr>\n",
              "  </tbody>\n",
              "</table>\n",
              "<p>25000 rows × 9 columns</p>\n",
              "</div>\n",
              "    <div class=\"colab-df-buttons\">\n",
              "\n",
              "  <div class=\"colab-df-container\">\n",
              "    <button class=\"colab-df-convert\" onclick=\"convertToInteractive('df-8db05f7a-f0dd-4f9c-a266-c7dd0e7f7c95')\"\n",
              "            title=\"Convert this dataframe to an interactive table.\"\n",
              "            style=\"display:none;\">\n",
              "\n",
              "  <svg xmlns=\"http://www.w3.org/2000/svg\" height=\"24px\" viewBox=\"0 -960 960 960\">\n",
              "    <path d=\"M120-120v-720h720v720H120Zm60-500h600v-160H180v160Zm220 220h160v-160H400v160Zm0 220h160v-160H400v160ZM180-400h160v-160H180v160Zm440 0h160v-160H620v160ZM180-180h160v-160H180v160Zm440 0h160v-160H620v160Z\"/>\n",
              "  </svg>\n",
              "    </button>\n",
              "\n",
              "  <style>\n",
              "    .colab-df-container {\n",
              "      display:flex;\n",
              "      gap: 12px;\n",
              "    }\n",
              "\n",
              "    .colab-df-convert {\n",
              "      background-color: #E8F0FE;\n",
              "      border: none;\n",
              "      border-radius: 50%;\n",
              "      cursor: pointer;\n",
              "      display: none;\n",
              "      fill: #1967D2;\n",
              "      height: 32px;\n",
              "      padding: 0 0 0 0;\n",
              "      width: 32px;\n",
              "    }\n",
              "\n",
              "    .colab-df-convert:hover {\n",
              "      background-color: #E2EBFA;\n",
              "      box-shadow: 0px 1px 2px rgba(60, 64, 67, 0.3), 0px 1px 3px 1px rgba(60, 64, 67, 0.15);\n",
              "      fill: #174EA6;\n",
              "    }\n",
              "\n",
              "    .colab-df-buttons div {\n",
              "      margin-bottom: 4px;\n",
              "    }\n",
              "\n",
              "    [theme=dark] .colab-df-convert {\n",
              "      background-color: #3B4455;\n",
              "      fill: #D2E3FC;\n",
              "    }\n",
              "\n",
              "    [theme=dark] .colab-df-convert:hover {\n",
              "      background-color: #434B5C;\n",
              "      box-shadow: 0px 1px 3px 1px rgba(0, 0, 0, 0.15);\n",
              "      filter: drop-shadow(0px 1px 2px rgba(0, 0, 0, 0.3));\n",
              "      fill: #FFFFFF;\n",
              "    }\n",
              "  </style>\n",
              "\n",
              "    <script>\n",
              "      const buttonEl =\n",
              "        document.querySelector('#df-8db05f7a-f0dd-4f9c-a266-c7dd0e7f7c95 button.colab-df-convert');\n",
              "      buttonEl.style.display =\n",
              "        google.colab.kernel.accessAllowed ? 'block' : 'none';\n",
              "\n",
              "      async function convertToInteractive(key) {\n",
              "        const element = document.querySelector('#df-8db05f7a-f0dd-4f9c-a266-c7dd0e7f7c95');\n",
              "        const dataTable =\n",
              "          await google.colab.kernel.invokeFunction('convertToInteractive',\n",
              "                                                    [key], {});\n",
              "        if (!dataTable) return;\n",
              "\n",
              "        const docLinkHtml = 'Like what you see? Visit the ' +\n",
              "          '<a target=\"_blank\" href=https://colab.research.google.com/notebooks/data_table.ipynb>data table notebook</a>'\n",
              "          + ' to learn more about interactive tables.';\n",
              "        element.innerHTML = '';\n",
              "        dataTable['output_type'] = 'display_data';\n",
              "        await google.colab.output.renderOutput(dataTable, element);\n",
              "        const docLink = document.createElement('div');\n",
              "        docLink.innerHTML = docLinkHtml;\n",
              "        element.appendChild(docLink);\n",
              "      }\n",
              "    </script>\n",
              "  </div>\n",
              "\n",
              "\n",
              "<div id=\"df-46d8668a-4f78-4745-890e-1e904c253cf1\">\n",
              "  <button class=\"colab-df-quickchart\" onclick=\"quickchart('df-46d8668a-4f78-4745-890e-1e904c253cf1')\"\n",
              "            title=\"Suggest charts\"\n",
              "            style=\"display:none;\">\n",
              "\n",
              "<svg xmlns=\"http://www.w3.org/2000/svg\" height=\"24px\"viewBox=\"0 0 24 24\"\n",
              "     width=\"24px\">\n",
              "    <g>\n",
              "        <path d=\"M19 3H5c-1.1 0-2 .9-2 2v14c0 1.1.9 2 2 2h14c1.1 0 2-.9 2-2V5c0-1.1-.9-2-2-2zM9 17H7v-7h2v7zm4 0h-2V7h2v10zm4 0h-2v-4h2v4z\"/>\n",
              "    </g>\n",
              "</svg>\n",
              "  </button>\n",
              "\n",
              "<style>\n",
              "  .colab-df-quickchart {\n",
              "      --bg-color: #E8F0FE;\n",
              "      --fill-color: #1967D2;\n",
              "      --hover-bg-color: #E2EBFA;\n",
              "      --hover-fill-color: #174EA6;\n",
              "      --disabled-fill-color: #AAA;\n",
              "      --disabled-bg-color: #DDD;\n",
              "  }\n",
              "\n",
              "  [theme=dark] .colab-df-quickchart {\n",
              "      --bg-color: #3B4455;\n",
              "      --fill-color: #D2E3FC;\n",
              "      --hover-bg-color: #434B5C;\n",
              "      --hover-fill-color: #FFFFFF;\n",
              "      --disabled-bg-color: #3B4455;\n",
              "      --disabled-fill-color: #666;\n",
              "  }\n",
              "\n",
              "  .colab-df-quickchart {\n",
              "    background-color: var(--bg-color);\n",
              "    border: none;\n",
              "    border-radius: 50%;\n",
              "    cursor: pointer;\n",
              "    display: none;\n",
              "    fill: var(--fill-color);\n",
              "    height: 32px;\n",
              "    padding: 0;\n",
              "    width: 32px;\n",
              "  }\n",
              "\n",
              "  .colab-df-quickchart:hover {\n",
              "    background-color: var(--hover-bg-color);\n",
              "    box-shadow: 0 1px 2px rgba(60, 64, 67, 0.3), 0 1px 3px 1px rgba(60, 64, 67, 0.15);\n",
              "    fill: var(--button-hover-fill-color);\n",
              "  }\n",
              "\n",
              "  .colab-df-quickchart-complete:disabled,\n",
              "  .colab-df-quickchart-complete:disabled:hover {\n",
              "    background-color: var(--disabled-bg-color);\n",
              "    fill: var(--disabled-fill-color);\n",
              "    box-shadow: none;\n",
              "  }\n",
              "\n",
              "  .colab-df-spinner {\n",
              "    border: 2px solid var(--fill-color);\n",
              "    border-color: transparent;\n",
              "    border-bottom-color: var(--fill-color);\n",
              "    animation:\n",
              "      spin 1s steps(1) infinite;\n",
              "  }\n",
              "\n",
              "  @keyframes spin {\n",
              "    0% {\n",
              "      border-color: transparent;\n",
              "      border-bottom-color: var(--fill-color);\n",
              "      border-left-color: var(--fill-color);\n",
              "    }\n",
              "    20% {\n",
              "      border-color: transparent;\n",
              "      border-left-color: var(--fill-color);\n",
              "      border-top-color: var(--fill-color);\n",
              "    }\n",
              "    30% {\n",
              "      border-color: transparent;\n",
              "      border-left-color: var(--fill-color);\n",
              "      border-top-color: var(--fill-color);\n",
              "      border-right-color: var(--fill-color);\n",
              "    }\n",
              "    40% {\n",
              "      border-color: transparent;\n",
              "      border-right-color: var(--fill-color);\n",
              "      border-top-color: var(--fill-color);\n",
              "    }\n",
              "    60% {\n",
              "      border-color: transparent;\n",
              "      border-right-color: var(--fill-color);\n",
              "    }\n",
              "    80% {\n",
              "      border-color: transparent;\n",
              "      border-right-color: var(--fill-color);\n",
              "      border-bottom-color: var(--fill-color);\n",
              "    }\n",
              "    90% {\n",
              "      border-color: transparent;\n",
              "      border-bottom-color: var(--fill-color);\n",
              "    }\n",
              "  }\n",
              "</style>\n",
              "\n",
              "  <script>\n",
              "    async function quickchart(key) {\n",
              "      const quickchartButtonEl =\n",
              "        document.querySelector('#' + key + ' button');\n",
              "      quickchartButtonEl.disabled = true;  // To prevent multiple clicks.\n",
              "      quickchartButtonEl.classList.add('colab-df-spinner');\n",
              "      try {\n",
              "        const charts = await google.colab.kernel.invokeFunction(\n",
              "            'suggestCharts', [key], {});\n",
              "      } catch (error) {\n",
              "        console.error('Error during call to suggestCharts:', error);\n",
              "      }\n",
              "      quickchartButtonEl.classList.remove('colab-df-spinner');\n",
              "      quickchartButtonEl.classList.add('colab-df-quickchart-complete');\n",
              "    }\n",
              "    (() => {\n",
              "      let quickchartButtonEl =\n",
              "        document.querySelector('#df-46d8668a-4f78-4745-890e-1e904c253cf1 button');\n",
              "      quickchartButtonEl.style.display =\n",
              "        google.colab.kernel.accessAllowed ? 'block' : 'none';\n",
              "    })();\n",
              "  </script>\n",
              "</div>\n",
              "    </div>\n",
              "  </div>\n"
            ],
            "application/vnd.google.colaboratory.intrinsic+json": {
              "type": "dataframe",
              "variable_name": "df",
              "summary": "{\n  \"name\": \"df\",\n  \"rows\": 25000,\n  \"fields\": [\n    {\n      \"column\": \"q_N\",\n      \"properties\": {\n        \"dtype\": \"number\",\n        \"std\": 2.9885120180504625,\n        \"min\": 60.00790113473242,\n        \"max\": 85.11918600675594,\n        \"num_unique_values\": 25000,\n        \"samples\": [\n          60.760116097761674,\n          60.010118304820175,\n          60.374211470436265\n        ],\n        \"semantic_type\": \"\",\n        \"description\": \"\"\n      }\n    },\n    {\n      \"column\": \"p_3\",\n      \"properties\": {\n        \"dtype\": \"number\",\n        \"std\": 0.8493499257682413,\n        \"min\": 7.3504446938374475,\n        \"max\": 13.59,\n        \"num_unique_values\": 25000,\n        \"samples\": [\n          7.564148014078036,\n          7.351074586656788,\n          7.454512625381501\n        ],\n        \"semantic_type\": \"\",\n        \"description\": \"\"\n      }\n    },\n    {\n      \"column\": \"p_1\",\n      \"properties\": {\n        \"dtype\": \"number\",\n        \"std\": 0.8214326582329279,\n        \"min\": 15.652248820415295,\n        \"max\": 21.65,\n        \"num_unique_values\": 24999,\n        \"samples\": [\n          15.866243180403158,\n          15.658578518479088,\n          15.75647983000297\n        ],\n        \"semantic_type\": \"\",\n        \"description\": \"\"\n      }\n    },\n    {\n      \"column\": \"q\",\n      \"properties\": {\n        \"dtype\": \"number\",\n        \"std\": 7.327117018308589,\n        \"min\": 0.0,\n        \"max\": 60.07483023831181,\n        \"num_unique_values\": 24999,\n        \"samples\": [\n          60.073242264298415,\n          60.00337139327393,\n          60.04148998051368\n        ],\n        \"semantic_type\": \"\",\n        \"description\": \"\"\n      }\n    },\n    {\n      \"column\": \"h_4\",\n      \"properties\": {\n        \"dtype\": \"number\",\n        \"std\": 105.68685083993873,\n        \"min\": 723.8355238993959,\n        \"max\": 1500.0,\n        \"num_unique_values\": 25000,\n        \"samples\": [\n          750.3906340386923,\n          723.913794043741,\n          736.7669756621317\n        ],\n        \"semantic_type\": \"\",\n        \"description\": \"\"\n      }\n    },\n    {\n      \"column\": \"u\",\n      \"properties\": {\n        \"dtype\": \"number\",\n        \"std\": 0,\n        \"min\": 1,\n        \"max\": 1,\n        \"num_unique_values\": 1,\n        \"samples\": [\n          1\n        ],\n        \"semantic_type\": \"\",\n        \"description\": \"\"\n      }\n    },\n    {\n      \"column\": \"x\",\n      \"properties\": {\n        \"dtype\": \"number\",\n        \"std\": 0.4330386836070008,\n        \"min\": 0.0,\n        \"max\": 1.5,\n        \"num_unique_values\": 25000,\n        \"samples\": [\n          0.4120964838593544\n        ],\n        \"semantic_type\": \"\",\n        \"description\": \"\"\n      }\n    },\n    {\n      \"column\": \"p_4\",\n      \"properties\": {\n        \"dtype\": \"number\",\n        \"std\": 0.0024971148163918915,\n        \"min\": 1.5,\n        \"max\": 1.5163303712083178,\n        \"num_unique_values\": 24999,\n        \"samples\": [\n          1.5159995925137666\n        ],\n        \"semantic_type\": \"\",\n        \"description\": \"\"\n      }\n    },\n    {\n      \"column\": \"p_8\",\n      \"properties\": {\n        \"dtype\": \"number\",\n        \"std\": 0.07302923947809388,\n        \"min\": 1.5,\n        \"max\": 3.443080932884243,\n        \"num_unique_values\": 25000,\n        \"samples\": [\n          2.969226778634016\n        ],\n        \"semantic_type\": \"\",\n        \"description\": \"\"\n      }\n    }\n  ]\n}"
            }
          },
          "metadata": {},
          "execution_count": 305
        }
      ]
    },
    {
      "cell_type": "code",
      "source": [
        "import matplotlib.pyplot as plt\n",
        "plt.figure(figsize=(10, 5))\n",
        "plt.gca().spines[['top', 'right']].set_visible(False)\n",
        "# plot one by one\n",
        "\n",
        "plt.plot(df['x'], df['q_N'], 'r', lw=2)\n",
        "plt.plot(df['x'], df['q'], lw=2)\n",
        "plt.plot(df['x'], [df['q'][k-1]]*k,'r--', lw=1)\n",
        "\n",
        "\n",
        "# set x label\n",
        "plt.xlabel('Сутки')\n",
        "plt.ylabel('Давление')\n",
        "\n",
        "# set title\n",
        "plt.title('Расход')\n",
        "\n",
        "\n",
        "plt.ylim(0, 160)\n",
        "plt.grid(True)\n",
        "\n",
        "plt.annotate('q', xy = (df['x'][500],df['q'][200] ))\n",
        "plt.annotate('qN', xy = (df['x'][500],df['q_N'][200] ))\n",
        "plt.annotate(df['q_N'][k-1].round(1), xy = (df['x'][100], df['q_N'][k-1]*1.03 ))\n",
        "# display plot\n",
        "plt.show()\n"
      ],
      "metadata": {
        "id": "8rW2fuNBhnNm",
        "outputId": "7d57ee7e-9aa3-47e2-f0f8-fba618939789",
        "colab": {
          "base_uri": "https://localhost:8080/",
          "height": 487
        }
      },
      "execution_count": 306,
      "outputs": [
        {
          "output_type": "display_data",
          "data": {
            "text/plain": [
              "<Figure size 1000x500 with 1 Axes>"
            ],
            "image/png": "[encoded data removed]"
          },
          "metadata": {}
        }
      ]
    },
    {
      "cell_type": "code",
      "source": [
        "df['q_N']"
      ],
      "metadata": {
        "id": "dtdorFJJFS99",
        "outputId": "d456ca1d-4192-4019-dd54-a2496e6c62c5",
        "colab": {
          "base_uri": "https://localhost:8080/",
          "height": 458
        }
      },
      "execution_count": 307,
      "outputs": [
        {
          "output_type": "execute_result",
          "data": {
            "text/plain": [
              "0        85.119186\n",
              "1        84.682898\n",
              "2        84.291084\n",
              "3        83.939074\n",
              "4        83.622692\n",
              "           ...    \n",
              "24995    60.007909\n",
              "24996    60.007907\n",
              "24997    60.007905\n",
              "24998    60.007903\n",
              "24999    60.007901\n",
              "Name: q_N, Length: 25000, dtype: float64"
            ],
            "text/html": [
              "<div>\n",
              "<style scoped>\n",
              "    .dataframe tbody tr th:only-of-type {\n",
              "        vertical-align: middle;\n",
              "    }\n",
              "\n",
              "    .dataframe tbody tr th {\n",
              "        vertical-align: top;\n",
              "    }\n",
              "\n",
              "    .dataframe thead th {\n",
              "        text-align: right;\n",
              "    }\n",
              "</style>\n",
              "<table border=\"1\" class=\"dataframe\">\n",
              "  <thead>\n",
              "    <tr style=\"text-align: right;\">\n",
              "      <th></th>\n",
              "      <th>q_N</th>\n",
              "    </tr>\n",
              "  </thead>\n",
              "  <tbody>\n",
              "    <tr>\n",
              "      <th>0</th>\n",
              "      <td>85.119186</td>\n",
              "    </tr>\n",
              "    <tr>\n",
              "      <th>1</th>\n",
              "      <td>84.682898</td>\n",
              "    </tr>\n",
              "    <tr>\n",
              "      <th>2</th>\n",
              "      <td>84.291084</td>\n",
              "    </tr>\n",
              "    <tr>\n",
              "      <th>3</th>\n",
              "      <td>83.939074</td>\n",
              "    </tr>\n",
              "    <tr>\n",
              "      <th>4</th>\n",
              "      <td>83.622692</td>\n",
              "    </tr>\n",
              "    <tr>\n",
              "      <th>...</th>\n",
              "      <td>...</td>\n",
              "    </tr>\n",
              "    <tr>\n",
              "      <th>24995</th>\n",
              "      <td>60.007909</td>\n",
              "    </tr>\n",
              "    <tr>\n",
              "      <th>24996</th>\n",
              "      <td>60.007907</td>\n",
              "    </tr>\n",
              "    <tr>\n",
              "      <th>24997</th>\n",
              "      <td>60.007905</td>\n",
              "    </tr>\n",
              "    <tr>\n",
              "      <th>24998</th>\n",
              "      <td>60.007903</td>\n",
              "    </tr>\n",
              "    <tr>\n",
              "      <th>24999</th>\n",
              "      <td>60.007901</td>\n",
              "    </tr>\n",
              "  </tbody>\n",
              "</table>\n",
              "<p>25000 rows × 1 columns</p>\n",
              "</div><br><label><b>dtype:</b> float64</label>"
            ]
          },
          "metadata": {},
          "execution_count": 307
        }
      ]
    },
    {
      "cell_type": "code",
      "source": [
        "from matplotlib import pyplot as plt\n",
        "plt.figure(figsize=(10, 5))\n",
        "plt.gca().spines[['top', 'right']].set_visible(False)\n",
        "# plot one by one\n",
        "\n",
        "\n",
        "plt.plot(df['x'], df['p_1'],'r', lw=2)\n",
        "plt.plot(df['x'], [df['p_1'][k-1]]*k,'r--', lw=1)\n",
        "\n",
        "plt.plot(df['x'], df['p_3'], lw=2)\n",
        "plt.plot(df['x'], [df['p_3'][k-1]]*k,'b--', lw=1)\n",
        "\n",
        "plt.plot(df['x'], df['p_8'], lw=2)\n",
        "plt.plot(df['x'], [df['p_8'][k-1]]*k,'g--', lw=1)\n",
        "\n",
        "\n",
        "# set x label\n",
        "plt.xlabel('Сутки')\n",
        "plt.ylabel('Давление')\n",
        "\n",
        "# set title\n",
        "plt.title('P(1), P(3), P(8)')\n",
        "\n",
        "\n",
        "plt.ylim(1, 22)\n",
        "plt.grid(True)\n",
        "plt.annotate('P(1)', xy = (df['x'][500],df['p_1'][200] ))\n",
        "plt.annotate(str(df['p_1'][k-1].round(2)), xy = (df['x'][200], df['p_1'][k-1]*1.03))\n",
        "\n",
        "plt.annotate('P(3)', xy = (df['x'][900],8 ))\n",
        "plt.annotate(str(df['p_3'][k-1].round(2)), xy = (df['x'][200], df['p_3'][k-1]*1.03))\n",
        "\n",
        "\n",
        "plt.annotate('P(8)', xy = (df['x'][500],df['p_8'][200] ))\n",
        "#plt.annotate(str(df['p_8'][14999].round(2)), xy = (df['x'][200], df['p_8'][14999]*1.03))\n",
        "\n",
        "# display plot\n",
        "plt.show()"
      ],
      "metadata": {
        "id": "4wtJyoayacfN",
        "outputId": "300e76a2-90e3-4d67-82c2-9a975e557393",
        "colab": {
          "base_uri": "https://localhost:8080/",
          "height": 487
        }
      },
      "execution_count": 308,
      "outputs": [
        {
          "output_type": "display_data",
          "data": {
            "text/plain": [
              "<Figure size 1000x500 with 1 Axes>"
            ],
            "image/png": "[encoded data removed]"
          },
          "metadata": {}
        }
      ]
    },
    {
      "cell_type": "code",
      "source": [
        "str(df['p_1'][k-1].round(2))"
      ],
      "metadata": {
        "id": "DCb6NHEvnvL4",
        "outputId": "783ae182-8fd5-42ee-de84-57ee3e3166dc",
        "colab": {
          "base_uri": "https://localhost:8080/",
          "height": 36
        }
      },
      "execution_count": 309,
      "outputs": [
        {
          "output_type": "execute_result",
          "data": {
            "text/plain": [
              "'15.65'"
            ],
            "application/vnd.google.colaboratory.intrinsic+json": {
              "type": "string"
            }
          },
          "metadata": {},
          "execution_count": 309
        }
      ]
    },
    {
      "cell_type": "code",
      "source": [
        "df.iloc[14999]"
      ],
      "metadata": {
        "id": "8Q-ccWB0c4bR",
        "outputId": "a22af492-c804-4e31-c7f8-73847d82f406",
        "colab": {
          "base_uri": "https://localhost:8080/",
          "height": 366
        }
      },
      "execution_count": 310,
      "outputs": [
        {
          "output_type": "execute_result",
          "data": {
            "text/plain": [
              "q_N     60.097825\n",
              "p_3      7.375992\n",
              "p_1     15.677843\n",
              "q       60.010942\n",
              "h_4    727.010002\n",
              "u        1.000000\n",
              "x        0.899976\n",
              "p_4      1.516291\n",
              "p_8      2.953171\n",
              "Name: 14999, dtype: float64"
            ],
            "text/html": [
              "<div>\n",
              "<style scoped>\n",
              "    .dataframe tbody tr th:only-of-type {\n",
              "        vertical-align: middle;\n",
              "    }\n",
              "\n",
              "    .dataframe tbody tr th {\n",
              "        vertical-align: top;\n",
              "    }\n",
              "\n",
              "    .dataframe thead th {\n",
              "        text-align: right;\n",
              "    }\n",
              "</style>\n",
              "<table border=\"1\" class=\"dataframe\">\n",
              "  <thead>\n",
              "    <tr style=\"text-align: right;\">\n",
              "      <th></th>\n",
              "      <th>14999</th>\n",
              "    </tr>\n",
              "  </thead>\n",
              "  <tbody>\n",
              "    <tr>\n",
              "      <th>q_N</th>\n",
              "      <td>60.097825</td>\n",
              "    </tr>\n",
              "    <tr>\n",
              "      <th>p_3</th>\n",
              "      <td>7.375992</td>\n",
              "    </tr>\n",
              "    <tr>\n",
              "      <th>p_1</th>\n",
              "      <td>15.677843</td>\n",
              "    </tr>\n",
              "    <tr>\n",
              "      <th>q</th>\n",
              "      <td>60.010942</td>\n",
              "    </tr>\n",
              "    <tr>\n",
              "      <th>h_4</th>\n",
              "      <td>727.010002</td>\n",
              "    </tr>\n",
              "    <tr>\n",
              "      <th>u</th>\n",
              "      <td>1.000000</td>\n",
              "    </tr>\n",
              "    <tr>\n",
              "      <th>x</th>\n",
              "      <td>0.899976</td>\n",
              "    </tr>\n",
              "    <tr>\n",
              "      <th>p_4</th>\n",
              "      <td>1.516291</td>\n",
              "    </tr>\n",
              "    <tr>\n",
              "      <th>p_8</th>\n",
              "      <td>2.953171</td>\n",
              "    </tr>\n",
              "  </tbody>\n",
              "</table>\n",
              "</div><br><label><b>dtype:</b> float64</label>"
            ]
          },
          "metadata": {},
          "execution_count": 310
        }
      ]
    },
    {
      "cell_type": "code",
      "source": [
        "from matplotlib import pyplot as plt\n",
        "plt.figure(figsize=(10, 5))\n",
        "\n",
        "plt.plot(df['x'], df['h_4'],'b', lw=2)\n",
        "plt.plot(df['x'], [df['h_4'][k-1]]*k,'b--', lw=1)\n",
        "\n",
        "plt.annotate('h(4)', xy = (df['x'][500],df['h_4'][200] ))\n",
        "plt.annotate(str(df['h_4'][k-1].round(2)), xy = (df['x'][200], df['h_4'][k-1]*1.05))\n",
        "\n",
        "# set x label\n",
        "plt.xlabel('Сутки')\n",
        "plt.ylabel('Уровень')\n",
        "\n",
        "# set title\n",
        "plt.title('h(4)')\n",
        "plt.ylim(200, 1600)\n",
        "plt.grid(True)\n",
        "plt.show()"
      ],
      "metadata": {
        "id": "AX133_gXeHV_",
        "outputId": "635ab1d3-7152-4fbb-b56a-9e2c2c29b798",
        "colab": {
          "base_uri": "https://localhost:8080/",
          "height": 487
        }
      },
      "execution_count": 311,
      "outputs": [
        {
          "output_type": "display_data",
          "data": {
            "text/plain": [
              "<Figure size 1000x500 with 1 Axes>"
            ],
            "image/png": "[encoded data removed]"
          },
          "metadata": {}
        }
      ]
    }
  ]
}