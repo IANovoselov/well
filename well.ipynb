{
  "nbformat": 4,
  "nbformat_minor": 0,
  "metadata": {
    "colab": {
      "provenance": [],
      "toc_visible": true,
      "authorship_tag": "ABX9TyMrhckhpL19EAlqJvv0bCNl",
      "include_colab_link": true
    },
    "kernelspec": {
      "name": "python3",
      "display_name": "Python 3"
    },
    "language_info": {
      "name": "python"
    }
  },
  "cells": [
    {
      "cell_type": "markdown",
      "metadata": {
        "id": "view-in-github",
        "colab_type": "text"
      },
      "source": [
        "<a href=\"https://colab.research.google.com/github/IANovoselov/well/blob/main/well.ipynb\" target=\"_parent\"><img src=\"https://colab.research.google.com/assets/colab-badge.svg\" alt=\"Open In Colab\"/></a>"
      ]
    },
    {
      "cell_type": "code",
      "execution_count": 18,
      "metadata": {
        "id": "N0YZy14WujCD"
      },
      "outputs": [],
      "source": [
        "import numpy as np\n",
        "import pandas as pd"
      ]
    },
    {
      "cell_type": "code",
      "source": [
        "# Исходные данные для моделировния\n",
        "\n",
        "# Фонтанирующая скважина\n",
        "p_R_0 = 32.48  # Среднепластовое давление\n",
        "p_G0 = 25  # Давление насыщенного газа\n",
        "\n",
        "# Нефонтанирующая скважина\n",
        "# p_R = 21  # Среднепластовое давление\n",
        "# p_G0 = 18  # Давление насыщенного газа\n",
        "\n",
        "H_R = 3400  # Глубина забоя по вертикали\n",
        "w_1 = 12.39  # Гидропроводность из пласта в ПЗ скважины\n",
        "r_R = 1/w_1;\n",
        "w_2 = 60  # Гидропроводность из ПЗ в забой\n",
        "betta = 0.41  # Объёмная доля воды\n",
        "\n",
        "# Удельный вес\n",
        "gamma_oil = 0.0074  # нефти\n",
        "gamma_water = 0.011  # воды\n",
        "gamma_gas = 0.000078  # газа\n",
        "G = 100  # Газовый фактор\n",
        "k_G = 0.8\n",
        "p_L = 0.75  # Давление в линии нефтесбора\n",
        "\n",
        "# Гидросопротивление\n",
        "r_K = 0.2  # обсадной колонный\n",
        "r_N = 1.6  # НКТ\n",
        "r_T = 0.8  # затрубного пространства\n",
        "r_U = 3.7  # устьевого штуцера\n",
        "r_GU = 3.3  # перепускного клапана\n",
        "\n",
        "# Параметры насоса\n",
        "H_N = 1195.2  # уровень подвеса\n",
        "h_0 = 997  # номинальный напор\n",
        "q_0 = 90  # номинальный дебит\n",
        "\n",
        "# Напорная характеристика\n",
        "q_Pump = [5/3, 4/3, 2/3]\n",
        "lambda_0 = [10/3, 2, 3/2]\n",
        "lambda_1 = [2, 1, 1/4]\n",
        "lambda_2 = [0.007, 0.82, 0.74]\n",
        "lambda_3 = [0.79, 0.18, 0.3]"
      ],
      "metadata": {
        "id": "ZV2ClIokAvU2"
      },
      "execution_count": 19,
      "outputs": []
    },
    {
      "cell_type": "code",
      "source": [
        "# Моделируемые данные, начальные условия\n",
        "_q_N = []\n",
        "_q_T = []\n",
        "_p_1 = []\n",
        "_p_2 = []\n",
        "_p_3 = []\n",
        "_p_5 = []\n",
        "_p_4 = []\n",
        "_p_8 = []\n",
        "_u = []"
      ],
      "metadata": {
        "id": "iFZbkJ2zA8gc"
      },
      "execution_count": 20,
      "outputs": []
    },
    {
      "cell_type": "code",
      "source": [
        "\n",
        "# Начальное состояние насоса\n",
        "u = 0\n",
        "w = 0\n",
        "\n",
        "num = 1\n",
        "Q_sum = 0\n",
        "q = 0\n",
        "\n",
        "Q_H = 45000\n",
        "Q_K = 120000\n",
        "v_R = 0.7\n",
        "\n",
        "iterations_num = 5000\n",
        "\n",
        "for k in range(iterations_num):\n",
        "\n",
        "    Q_sum += q\n",
        "\n",
        "    if (Q_sum-Q_H)>0 and (Q_sum-Q_K)>0:\n",
        "        betta = (1/(Q_K-Q_H))*((Q_sum-Q_H)-(Q_sum-Q_K))\n",
        "    elif (Q_sum-Q_H)>0 and (Q_sum-Q_K)<=0:\n",
        "        betta = (1/(Q_K-Q_H))*((Q_sum-Q_H))\n",
        "    else:\n",
        "        betta = (1/(Q_K-Q_H))\n",
        "\n",
        "    p_R = p_R_0*(1-v_R*betta)\n",
        "\n",
        "    gamma = (1-betta)*gamma_oil+betta*gamma_water\n",
        "    Y_G = (1-betta)*gamma_gas*G\n",
        "\n",
        "    r12=r_K+((1/w_1)/gamma)\n",
        "    r21=r12\n",
        "    r11=r12+r_N+r_U\n",
        "    r22=r12+r_T+r_GU\n",
        "\n",
        "    dH_R =  (p_R-p_L)/gamma - H_R\n",
        "    gh_1 = u*w*w*h_0*lambda_0[num]+dH_R\n",
        "    gh_2 = dH_R\n",
        "\n",
        "    R = np.array([[u*w*(h_0/q_0)*lambda_1[num]+r11, r12],\n",
        "                  [r12+(Y_G/gamma)*r_GU*u*w*k_G, r22]])\n",
        "\n",
        "    Q = np.linalg.inv(R).dot(np.array([[1], [1]]))\n",
        "\n",
        "    if dH_R > 0:\n",
        "        q_N_porog = dH_R/(r12+u*w*(Y_G/gamma)*r_GU*k_G)\n",
        "\n",
        "        a = h_0*lambda_0[2]\n",
        "        b = (h_0/q_0)*lambda_1[2]*q_N_porog\n",
        "        c = r11*q_N_porog - dH_R\n",
        "\n",
        "        w_porog = (b + np.sqrt(b*b-4*a*c))/(2*a)\n",
        "\n",
        "        if u*w > 0:\n",
        "            if w <= w_porog:\n",
        "                H_4 = 0\n",
        "                H_8 = 0\n",
        "                Q = np.linalg.inv(R).dot(np.array([[gh_1], [gh_2]]))\n",
        "                q_N = Q[0, 0]\n",
        "                q_T = Q[1, 0]\n",
        "            else:\n",
        "                q_T = 0\n",
        "                H_8 = 0\n",
        "                if (gh_1/(u*w*(h_0/q_0)*lambda_1[num]+r11)) > 0 :\n",
        "                    q_N = gh_1/(u*w*(h_0/q_0)*lambda_1[num]+r11)\n",
        "                else:\n",
        "                    q_N = 0\n",
        "\n",
        "            if (((((r_GU*Y_G*k_G+r_R)/gamma)+r_K)*q_N)-dH_R) > 0:\n",
        "                H_4 = ((((r_GU*Y_G*k_G+r_R)/gamma)+r_K)*q_N)-dH_R\n",
        "            else:\n",
        "                H_4 = 0\n",
        "        else:\n",
        "            H_4 = 0\n",
        "            H_8 = 0\n",
        "            Q = np.linalg.inv(R).dot(np.array([[gh_1], [gh_2]]))\n",
        "            q_N = Q[0, 0]\n",
        "            q_T = Q[1, 0]\n",
        "\n",
        "\n",
        "    else:\n",
        "        w_0 = np.sqrt(-dH_R/(h_0*lambda_0[2]))\n",
        "        if u*w > 0:\n",
        "            if w < w_0:\n",
        "                H_4 = -dH_R\n",
        "                H_8 = -dH_R - w*w*h_0*lambda_0[2]\n",
        "                q_N = 0\n",
        "                q_T = 0\n",
        "\n",
        "            else:\n",
        "                q_T = 0\n",
        "                H_8 = 0\n",
        "                if (gh_1/(u*w*(h_0/q_0)*lambda_1[num]+r11)) > 0:\n",
        "                    q_N = gh_1/(u*w*(h_0/q_0)*lambda_1[num]+r11)\n",
        "                else:\n",
        "                    q_N = 0\n",
        "\n",
        "                if ((((r_GU*Y_G*k_G)/gamma)*q_N)-dH_R) > 0:\n",
        "                    H_4 = ((((r_GU*Y_G*k_G+r_R)/gamma)+r_K)*q_N)-dH_R\n",
        "                else:\n",
        "                    H_4 = 0\n",
        "\n",
        "\n",
        "        else:\n",
        "            H_4 = -dH_R\n",
        "            H_8 = -dH_R\n",
        "            q_N = 0\n",
        "            q_T = 0\n",
        "\n",
        "    q = q_N + q_T\n",
        "    if q >= w*q_0*q_Pump[1] and q <= w*q_0*q_Pump[0]:\n",
        "        num = 0\n",
        "    elif q > w*q_0*q_Pump[2] and q < w*q_0*q_Pump[1]:\n",
        "        num = 1\n",
        "    else:\n",
        "        num = 2\n",
        "\n",
        "    p_1 = p_R - r_R*(q_N+q_T)\n",
        "    p_3 = p_1 - gamma*(H_R-H_N+r_K*(q_N+q_T))\n",
        "    p_5 = p_L + gamma * H_N + gamma*(r_N+r_U)*q_N\n",
        "    p_4 = p_L + r_GU*(Y_G*u*k_G*q_N+gamma*q_T)\n",
        "    p_8 = p_L + gamma*r_U*q_N\n",
        "\n",
        "    _q_N.append(q_N)\n",
        "    _q_T.append(q_T)\n",
        "    _p_3.append(p_3)\n",
        "\n",
        "    if k == 1500:\n",
        "      u = 1\n",
        "      w = 1\n",
        "\n",
        "    _u.append(u)\n",
        "\n"
      ],
      "metadata": {
        "id": "wgeNLCOsb_VM",
        "outputId": "da925c1d-67e4-43f2-b0e8-17f604bbb187",
        "colab": {
          "base_uri": "https://localhost:8080/"
        }
      },
      "execution_count": 21,
      "outputs": [
        {
          "output_type": "stream",
          "name": "stderr",
          "text": [
            "<ipython-input-21-c8e4318304fd>:52: RuntimeWarning: invalid value encountered in sqrt\n",
            "  w_porog = (b + np.sqrt(b*b-4*a*c))/(2*a)\n"
          ]
        }
      ]
    },
    {
      "cell_type": "code",
      "source": [
        "df = pd.DataFrame({'q_N': _q_N, 'q_T': _q_T, 'p_3': _p_3, 'u': _u})"
      ],
      "metadata": {
        "id": "t8JOnWGDV0sH"
      },
      "execution_count": 22,
      "outputs": []
    },
    {
      "source": [
        "from matplotlib import pyplot as plt\n",
        "df['q_N'].plot(kind='line', figsize=(8, 4), title='q_N', grid=True)\n",
        "plt.gca().spines[['top', 'right']].set_visible(False)"
      ],
      "cell_type": "code",
      "metadata": {
        "id": "uylOn2bxJAnp",
        "outputId": "d65e6939-7d27-4092-d354-f06a2b2110cd",
        "colab": {
          "base_uri": "https://localhost:8080/",
          "height": 390
        }
      },
      "execution_count": 26,
      "outputs": [
        {
          "output_type": "display_data",
          "data": {
            "text/plain": [
              "<Figure size 800x400 with 1 Axes>"
            ],
            "image/png": "[encoded data removed]"
          },
          "metadata": {}
        }
      ]
    },
    {
      "cell_type": "code",
      "source": [
        "from matplotlib import pyplot as plt\n",
        "df['q_T'].plot(kind='line', figsize=(8, 4), title='p(3)', grid=True)\n",
        "plt.gca().spines[['top', 'right']].set_visible(False)"
      ],
      "metadata": {
        "id": "KcpDhaPrMdw1",
        "outputId": "31ef9b62-ab17-4f9c-eb76-cd397571a223",
        "colab": {
          "base_uri": "https://localhost:8080/",
          "height": 391
        }
      },
      "execution_count": 27,
      "outputs": [
        {
          "output_type": "display_data",
          "data": {
            "text/plain": [
              "<Figure size 800x400 with 1 Axes>"
            ],
            "image/png": "[encoded data removed]"
          },
          "metadata": {}
        }
      ]
    },
    {
      "cell_type": "code",
      "source": [
        "from matplotlib import pyplot as plt\n",
        "df['u'].plot(kind='line', figsize=(8, 4), title='Насос', grid=True)\n",
        "plt.gca().spines[['top', 'right']].set_visible(False)"
      ],
      "metadata": {
        "id": "g7_zT3lYPIfK",
        "outputId": "352db264-9d21-4912-fa0c-27e5a98a2b58",
        "colab": {
          "base_uri": "https://localhost:8080/",
          "height": 391
        }
      },
      "execution_count": 25,
      "outputs": [
        {
          "output_type": "display_data",
          "data": {
            "text/plain": [
              "<Figure size 800x400 with 1 Axes>"
            ],
            "image/png": "[encoded data removed]"
          },
          "metadata": {}
        }
      ]
    }
  ]
}