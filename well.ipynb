{
  "nbformat": 4,
  "nbformat_minor": 0,
  "metadata": {
    "colab": {
      "provenance": [],
      "authorship_tag": "ABX9TyOQ9Hj3FF3qTZlg4G7VN3MD",
      "include_colab_link": true
    },
    "kernelspec": {
      "name": "python3",
      "display_name": "Python 3"
    },
    "language_info": {
      "name": "python"
    }
  },
  "cells": [
    {
      "cell_type": "markdown",
      "metadata": {
        "id": "view-in-github",
        "colab_type": "text"
      },
      "source": [
        "<a href=\"https://colab.research.google.com/github/IANovoselov/well/blob/main/well.ipynb\" target=\"_parent\"><img src=\"https://colab.research.google.com/assets/colab-badge.svg\" alt=\"Open In Colab\"/></a>"
      ]
    },
    {
      "cell_type": "code",
      "execution_count": 414,
      "metadata": {
        "id": "N0YZy14WujCD"
      },
      "outputs": [],
      "source": [
        "import numpy as np\n",
        "import pandas as pd"
      ]
    },
    {
      "cell_type": "code",
      "source": [
        " # Исходные данные для моделировния\n",
        "\n",
        "# Фонтанирующая скважина\n",
        "# p_R = 28  # Среднепластовое давление\n",
        "# p_G0 = 25  # Давление насыщенного газа\n",
        "\n",
        "# Нефонтанирующая скважина\n",
        "p_R = 21.65  # Среднепластовое давление\n",
        "p_G0 = 17.32  # Давление насыщенного газа\n",
        "\n",
        "H_R = 3000  # Глубина забоя по вертикали\n",
        "w_1 = 12  # Гидропроводность из пласта в ПЗ скважины\n",
        "w_2 = 60  # Гидропроводность из ПЗ в забой\n",
        "betta = 0.3  # Объёмная доля воды\n",
        "p_0 = 0.1  # Атмосферное давление\n",
        "\n",
        "# Удельный вес\n",
        "gamma_oil = 0.0068  # нефти\n",
        "gamma_water = 0.011  # воды\n",
        "gamma_gas = 0.000008  # газа\n",
        "G = 100  # Газовый фактор\n",
        "p_L = 1.5  # Давление в линии нефтесбора\n",
        "\n",
        "# Гидросопротивление\n",
        "r_K = 0.5  # обсадной колонный\n",
        "r_N = 4  # НКТ\n",
        "r_T = 0.8  # затрубного пространства\n",
        "r_U = 3  # устьевого штуцера\n",
        "r_GU = 3  # перепускного клапана\n",
        "\n",
        "# Параметры насоса\n",
        "H_N = 2000  # уровень подвеса\n",
        "q_0 = 100  # номинальный дебит\n",
        "\n",
        "# Напорная характеристика\n",
        "q_Pump = [5/3, 4/3, 2/3]\n",
        "lambda_0 = [10/3, 2, 3/2]\n",
        "lambda_1 = [2, 1, 1/4]\n",
        "lambda_2 = [0.5, 0.85, 0.74]\n",
        "lambda_3 = [0.42, 0.18, 0.3]"
      ],
      "metadata": {
        "id": "ZV2ClIokAvU2"
      },
      "execution_count": 415,
      "outputs": []
    },
    {
      "cell_type": "code",
      "source": [
        "# Моделируемые данные, начальные условия\n",
        "_q_N = []\n",
        "_q_T = []\n",
        "__q = []\n",
        "_p_1 = []\n",
        "_p_2 = []\n",
        "_p_3 = []\n",
        "_p_5 = []\n",
        "_p_4 = []\n",
        "_p_8 = []\n",
        "_u = []\n",
        "_h_4 = []"
      ],
      "metadata": {
        "id": "iFZbkJ2zA8gc"
      },
      "execution_count": 416,
      "outputs": []
    },
    {
      "cell_type": "code",
      "source": [
        "# Статический расчёт скважины\n",
        "\n",
        "# Гидросопротивления\n",
        "r_1 = 1/w_1  # Пласт - ПЗ\n",
        "r_2 = 1/w_2  # ПЗ - забой\n",
        "r_R = r_1 + r_2\n",
        "r_R = 0.1"
      ],
      "metadata": {
        "id": "AeMVydD0TX6j"
      },
      "execution_count": 417,
      "outputs": []
    },
    {
      "cell_type": "code",
      "source": [
        "# Ограничения\n",
        "h_lim = 100  # По уровню над приёмом насос\n",
        "betta_G_lim = 0.25  # По газу у первой ступени"
      ],
      "metadata": {
        "id": "OzA0P0qvYEJt"
      },
      "execution_count": 418,
      "outputs": []
    },
    {
      "cell_type": "code",
      "source": [
        "# Высота столба жидкости\n",
        "gamma = (1-betta)*gamma_oil+betta*gamma_water\n",
        "dH_R =  (p_R-p_L)/gamma - H_R\n",
        "dH_R"
      ],
      "metadata": {
        "id": "MBH_PzROWrqa",
        "outputId": "55c1f559-112e-480a-d3e4-08d2857eb16a",
        "colab": {
          "base_uri": "https://localhost:8080/"
        }
      },
      "execution_count": 419,
      "outputs": [
        {
          "output_type": "execute_result",
          "data": {
            "text/plain": [
              "-500.0"
            ]
          },
          "metadata": {},
          "execution_count": 419
        }
      ]
    },
    {
      "cell_type": "code",
      "source": [
        "h_0 = q_0*(r_U + r_N + r_K + r_R/gamma) - dH_R\n",
        "h_0"
      ],
      "metadata": {
        "id": "bJB6xG_5CDdx",
        "outputId": "ccb897c3-0728-4812-b072-347dbc699c00",
        "colab": {
          "base_uri": "https://localhost:8080/"
        }
      },
      "execution_count": 420,
      "outputs": [
        {
          "output_type": "execute_result",
          "data": {
            "text/plain": [
              "2490.694789081886"
            ]
          },
          "metadata": {},
          "execution_count": 420
        }
      ]
    },
    {
      "cell_type": "code",
      "source": [
        "alpha_G_3 = 0.4\n",
        "alpha_betta = 0.333\n",
        "k_S = 0.7\n",
        "X_G = 0.00008\n",
        "\n",
        "M_R3 = (1-betta)*G*((alpha_G_3*p_0) / (p_G0 - p_0))\n",
        "p_G3 = p_G0 * (((1-k_S)*M_R3)/(((1-k_S)*M_R3)+alpha_betta))\n",
        "\n",
        "a_GU = 0.0000091 #k_S*X_G*M_R3"
      ],
      "metadata": {
        "id": "ojGUBRRekLFT"
      },
      "execution_count": 421,
      "outputs": []
    },
    {
      "cell_type": "code",
      "source": [
        "# Расчёт динамики\n",
        "\n",
        "# Начальные условия\n",
        "\n",
        "M_q = 0.5\n",
        "\n",
        "h_4 = H_N + dH_R\n",
        "p_2 = p_R\n",
        "t = 0\n",
        "w = 1\n",
        "q = 0\n",
        "p_3 = p_L + gamma * h_4\n",
        "epsilon = 0.01 * p_3\n",
        "q_L = 0\n",
        "\n",
        "# Сегмент напорной характеристики\n",
        "i = 1\n",
        "k = 25000\n"
      ],
      "metadata": {
        "id": "2BfX0rNuZpdL"
      },
      "execution_count": 422,
      "outputs": []
    },
    {
      "cell_type": "code",
      "source": [
        "# Статика при вариации частоты\n",
        "_N_1 = []\n",
        "_N_2 = []\n",
        "_count = []\n",
        "_n_NN = []\n",
        "\n",
        "_w = np.linspace(0.8, 1.2, 5000)\n",
        "for w in _w:\n",
        "    q_N = (w*w*h_0*lambda_0[i] - H_R + (1/gamma)*(p_R - p_L)) / (w*(h_0/q_0)*lambda_1[i]+r_U+r_N+r_K+(r_R/gamma))\n",
        "\n",
        "\n",
        "    h_N = h_0*(w*w*lambda_0[i]-w*lambda_1[i]*(q_N/q_0))\n",
        "\n",
        "    n_N = 0.5\n",
        "    N_1_0 = (gamma*h_0*q_0)/n_N\n",
        "    N_2 = gamma * h_N * q_N\n",
        "\n",
        "    alpha_n_L =0.4\n",
        "    alpha_n_R =0.28\n",
        "    w_n_L = 0.96\n",
        "    w_n_R = 1.04\n",
        "    delta_n_N = alpha_n_L * max(w_n_L-w, 0) + alpha_n_R * max(w-w_n_R, 0)\n",
        "\n",
        "    N_1 = N_1_0*(1+delta_n_N)*(w*w*w*lambda_2[i] + w*w*lambda_3[i]*(q_N/q_0))\n",
        "\n",
        "    n_NN = N_2/N_1\n",
        "\n",
        "    count = N_1/q_N\n",
        "\n",
        "    _u.append(w)\n",
        "    _q_N.append(q_N)\n",
        "    _N_1.append(N_1)\n",
        "    _N_2.append(N_2)\n",
        "    _count.append(count)\n",
        "    _n_NN.append(n_NN)"
      ],
      "metadata": {
        "id": "tUpm4t4jiVHS"
      },
      "execution_count": 423,
      "outputs": []
    },
    {
      "cell_type": "code",
      "source": [
        "df = pd.DataFrame({'q_N': _q_N,  'u': _u,  'N_1': _N_1,  'N_2': _N_2,  'count': _count,  'n_NN': _n_NN})"
      ],
      "metadata": {
        "id": "Ji0eFqDPjLRn"
      },
      "execution_count": 424,
      "outputs": []
    },
    {
      "cell_type": "code",
      "source": [
        "from matplotlib import pyplot as plt\n",
        "fig, ax = plt.subplots(figsize=(10, 5))\n",
        "fig.subplots_adjust(right=0.75)\n",
        "\n",
        "twin1 = ax.twinx()\n",
        "\n",
        "p1, = ax.plot(df['u'],  df['N_1'],'k--', lw=2, label=\"N1\")\n",
        "p2, = ax.plot(df['u'],  df['N_2'],'k-.', lw=2, label=\"N2\")\n",
        "p3, = twin1.plot(df['u'], df['n_NN'],'k', lw=2, label=\"n\")\n",
        "\n",
        "twin1.set(ylim=(0.46, 0.56))\n",
        "\n",
        "ax.legend(handles=[p1, p2, p3])\n",
        "\n",
        "ax.grid()\n",
        "\n",
        "plt.show()\n"
      ],
      "metadata": {
        "id": "6VMITNDEjFot",
        "outputId": "973ef081-1dfa-4238-e0fc-303c325635dd",
        "colab": {
          "base_uri": "https://localhost:8080/",
          "height": 451
        }
      },
      "execution_count": 425,
      "outputs": [
        {
          "output_type": "display_data",
          "data": {
            "text/plain": [
              "<Figure size 1000x500 with 2 Axes>"
            ],
            "image/png": "[encoded data removed]"
          },
          "metadata": {}
        }
      ]
    },
    {
      "cell_type": "code",
      "source": [
        "from matplotlib import pyplot as plt\n",
        "fig, ax = plt.subplots(figsize=(10, 5))\n",
        "fig.subplots_adjust(right=0.75)\n",
        "\n",
        "twin1 = ax.twinx()\n",
        "\n",
        "p1, = ax.plot(df['u'],  df['q_N'],'k--', lw=2, label=\"q_N\")\n",
        "p2, = twin1.plot(df['u'],  df['count'],'k', lw=2, label=\"count\")\n",
        "\n",
        "ax.set(ylim=(30, 140))\n",
        "twin1.set(ylim=(30, 140))\n",
        "\n",
        "ax.legend(handles=[p1, p2])\n",
        "\n",
        "ax.grid()\n",
        "\n",
        "plt.show()"
      ],
      "metadata": {
        "id": "uAVp_PBgr1hm",
        "outputId": "453698e2-ee1b-4877-954f-e642eef9eb13",
        "colab": {
          "base_uri": "https://localhost:8080/",
          "height": 451
        }
      },
      "execution_count": 439,
      "outputs": [
        {
          "output_type": "display_data",
          "data": {
            "text/plain": [
              "<Figure size 1000x500 with 2 Axes>"
            ],
            "image/png": "[encoded data removed]"
          },
          "metadata": {}
        }
      ]
    },
    {
      "cell_type": "code",
      "source": [
        "# Начало расчёта\n",
        "for _k in range(k):\n",
        "\n",
        "    q = (p_2 - p_3 - gamma*(H_R-H_N)) / (r_1 + gamma * r_K)\n",
        "    p_4 = (p_L + (p_G0 - p_3) * r_GU * np.sqrt(w) * a_GU * q)\n",
        "    __p_3 = p_4 + gamma * h_4\n",
        "    # Балансировка притока по начальным условиям\n",
        "    while abs(p_3 - __p_3) > epsilon:\n",
        "        p_3 = (1-M_q)*p_3 + M_q*__p_3\n",
        "        q = (p_2 - p_3 - gamma*(H_R-H_N)) / (r_1 + gamma * r_K)\n",
        "        p_4 = (p_L + (p_G0 - p_3) * r_GU * np.sqrt(w) * a_GU * q)\n",
        "        __p_3 = p_4 + gamma * h_4\n",
        "\n",
        "    p_3 = __p_3\n",
        "\n",
        "    p_8 =p_L + gamma*r_U*q_L\n",
        "\n",
        "    # Расчёт подачи\n",
        "\n",
        "    q_N = (w*w*h_0*lambda_0[i] - H_N + (1/gamma)*(p_3 - p_8)) / (w*(h_0/q_0)*lambda_1[i]+r_N)\n",
        "    q_N = max(q_N, 0)\n",
        "\n",
        "    if  q_N > w*q_0*q_Pump[i]:\n",
        "      i-=1\n",
        "      i = max(i, 0)\n",
        "      q_N = (w*w*h_0*lambda_0[i] - H_N + (1/gamma)*(p_3 - p_8)) / (w*(h_0/q_0)*lambda_1[i]+r_N)\n",
        "      q_N = max(q_N, 0)\n",
        "\n",
        "    if  q_N < w*q_0*q_Pump[i+1]:\n",
        "      i+=1\n",
        "      q_N = (w*w*h_0*lambda_0[i] - H_N + (1/gamma)*(p_3 - p_8)) / (w*(h_0/q_0)*lambda_1[i]+r_N)\n",
        "      q_N = max(q_N, 0)\n",
        "\n",
        "\n",
        "\n",
        "    betta_G3 = (M_R3*(p_G0 - p_3)) / (p_3 + M_R3*(p_G0 - p_3))\n",
        "    M_RS = (1 - k_S*np.sqrt(w))* M_R3\n",
        "    betta_GN = (M_RS*(p_G0 - p_3)) / (p_3 + M_RS*(p_G0 - p_3))\n",
        "\n",
        "    # Шаг по Эйлеру\n",
        "\n",
        "    p_1 = p_2 - r_1*q\n",
        "    p_5 = p_8 + gamma*(H_N+r_R*q_N)\n",
        "\n",
        "    _p_1.append(p_1)\n",
        "    _p_3.append(p_3)\n",
        "    _p_4.append(p_4)\n",
        "    _p_8.append(p_8)\n",
        "    _q_N.append(q_N)\n",
        "    __q.append(q)\n",
        "    _h_4.append(h_4)\n",
        "    _u.append(w)\n",
        "\n",
        "    p_2 = p_2 + (0.0001/0.4)*(p_R - p_2 - r_2*q)\n",
        "    h_4 = h_4 + (0.0001/0.01)*(q-q_N)\n",
        "    q_L = q_L + (0.0001/0.001)*(q_N-q_L)\n",
        "\n"
      ],
      "metadata": {
        "id": "WA8XTqw5laeO"
      },
      "execution_count": 427,
      "outputs": []
    },
    {
      "cell_type": "markdown",
      "source": [],
      "metadata": {
        "id": "GQ9c3dLcfTU5"
      }
    },
    {
      "cell_type": "code",
      "source": [
        "\n",
        "x = np.linspace(0, 1.5, k)\n",
        "x"
      ],
      "metadata": {
        "id": "pp2qJH-gbQGG",
        "outputId": "296dde99-ed9b-4bd1-8169-69b04a65f594",
        "colab": {
          "base_uri": "https://localhost:8080/"
        }
      },
      "execution_count": 428,
      "outputs": [
        {
          "output_type": "execute_result",
          "data": {
            "text/plain": [
              "array([0.00000000e+00, 6.00024001e-05, 1.20004800e-04, ...,\n",
              "       1.49988000e+00, 1.49994000e+00, 1.50000000e+00])"
            ]
          },
          "metadata": {},
          "execution_count": 428
        }
      ]
    },
    {
      "cell_type": "code",
      "source": [
        "df = pd.DataFrame({'q_N': _q_N, 'p_3': _p_3, 'p_1': _p_1, 'q': __q, 'h_4': _h_4, 'u': _u, 'x': x,\n",
        "                   'p_4': _p_4, 'p_8': _p_8})"
      ],
      "metadata": {
        "id": "3VoIFG_wvc09",
        "outputId": "c2494541-ec8a-44dd-ab11-d343d89dda58",
        "colab": {
          "base_uri": "https://localhost:8080/",
          "height": 304
        }
      },
      "execution_count": 429,
      "outputs": [
        {
          "output_type": "error",
          "ename": "ValueError",
          "evalue": "All arrays must be of the same length",
          "traceback": [
            "\u001b[0;31m---------------------------------------------------------------------------\u001b[0m",
            "\u001b[0;31mValueError\u001b[0m                                Traceback (most recent call last)",
            "\u001b[0;32m<ipython-input-429-43c32200bc4a>\u001b[0m in \u001b[0;36m<cell line: 1>\u001b[0;34m()\u001b[0m\n\u001b[0;32m----> 1\u001b[0;31m df = pd.DataFrame({'q_N': _q_N, 'p_3': _p_3, 'p_1': _p_1, 'q': __q, 'h_4': _h_4, 'u': _u, 'x': x,\n\u001b[0m\u001b[1;32m      2\u001b[0m                    'p_4': _p_4, 'p_8': _p_8})\n",
            "\u001b[0;32m/usr/local/lib/python3.10/dist-packages/pandas/core/frame.py\u001b[0m in \u001b[0;36m__init__\u001b[0;34m(self, data, index, columns, dtype, copy)\u001b[0m\n\u001b[1;32m    776\u001b[0m         \u001b[0;32melif\u001b[0m \u001b[0misinstance\u001b[0m\u001b[0;34m(\u001b[0m\u001b[0mdata\u001b[0m\u001b[0;34m,\u001b[0m \u001b[0mdict\u001b[0m\u001b[0;34m)\u001b[0m\u001b[0;34m:\u001b[0m\u001b[0;34m\u001b[0m\u001b[0;34m\u001b[0m\u001b[0m\n\u001b[1;32m    777\u001b[0m             \u001b[0;31m# GH#38939 de facto copy defaults to False only in non-dict cases\u001b[0m\u001b[0;34m\u001b[0m\u001b[0;34m\u001b[0m\u001b[0m\n\u001b[0;32m--> 778\u001b[0;31m             \u001b[0mmgr\u001b[0m \u001b[0;34m=\u001b[0m \u001b[0mdict_to_mgr\u001b[0m\u001b[0;34m(\u001b[0m\u001b[0mdata\u001b[0m\u001b[0;34m,\u001b[0m \u001b[0mindex\u001b[0m\u001b[0;34m,\u001b[0m \u001b[0mcolumns\u001b[0m\u001b[0;34m,\u001b[0m \u001b[0mdtype\u001b[0m\u001b[0;34m=\u001b[0m\u001b[0mdtype\u001b[0m\u001b[0;34m,\u001b[0m \u001b[0mcopy\u001b[0m\u001b[0;34m=\u001b[0m\u001b[0mcopy\u001b[0m\u001b[0;34m,\u001b[0m \u001b[0mtyp\u001b[0m\u001b[0;34m=\u001b[0m\u001b[0mmanager\u001b[0m\u001b[0;34m)\u001b[0m\u001b[0;34m\u001b[0m\u001b[0;34m\u001b[0m\u001b[0m\n\u001b[0m\u001b[1;32m    779\u001b[0m         \u001b[0;32melif\u001b[0m \u001b[0misinstance\u001b[0m\u001b[0;34m(\u001b[0m\u001b[0mdata\u001b[0m\u001b[0;34m,\u001b[0m \u001b[0mma\u001b[0m\u001b[0;34m.\u001b[0m\u001b[0mMaskedArray\u001b[0m\u001b[0;34m)\u001b[0m\u001b[0;34m:\u001b[0m\u001b[0;34m\u001b[0m\u001b[0;34m\u001b[0m\u001b[0m\n\u001b[1;32m    780\u001b[0m             \u001b[0;32mfrom\u001b[0m \u001b[0mnumpy\u001b[0m\u001b[0;34m.\u001b[0m\u001b[0mma\u001b[0m \u001b[0;32mimport\u001b[0m \u001b[0mmrecords\u001b[0m\u001b[0;34m\u001b[0m\u001b[0;34m\u001b[0m\u001b[0m\n",
            "\u001b[0;32m/usr/local/lib/python3.10/dist-packages/pandas/core/internals/construction.py\u001b[0m in \u001b[0;36mdict_to_mgr\u001b[0;34m(data, index, columns, dtype, typ, copy)\u001b[0m\n\u001b[1;32m    501\u001b[0m             \u001b[0marrays\u001b[0m \u001b[0;34m=\u001b[0m \u001b[0;34m[\u001b[0m\u001b[0mx\u001b[0m\u001b[0;34m.\u001b[0m\u001b[0mcopy\u001b[0m\u001b[0;34m(\u001b[0m\u001b[0;34m)\u001b[0m \u001b[0;32mif\u001b[0m \u001b[0mhasattr\u001b[0m\u001b[0;34m(\u001b[0m\u001b[0mx\u001b[0m\u001b[0;34m,\u001b[0m \u001b[0;34m\"dtype\"\u001b[0m\u001b[0;34m)\u001b[0m \u001b[0;32melse\u001b[0m \u001b[0mx\u001b[0m \u001b[0;32mfor\u001b[0m \u001b[0mx\u001b[0m \u001b[0;32min\u001b[0m \u001b[0marrays\u001b[0m\u001b[0;34m]\u001b[0m\u001b[0;34m\u001b[0m\u001b[0;34m\u001b[0m\u001b[0m\n\u001b[1;32m    502\u001b[0m \u001b[0;34m\u001b[0m\u001b[0m\n\u001b[0;32m--> 503\u001b[0;31m     \u001b[0;32mreturn\u001b[0m \u001b[0marrays_to_mgr\u001b[0m\u001b[0;34m(\u001b[0m\u001b[0marrays\u001b[0m\u001b[0;34m,\u001b[0m \u001b[0mcolumns\u001b[0m\u001b[0;34m,\u001b[0m \u001b[0mindex\u001b[0m\u001b[0;34m,\u001b[0m \u001b[0mdtype\u001b[0m\u001b[0;34m=\u001b[0m\u001b[0mdtype\u001b[0m\u001b[0;34m,\u001b[0m \u001b[0mtyp\u001b[0m\u001b[0;34m=\u001b[0m\u001b[0mtyp\u001b[0m\u001b[0;34m,\u001b[0m \u001b[0mconsolidate\u001b[0m\u001b[0;34m=\u001b[0m\u001b[0mcopy\u001b[0m\u001b[0;34m)\u001b[0m\u001b[0;34m\u001b[0m\u001b[0;34m\u001b[0m\u001b[0m\n\u001b[0m\u001b[1;32m    504\u001b[0m \u001b[0;34m\u001b[0m\u001b[0m\n\u001b[1;32m    505\u001b[0m \u001b[0;34m\u001b[0m\u001b[0m\n",
            "\u001b[0;32m/usr/local/lib/python3.10/dist-packages/pandas/core/internals/construction.py\u001b[0m in \u001b[0;36marrays_to_mgr\u001b[0;34m(arrays, columns, index, dtype, verify_integrity, typ, consolidate)\u001b[0m\n\u001b[1;32m    112\u001b[0m         \u001b[0;31m# figure out the index, if necessary\u001b[0m\u001b[0;34m\u001b[0m\u001b[0;34m\u001b[0m\u001b[0m\n\u001b[1;32m    113\u001b[0m         \u001b[0;32mif\u001b[0m \u001b[0mindex\u001b[0m \u001b[0;32mis\u001b[0m \u001b[0;32mNone\u001b[0m\u001b[0;34m:\u001b[0m\u001b[0;34m\u001b[0m\u001b[0;34m\u001b[0m\u001b[0m\n\u001b[0;32m--> 114\u001b[0;31m             \u001b[0mindex\u001b[0m \u001b[0;34m=\u001b[0m \u001b[0m_extract_index\u001b[0m\u001b[0;34m(\u001b[0m\u001b[0marrays\u001b[0m\u001b[0;34m)\u001b[0m\u001b[0;34m\u001b[0m\u001b[0;34m\u001b[0m\u001b[0m\n\u001b[0m\u001b[1;32m    115\u001b[0m         \u001b[0;32melse\u001b[0m\u001b[0;34m:\u001b[0m\u001b[0;34m\u001b[0m\u001b[0;34m\u001b[0m\u001b[0m\n\u001b[1;32m    116\u001b[0m             \u001b[0mindex\u001b[0m \u001b[0;34m=\u001b[0m \u001b[0mensure_index\u001b[0m\u001b[0;34m(\u001b[0m\u001b[0mindex\u001b[0m\u001b[0;34m)\u001b[0m\u001b[0;34m\u001b[0m\u001b[0;34m\u001b[0m\u001b[0m\n",
            "\u001b[0;32m/usr/local/lib/python3.10/dist-packages/pandas/core/internals/construction.py\u001b[0m in \u001b[0;36m_extract_index\u001b[0;34m(data)\u001b[0m\n\u001b[1;32m    675\u001b[0m         \u001b[0mlengths\u001b[0m \u001b[0;34m=\u001b[0m \u001b[0mlist\u001b[0m\u001b[0;34m(\u001b[0m\u001b[0mset\u001b[0m\u001b[0;34m(\u001b[0m\u001b[0mraw_lengths\u001b[0m\u001b[0;34m)\u001b[0m\u001b[0;34m)\u001b[0m\u001b[0;34m\u001b[0m\u001b[0;34m\u001b[0m\u001b[0m\n\u001b[1;32m    676\u001b[0m         \u001b[0;32mif\u001b[0m \u001b[0mlen\u001b[0m\u001b[0;34m(\u001b[0m\u001b[0mlengths\u001b[0m\u001b[0;34m)\u001b[0m \u001b[0;34m>\u001b[0m \u001b[0;36m1\u001b[0m\u001b[0;34m:\u001b[0m\u001b[0;34m\u001b[0m\u001b[0;34m\u001b[0m\u001b[0m\n\u001b[0;32m--> 677\u001b[0;31m             \u001b[0;32mraise\u001b[0m \u001b[0mValueError\u001b[0m\u001b[0;34m(\u001b[0m\u001b[0;34m\"All arrays must be of the same length\"\u001b[0m\u001b[0;34m)\u001b[0m\u001b[0;34m\u001b[0m\u001b[0;34m\u001b[0m\u001b[0m\n\u001b[0m\u001b[1;32m    678\u001b[0m \u001b[0;34m\u001b[0m\u001b[0m\n\u001b[1;32m    679\u001b[0m         \u001b[0;32mif\u001b[0m \u001b[0mhave_dicts\u001b[0m\u001b[0;34m:\u001b[0m\u001b[0;34m\u001b[0m\u001b[0;34m\u001b[0m\u001b[0m\n",
            "\u001b[0;31mValueError\u001b[0m: All arrays must be of the same length"
          ]
        }
      ]
    },
    {
      "cell_type": "code",
      "source": [
        "df"
      ],
      "metadata": {
        "id": "tsFwHH7qkkJa"
      },
      "execution_count": null,
      "outputs": []
    },
    {
      "cell_type": "code",
      "source": [
        "import matplotlib.pyplot as plt\n",
        "plt.figure(figsize=(10, 5))\n",
        "plt.gca().spines[['top', 'right']].set_visible(False)\n",
        "# plot one by one\n",
        "\n",
        "plt.plot(df['x'], df['q_N'], 'r', lw=2)\n",
        "plt.plot(df['x'], df['q'], lw=2)\n",
        "plt.plot(df['x'], [df['q'][k-1]]*k,'r--', lw=1)\n",
        "\n",
        "\n",
        "# set x label\n",
        "plt.xlabel('Сутки')\n",
        "plt.ylabel('Давление')\n",
        "\n",
        "# set title\n",
        "plt.title('Расход')\n",
        "\n",
        "\n",
        "plt.ylim(0, 160)\n",
        "plt.grid(True)\n",
        "\n",
        "plt.annotate('q', xy = (df['x'][500],df['q'][200] ))\n",
        "plt.annotate('qN', xy = (df['x'][500],df['q_N'][200] ))\n",
        "plt.annotate(df['q_N'][k-1].round(1), xy = (df['x'][100], df['q_N'][k-1]*1.03 ))\n",
        "# display plot\n",
        "plt.show()\n"
      ],
      "metadata": {
        "id": "8rW2fuNBhnNm"
      },
      "execution_count": null,
      "outputs": []
    },
    {
      "cell_type": "code",
      "source": [
        "df['q_N']"
      ],
      "metadata": {
        "id": "dtdorFJJFS99"
      },
      "execution_count": null,
      "outputs": []
    },
    {
      "cell_type": "code",
      "source": [
        "from matplotlib import pyplot as plt\n",
        "plt.figure(figsize=(10, 5))\n",
        "plt.gca().spines[['top', 'right']].set_visible(False)\n",
        "# plot one by one\n",
        "\n",
        "\n",
        "plt.plot(df['x'], df['p_1'],'r', lw=2)\n",
        "plt.plot(df['x'], [df['p_1'][k-1]]*k,'r--', lw=1)\n",
        "\n",
        "plt.plot(df['x'], df['p_3'], lw=2)\n",
        "plt.plot(df['x'], [df['p_3'][k-1]]*k,'b--', lw=1)\n",
        "\n",
        "plt.plot(df['x'], df['p_8'], lw=2)\n",
        "plt.plot(df['x'], [df['p_8'][k-1]]*k,'g--', lw=1)\n",
        "\n",
        "\n",
        "# set x label\n",
        "plt.xlabel('Сутки')\n",
        "plt.ylabel('Давление')\n",
        "\n",
        "# set title\n",
        "plt.title('P(1), P(3), P(8)')\n",
        "\n",
        "\n",
        "plt.ylim(1, 22)\n",
        "plt.grid(True)\n",
        "plt.annotate('P(1)', xy = (df['x'][500],df['p_1'][200] ))\n",
        "plt.annotate(str(df['p_1'][k-1].round(2)), xy = (df['x'][200], df['p_1'][k-1]*1.03))\n",
        "\n",
        "plt.annotate('P(3)', xy = (df['x'][900],8 ))\n",
        "plt.annotate(str(df['p_3'][k-1].round(2)), xy = (df['x'][200], df['p_3'][k-1]*1.03))\n",
        "\n",
        "\n",
        "plt.annotate('P(8)', xy = (df['x'][500],df['p_8'][200] ))\n",
        "#plt.annotate(str(df['p_8'][14999].round(2)), xy = (df['x'][200], df['p_8'][14999]*1.03))\n",
        "\n",
        "# display plot\n",
        "plt.show()"
      ],
      "metadata": {
        "id": "4wtJyoayacfN"
      },
      "execution_count": null,
      "outputs": []
    },
    {
      "cell_type": "code",
      "source": [
        "str(df['p_1'][k-1].round(2))"
      ],
      "metadata": {
        "id": "DCb6NHEvnvL4"
      },
      "execution_count": null,
      "outputs": []
    },
    {
      "cell_type": "code",
      "source": [
        "df.iloc[14999]"
      ],
      "metadata": {
        "id": "8Q-ccWB0c4bR"
      },
      "execution_count": null,
      "outputs": []
    },
    {
      "cell_type": "code",
      "source": [
        "from matplotlib import pyplot as plt\n",
        "plt.figure(figsize=(10, 5))\n",
        "\n",
        "plt.plot(df['x'], df['h_4'],'b', lw=2)\n",
        "plt.plot(df['x'], [df['h_4'][k-1]]*k,'b--', lw=1)\n",
        "\n",
        "plt.annotate('h(4)', xy = (df['x'][500],df['h_4'][200] ))\n",
        "plt.annotate(str(df['h_4'][k-1].round(2)), xy = (df['x'][200], df['h_4'][k-1]*1.05))\n",
        "\n",
        "# set x label\n",
        "plt.xlabel('Сутки')\n",
        "plt.ylabel('Уровень')\n",
        "\n",
        "# set title\n",
        "plt.title('h(4)')\n",
        "plt.ylim(200, 1600)\n",
        "plt.grid(True)\n",
        "plt.show()"
      ],
      "metadata": {
        "id": "AX133_gXeHV_"
      },
      "execution_count": null,
      "outputs": []
    }
  ]
}