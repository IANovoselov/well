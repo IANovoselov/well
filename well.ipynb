{
  "nbformat": 4,
  "nbformat_minor": 0,
  "metadata": {
    "colab": {
      "provenance": [],
      "authorship_tag": "ABX9TyPJg4h4FUdBoBoQflI6ibez",
      "include_colab_link": true
    },
    "kernelspec": {
      "name": "python3",
      "display_name": "Python 3"
    },
    "language_info": {
      "name": "python"
    }
  },
  "cells": [
    {
      "cell_type": "markdown",
      "metadata": {
        "id": "view-in-github",
        "colab_type": "text"
      },
      "source": [
        "<a href=\"https://colab.research.google.com/github/IANovoselov/well/blob/main/well.ipynb\" target=\"_parent\"><img src=\"https://colab.research.google.com/assets/colab-badge.svg\" alt=\"Open In Colab\"/></a>"
      ]
    },
    {
      "cell_type": "code",
      "execution_count": 149,
      "metadata": {
        "id": "N0YZy14WujCD"
      },
      "outputs": [],
      "source": [
        "import numpy as np\n",
        "import pandas as pd"
      ]
    },
    {
      "cell_type": "code",
      "source": [
        "# Исходные данные для моделировния\n",
        "\n",
        "# Фонтанирующая скважина\n",
        "# p_R = 28  # Среднепластовое давление\n",
        "# p_G0 = 25  # Давление насыщенного газа\n",
        "\n",
        "# Нефонтанирующая скважина\n",
        "p_R = 21.65  # Среднепластовое давление\n",
        "p_G0 = 17.32  # Давление насыщенного газа\n",
        "\n",
        "H_R = 3000  # Глубина забоя по вертикали\n",
        "w_1 = 12  # Гидропроводность из пласта в ПЗ скважины\n",
        "w_2 = 60  # Гидропроводность из ПЗ в забой\n",
        "betta = 0.3  # Объёмная доля воды\n",
        "p_0 = 0.1  # Атмосферное давление\n",
        "\n",
        "# Удельный вес\n",
        "gamma_oil = 0.0068  # нефти\n",
        "gamma_water = 0.011  # воды\n",
        "gamma_gas = 0.000008  # газа\n",
        "G = 100  # Газовый фактор\n",
        "p_L = 1.5  # Давление в линии нефтесбора\n",
        "\n",
        "# Гидросопротивление\n",
        "r_K = 0.5  # обсадной колонный\n",
        "r_N = 4  # НКТ\n",
        "r_T = 0.8  # затрубного пространства\n",
        "r_U = 2  # устьевого штуцера\n",
        "r_GU = 2  # перепускного клапана\n",
        "\n",
        "# Параметры насоса\n",
        "H_N = 2000  # уровень подвеса\n",
        "q_0 = 60  # номинальный дебит\n",
        "\n",
        "# Напорная характеристика\n",
        "q_Pump = [5/3, 4/3, 2/3]\n",
        "lambda_0 = [10/3, 2, 3/2]\n",
        "lambda_1 = [2, 1, 1/4]"
      ],
      "metadata": {
        "id": "ZV2ClIokAvU2"
      },
      "execution_count": 150,
      "outputs": []
    },
    {
      "cell_type": "code",
      "source": [
        "# Моделируемые данные, начальные условия\n",
        "_q_N = []\n",
        "_q_T = []\n",
        "__q = []\n",
        "_p_1 = []\n",
        "_p_2 = []\n",
        "_p_3 = []\n",
        "_p_5 = []\n",
        "_p_4 = []\n",
        "_p_8 = []\n",
        "_u = []\n",
        "_h_4 = []"
      ],
      "metadata": {
        "id": "iFZbkJ2zA8gc"
      },
      "execution_count": 151,
      "outputs": []
    },
    {
      "cell_type": "code",
      "source": [
        "# Статический расчёт скважины\n",
        "\n",
        "# Гидросопротивления\n",
        "r_1 = 1/w_1  # Пласт - ПЗ\n",
        "r_2 = 1/w_2  # ПЗ - забой\n",
        "r_R = r_1 + r_2\n",
        "r_R"
      ],
      "metadata": {
        "id": "AeMVydD0TX6j",
        "outputId": "e22d3b15-16b2-4f13-a21f-968cfe44b089",
        "colab": {
          "base_uri": "https://localhost:8080/"
        }
      },
      "execution_count": 152,
      "outputs": [
        {
          "output_type": "execute_result",
          "data": {
            "text/plain": [
              "0.09999999999999999"
            ]
          },
          "metadata": {},
          "execution_count": 152
        }
      ]
    },
    {
      "cell_type": "code",
      "source": [
        "# Ограничения\n",
        "h_lim = 100  # По уровню над приёмом насос\n",
        "betta_G_lim = 0.25  # По газу у первой ступени"
      ],
      "metadata": {
        "id": "OzA0P0qvYEJt"
      },
      "execution_count": 153,
      "outputs": []
    },
    {
      "cell_type": "code",
      "source": [
        "# Высота столба жидкости\n",
        "gamma = (1-betta)*gamma_oil+betta*gamma_water\n",
        "dH_R =  (p_R-p_L)/gamma - H_R\n",
        "dH_R"
      ],
      "metadata": {
        "id": "MBH_PzROWrqa",
        "outputId": "0f39b52a-027c-4787-e3a6-70914df6e90c",
        "colab": {
          "base_uri": "https://localhost:8080/"
        }
      },
      "execution_count": 154,
      "outputs": [
        {
          "output_type": "execute_result",
          "data": {
            "text/plain": [
              "-500.0"
            ]
          },
          "metadata": {},
          "execution_count": 154
        }
      ]
    },
    {
      "cell_type": "code",
      "source": [
        "h_0 = q_0*(r_U + r_N + r_K + r_R/gamma) - dH_R"
      ],
      "metadata": {
        "id": "bJB6xG_5CDdx"
      },
      "execution_count": 155,
      "outputs": []
    },
    {
      "cell_type": "code",
      "source": [
        "alpha_G_3 = 0.4\n",
        "alpha_betta = 0.333\n",
        "k_S = 0.7\n",
        "X_G = 0.00008\n",
        "\n",
        "M_R3 = (1-betta)*G*((alpha_G_3*p_0) / (p_G0 - p_0))\n",
        "p_G3 = p_G0 * (((1-k_S)*M_R3)/(((1-k_S)*M_R3)+alpha_betta))\n",
        "\n",
        "a_GU = k_S*X_G*M_R3"
      ],
      "metadata": {
        "id": "ojGUBRRekLFT"
      },
      "execution_count": 156,
      "outputs": []
    },
    {
      "cell_type": "code",
      "source": [
        "# Расчёт динамики\n",
        "\n",
        "# Начальные условия\n",
        "\n",
        "M_q = 0.5\n",
        "\n",
        "h_4 = H_N + dH_R\n",
        "p_2 = p_R\n",
        "t = 0\n",
        "w = 1\n",
        "q = 0\n",
        "p_3 = p_L + gamma * h_4\n",
        "epsilon = 0.01 * p_3\n",
        "\n",
        "# Сегмент напорной характеристики\n",
        "i = 1\n",
        "\n",
        "q = (p_2 - p_3 - gamma*(H_R-H_N)) / (r_1 + gamma * r_K)\n",
        "__p_3 = (p_L + p_G0 * r_GU * np.sqrt(w) * a_GU * q + gamma * h_4) / (1 + r_GU * np.sqrt(w) * a_GU * q)\n",
        "# Балансировка притока по начальным условиям\n",
        "while abs(p_3 - __p_3) > epsilon:\n",
        "    p_3 = (1 - M_q)*p_3 + M_q *__p_3\n",
        "    q = (p_2 - p_3 - gamma*(H_R-H_N)) / (r_1 + gamma * r_K)\n",
        "    __p_3 = (p_L + p_G0 * r_GU * np.sqrt(w) * a_GU * q_0 + gamma * h_4) / (1 + r_GU * np.sqrt(w) * a_GU * q_0)"
      ],
      "metadata": {
        "id": "2BfX0rNuZpdL"
      },
      "execution_count": 157,
      "outputs": []
    },
    {
      "cell_type": "code",
      "source": [
        "# Начало расчёта\n",
        "for k in range(15000):\n",
        "\n",
        "    p_3 = (p_L + p_G0 * r_GU * np.sqrt(w) * a_GU * q + gamma * h_4) / (1 + r_GU * np.sqrt(w) * a_GU * q)\n",
        "    q = (p_2 - p_3 - gamma*(H_R-H_N)) / (r_1 + gamma * r_K)\n",
        "\n",
        "\n",
        "    # Расчёт подачи\n",
        "\n",
        "    q_N = (w*w*h_0*lambda_0[i] - H_N + (1/gamma)*(p_3 - p_L)) / (w*(h_0/q_0)*lambda_1[i]+r_U+r_N)\n",
        "    q_N = max(q_N, 0)\n",
        "\n",
        "    if w*q_0*q_Pump[0] <= q_N <= w*q_0*q_Pump[1]:\n",
        "        i = 0\n",
        "        q_N = (w*w*h_0*lambda_0[i] - H_N + (1/gamma)*(p_3 - p_L)) / (w*(h_0/q_0)*lambda_1[i]+r_U+r_N)\n",
        "        q_N = max(q_N, 0)\n",
        "\n",
        "    if w*q_0*q_Pump[1] < q_N < w*q_0*q_Pump[2]:\n",
        "        i = 1\n",
        "        q_N = (w*w*h_0*lambda_0[i] - H_N + (1/gamma)*(p_3 - p_L)) / (w*(h_0/q_0)*lambda_1[i]+r_U+r_N)\n",
        "        q_N = max(q_N, 0)\n",
        "\n",
        "    if w*q_0*q_Pump[1] <= q_N <= w*q_0*q_Pump[2]:\n",
        "        i = 2\n",
        "        q_N = (w*w*h_0*lambda_0[i] - H_N + (1/gamma)*(p_3 - p_L)) / (w*(h_0/q_0)*lambda_1[i]+r_U+r_N)\n",
        "        q_N = max(q_N, 0)\n",
        "\n",
        "\n",
        "\n",
        "    betta_G3 = (M_R3*(p_G0 - p_3)) / (p_3 + M_R3*(p_G0 - p_3))\n",
        "    M_RS = (1 - k_S*np.sqrt(w))* M_R3\n",
        "    betta_GN = (M_RS*(p_G0 - p_3)) / (p_3 + M_RS*(p_G0 - p_3))\n",
        "\n",
        "    h_4 = (1/gamma)*(p_3 - p_L - r_GU*np.sqrt(w)*a_GU*(p_G0-p_3)*q)\n",
        "\n",
        "    p_1 = p_R - r_R*q\n",
        "\n",
        "    _p_1.append(p_1)\n",
        "    _p_3.append(p_3)\n",
        "    _q_N.append(q_N)\n",
        "    __q.append(q)\n",
        "    _h_4.append(h_4)\n",
        "    _u.append(w)\n",
        "\n",
        "    # Шаг по Эйлеру\n",
        "\n",
        "    p_2 = p_2 + (0.0001/0.4)*(p_R - p_2 - r_2*q)\n",
        "    h_4 = h_4 + (0.0001/0.01)*(q-q_N)\n"
      ],
      "metadata": {
        "id": "WA8XTqw5laeO"
      },
      "execution_count": 158,
      "outputs": []
    },
    {
      "cell_type": "markdown",
      "source": [],
      "metadata": {
        "id": "GQ9c3dLcfTU5"
      }
    },
    {
      "cell_type": "code",
      "source": [
        "x = np.linspace(0, 1.5, 15000)\n",
        "x"
      ],
      "metadata": {
        "id": "pp2qJH-gbQGG",
        "outputId": "a9769458-4a64-4cde-eb80-896a79dc272d",
        "colab": {
          "base_uri": "https://localhost:8080/"
        }
      },
      "execution_count": 159,
      "outputs": [
        {
          "output_type": "execute_result",
          "data": {
            "text/plain": [
              "array([0.00000000e+00, 1.00006667e-04, 2.00013334e-04, ...,\n",
              "       1.49979999e+00, 1.49989999e+00, 1.50000000e+00])"
            ]
          },
          "metadata": {},
          "execution_count": 159
        }
      ]
    },
    {
      "cell_type": "code",
      "source": [
        "df = pd.DataFrame({'q_N': _q_N, 'p_3': _p_3, 'p_1': _p_1, 'q': __q, 'h_4': _h_4, 'u': _u, 'x': x})"
      ],
      "metadata": {
        "id": "3VoIFG_wvc09"
      },
      "execution_count": 160,
      "outputs": []
    },
    {
      "cell_type": "code",
      "source": [
        "df"
      ],
      "metadata": {
        "id": "tsFwHH7qkkJa",
        "outputId": "c2d10a3e-9c78-49f2-a062-1a5a165a9e3a",
        "colab": {
          "base_uri": "https://localhost:8080/",
          "height": 423
        }
      },
      "execution_count": 169,
      "outputs": [
        {
          "output_type": "execute_result",
          "data": {
            "text/plain": [
              "             q_N        p_3        p_1          q          h_4  u       x\n",
              "0      83.297543  13.590000  21.650000   0.000000  1500.000000  1  0.0000\n",
              "1      83.272484  13.583286  21.642315   0.076849  1499.166376  1  0.0001\n",
              "2      83.247455  13.576581  21.634640   0.153600  1498.333770  1  0.0002\n",
              "3      83.222457  13.569883  21.626975   0.230254  1497.502182  1  0.0003\n",
              "4      83.197490  13.563194  21.619319   0.306810  1496.671610  1  0.0004\n",
              "...          ...        ...        ...        ...          ... ..     ...\n",
              "14995  60.100595   7.375151  15.648388  60.016115   727.578358  1  1.4996\n",
              "14996  60.100570   7.375144  15.648389  60.016111   727.577514  1  1.4997\n",
              "14997  60.100544   7.375137  15.648389  60.016107   727.576669  1  1.4998\n",
              "14998  60.100519   7.375131  15.648390  60.016103   727.575825  1  1.4999\n",
              "14999  60.100493   7.375124  15.648390  60.016099   727.574981  1  1.5000\n",
              "\n",
              "[15000 rows x 7 columns]"
            ],
            "text/html": [
              "\n",
              "  <div id=\"df-ed72cbef-2733-42f5-9224-23987ee38c79\" class=\"colab-df-container\">\n",
              "    <div>\n",
              "<style scoped>\n",
              "    .dataframe tbody tr th:only-of-type {\n",
              "        vertical-align: middle;\n",
              "    }\n",
              "\n",
              "    .dataframe tbody tr th {\n",
              "        vertical-align: top;\n",
              "    }\n",
              "\n",
              "    .dataframe thead th {\n",
              "        text-align: right;\n",
              "    }\n",
              "</style>\n",
              "<table border=\"1\" class=\"dataframe\">\n",
              "  <thead>\n",
              "    <tr style=\"text-align: right;\">\n",
              "      <th></th>\n",
              "      <th>q_N</th>\n",
              "      <th>p_3</th>\n",
              "      <th>p_1</th>\n",
              "      <th>q</th>\n",
              "      <th>h_4</th>\n",
              "      <th>u</th>\n",
              "      <th>x</th>\n",
              "    </tr>\n",
              "  </thead>\n",
              "  <tbody>\n",
              "    <tr>\n",
              "      <th>0</th>\n",
              "      <td>83.297543</td>\n",
              "      <td>13.590000</td>\n",
              "      <td>21.650000</td>\n",
              "      <td>0.000000</td>\n",
              "      <td>1500.000000</td>\n",
              "      <td>1</td>\n",
              "      <td>0.0000</td>\n",
              "    </tr>\n",
              "    <tr>\n",
              "      <th>1</th>\n",
              "      <td>83.272484</td>\n",
              "      <td>13.583286</td>\n",
              "      <td>21.642315</td>\n",
              "      <td>0.076849</td>\n",
              "      <td>1499.166376</td>\n",
              "      <td>1</td>\n",
              "      <td>0.0001</td>\n",
              "    </tr>\n",
              "    <tr>\n",
              "      <th>2</th>\n",
              "      <td>83.247455</td>\n",
              "      <td>13.576581</td>\n",
              "      <td>21.634640</td>\n",
              "      <td>0.153600</td>\n",
              "      <td>1498.333770</td>\n",
              "      <td>1</td>\n",
              "      <td>0.0002</td>\n",
              "    </tr>\n",
              "    <tr>\n",
              "      <th>3</th>\n",
              "      <td>83.222457</td>\n",
              "      <td>13.569883</td>\n",
              "      <td>21.626975</td>\n",
              "      <td>0.230254</td>\n",
              "      <td>1497.502182</td>\n",
              "      <td>1</td>\n",
              "      <td>0.0003</td>\n",
              "    </tr>\n",
              "    <tr>\n",
              "      <th>4</th>\n",
              "      <td>83.197490</td>\n",
              "      <td>13.563194</td>\n",
              "      <td>21.619319</td>\n",
              "      <td>0.306810</td>\n",
              "      <td>1496.671610</td>\n",
              "      <td>1</td>\n",
              "      <td>0.0004</td>\n",
              "    </tr>\n",
              "    <tr>\n",
              "      <th>...</th>\n",
              "      <td>...</td>\n",
              "      <td>...</td>\n",
              "      <td>...</td>\n",
              "      <td>...</td>\n",
              "      <td>...</td>\n",
              "      <td>...</td>\n",
              "      <td>...</td>\n",
              "    </tr>\n",
              "    <tr>\n",
              "      <th>14995</th>\n",
              "      <td>60.100595</td>\n",
              "      <td>7.375151</td>\n",
              "      <td>15.648388</td>\n",
              "      <td>60.016115</td>\n",
              "      <td>727.578358</td>\n",
              "      <td>1</td>\n",
              "      <td>1.4996</td>\n",
              "    </tr>\n",
              "    <tr>\n",
              "      <th>14996</th>\n",
              "      <td>60.100570</td>\n",
              "      <td>7.375144</td>\n",
              "      <td>15.648389</td>\n",
              "      <td>60.016111</td>\n",
              "      <td>727.577514</td>\n",
              "      <td>1</td>\n",
              "      <td>1.4997</td>\n",
              "    </tr>\n",
              "    <tr>\n",
              "      <th>14997</th>\n",
              "      <td>60.100544</td>\n",
              "      <td>7.375137</td>\n",
              "      <td>15.648389</td>\n",
              "      <td>60.016107</td>\n",
              "      <td>727.576669</td>\n",
              "      <td>1</td>\n",
              "      <td>1.4998</td>\n",
              "    </tr>\n",
              "    <tr>\n",
              "      <th>14998</th>\n",
              "      <td>60.100519</td>\n",
              "      <td>7.375131</td>\n",
              "      <td>15.648390</td>\n",
              "      <td>60.016103</td>\n",
              "      <td>727.575825</td>\n",
              "      <td>1</td>\n",
              "      <td>1.4999</td>\n",
              "    </tr>\n",
              "    <tr>\n",
              "      <th>14999</th>\n",
              "      <td>60.100493</td>\n",
              "      <td>7.375124</td>\n",
              "      <td>15.648390</td>\n",
              "      <td>60.016099</td>\n",
              "      <td>727.574981</td>\n",
              "      <td>1</td>\n",
              "      <td>1.5000</td>\n",
              "    </tr>\n",
              "  </tbody>\n",
              "</table>\n",
              "<p>15000 rows × 7 columns</p>\n",
              "</div>\n",
              "    <div class=\"colab-df-buttons\">\n",
              "\n",
              "  <div class=\"colab-df-container\">\n",
              "    <button class=\"colab-df-convert\" onclick=\"convertToInteractive('df-ed72cbef-2733-42f5-9224-23987ee38c79')\"\n",
              "            title=\"Convert this dataframe to an interactive table.\"\n",
              "            style=\"display:none;\">\n",
              "\n",
              "  <svg xmlns=\"http://www.w3.org/2000/svg\" height=\"24px\" viewBox=\"0 -960 960 960\">\n",
              "    <path d=\"M120-120v-720h720v720H120Zm60-500h600v-160H180v160Zm220 220h160v-160H400v160Zm0 220h160v-160H400v160ZM180-400h160v-160H180v160Zm440 0h160v-160H620v160ZM180-180h160v-160H180v160Zm440 0h160v-160H620v160Z\"/>\n",
              "  </svg>\n",
              "    </button>\n",
              "\n",
              "  <style>\n",
              "    .colab-df-container {\n",
              "      display:flex;\n",
              "      gap: 12px;\n",
              "    }\n",
              "\n",
              "    .colab-df-convert {\n",
              "      background-color: #E8F0FE;\n",
              "      border: none;\n",
              "      border-radius: 50%;\n",
              "      cursor: pointer;\n",
              "      display: none;\n",
              "      fill: #1967D2;\n",
              "      height: 32px;\n",
              "      padding: 0 0 0 0;\n",
              "      width: 32px;\n",
              "    }\n",
              "\n",
              "    .colab-df-convert:hover {\n",
              "      background-color: #E2EBFA;\n",
              "      box-shadow: 0px 1px 2px rgba(60, 64, 67, 0.3), 0px 1px 3px 1px rgba(60, 64, 67, 0.15);\n",
              "      fill: #174EA6;\n",
              "    }\n",
              "\n",
              "    .colab-df-buttons div {\n",
              "      margin-bottom: 4px;\n",
              "    }\n",
              "\n",
              "    [theme=dark] .colab-df-convert {\n",
              "      background-color: #3B4455;\n",
              "      fill: #D2E3FC;\n",
              "    }\n",
              "\n",
              "    [theme=dark] .colab-df-convert:hover {\n",
              "      background-color: #434B5C;\n",
              "      box-shadow: 0px 1px 3px 1px rgba(0, 0, 0, 0.15);\n",
              "      filter: drop-shadow(0px 1px 2px rgba(0, 0, 0, 0.3));\n",
              "      fill: #FFFFFF;\n",
              "    }\n",
              "  </style>\n",
              "\n",
              "    <script>\n",
              "      const buttonEl =\n",
              "        document.querySelector('#df-ed72cbef-2733-42f5-9224-23987ee38c79 button.colab-df-convert');\n",
              "      buttonEl.style.display =\n",
              "        google.colab.kernel.accessAllowed ? 'block' : 'none';\n",
              "\n",
              "      async function convertToInteractive(key) {\n",
              "        const element = document.querySelector('#df-ed72cbef-2733-42f5-9224-23987ee38c79');\n",
              "        const dataTable =\n",
              "          await google.colab.kernel.invokeFunction('convertToInteractive',\n",
              "                                                    [key], {});\n",
              "        if (!dataTable) return;\n",
              "\n",
              "        const docLinkHtml = 'Like what you see? Visit the ' +\n",
              "          '<a target=\"_blank\" href=https://colab.research.google.com/notebooks/data_table.ipynb>data table notebook</a>'\n",
              "          + ' to learn more about interactive tables.';\n",
              "        element.innerHTML = '';\n",
              "        dataTable['output_type'] = 'display_data';\n",
              "        await google.colab.output.renderOutput(dataTable, element);\n",
              "        const docLink = document.createElement('div');\n",
              "        docLink.innerHTML = docLinkHtml;\n",
              "        element.appendChild(docLink);\n",
              "      }\n",
              "    </script>\n",
              "  </div>\n",
              "\n",
              "\n",
              "<div id=\"df-da2e5107-1888-480c-b891-ef967369b619\">\n",
              "  <button class=\"colab-df-quickchart\" onclick=\"quickchart('df-da2e5107-1888-480c-b891-ef967369b619')\"\n",
              "            title=\"Suggest charts\"\n",
              "            style=\"display:none;\">\n",
              "\n",
              "<svg xmlns=\"http://www.w3.org/2000/svg\" height=\"24px\"viewBox=\"0 0 24 24\"\n",
              "     width=\"24px\">\n",
              "    <g>\n",
              "        <path d=\"M19 3H5c-1.1 0-2 .9-2 2v14c0 1.1.9 2 2 2h14c1.1 0 2-.9 2-2V5c0-1.1-.9-2-2-2zM9 17H7v-7h2v7zm4 0h-2V7h2v10zm4 0h-2v-4h2v4z\"/>\n",
              "    </g>\n",
              "</svg>\n",
              "  </button>\n",
              "\n",
              "<style>\n",
              "  .colab-df-quickchart {\n",
              "      --bg-color: #E8F0FE;\n",
              "      --fill-color: #1967D2;\n",
              "      --hover-bg-color: #E2EBFA;\n",
              "      --hover-fill-color: #174EA6;\n",
              "      --disabled-fill-color: #AAA;\n",
              "      --disabled-bg-color: #DDD;\n",
              "  }\n",
              "\n",
              "  [theme=dark] .colab-df-quickchart {\n",
              "      --bg-color: #3B4455;\n",
              "      --fill-color: #D2E3FC;\n",
              "      --hover-bg-color: #434B5C;\n",
              "      --hover-fill-color: #FFFFFF;\n",
              "      --disabled-bg-color: #3B4455;\n",
              "      --disabled-fill-color: #666;\n",
              "  }\n",
              "\n",
              "  .colab-df-quickchart {\n",
              "    background-color: var(--bg-color);\n",
              "    border: none;\n",
              "    border-radius: 50%;\n",
              "    cursor: pointer;\n",
              "    display: none;\n",
              "    fill: var(--fill-color);\n",
              "    height: 32px;\n",
              "    padding: 0;\n",
              "    width: 32px;\n",
              "  }\n",
              "\n",
              "  .colab-df-quickchart:hover {\n",
              "    background-color: var(--hover-bg-color);\n",
              "    box-shadow: 0 1px 2px rgba(60, 64, 67, 0.3), 0 1px 3px 1px rgba(60, 64, 67, 0.15);\n",
              "    fill: var(--button-hover-fill-color);\n",
              "  }\n",
              "\n",
              "  .colab-df-quickchart-complete:disabled,\n",
              "  .colab-df-quickchart-complete:disabled:hover {\n",
              "    background-color: var(--disabled-bg-color);\n",
              "    fill: var(--disabled-fill-color);\n",
              "    box-shadow: none;\n",
              "  }\n",
              "\n",
              "  .colab-df-spinner {\n",
              "    border: 2px solid var(--fill-color);\n",
              "    border-color: transparent;\n",
              "    border-bottom-color: var(--fill-color);\n",
              "    animation:\n",
              "      spin 1s steps(1) infinite;\n",
              "  }\n",
              "\n",
              "  @keyframes spin {\n",
              "    0% {\n",
              "      border-color: transparent;\n",
              "      border-bottom-color: var(--fill-color);\n",
              "      border-left-color: var(--fill-color);\n",
              "    }\n",
              "    20% {\n",
              "      border-color: transparent;\n",
              "      border-left-color: var(--fill-color);\n",
              "      border-top-color: var(--fill-color);\n",
              "    }\n",
              "    30% {\n",
              "      border-color: transparent;\n",
              "      border-left-color: var(--fill-color);\n",
              "      border-top-color: var(--fill-color);\n",
              "      border-right-color: var(--fill-color);\n",
              "    }\n",
              "    40% {\n",
              "      border-color: transparent;\n",
              "      border-right-color: var(--fill-color);\n",
              "      border-top-color: var(--fill-color);\n",
              "    }\n",
              "    60% {\n",
              "      border-color: transparent;\n",
              "      border-right-color: var(--fill-color);\n",
              "    }\n",
              "    80% {\n",
              "      border-color: transparent;\n",
              "      border-right-color: var(--fill-color);\n",
              "      border-bottom-color: var(--fill-color);\n",
              "    }\n",
              "    90% {\n",
              "      border-color: transparent;\n",
              "      border-bottom-color: var(--fill-color);\n",
              "    }\n",
              "  }\n",
              "</style>\n",
              "\n",
              "  <script>\n",
              "    async function quickchart(key) {\n",
              "      const quickchartButtonEl =\n",
              "        document.querySelector('#' + key + ' button');\n",
              "      quickchartButtonEl.disabled = true;  // To prevent multiple clicks.\n",
              "      quickchartButtonEl.classList.add('colab-df-spinner');\n",
              "      try {\n",
              "        const charts = await google.colab.kernel.invokeFunction(\n",
              "            'suggestCharts', [key], {});\n",
              "      } catch (error) {\n",
              "        console.error('Error during call to suggestCharts:', error);\n",
              "      }\n",
              "      quickchartButtonEl.classList.remove('colab-df-spinner');\n",
              "      quickchartButtonEl.classList.add('colab-df-quickchart-complete');\n",
              "    }\n",
              "    (() => {\n",
              "      let quickchartButtonEl =\n",
              "        document.querySelector('#df-da2e5107-1888-480c-b891-ef967369b619 button');\n",
              "      quickchartButtonEl.style.display =\n",
              "        google.colab.kernel.accessAllowed ? 'block' : 'none';\n",
              "    })();\n",
              "  </script>\n",
              "</div>\n",
              "    </div>\n",
              "  </div>\n"
            ],
            "application/vnd.google.colaboratory.intrinsic+json": {
              "type": "dataframe",
              "variable_name": "df",
              "summary": "{\n  \"name\": \"df\",\n  \"rows\": 15000,\n  \"fields\": [\n    {\n      \"column\": \"q_N\",\n      \"properties\": {\n        \"dtype\": \"number\",\n        \"std\": 3.837002140854999,\n        \"min\": 60.100493403307695,\n        \"max\": 83.29754276827373,\n        \"num_unique_values\": 15000,\n        \"samples\": [\n          60.24311292505248,\n          60.86909315084565,\n          60.15957179398074\n        ],\n        \"semantic_type\": \"\",\n        \"description\": \"\"\n      }\n    },\n    {\n      \"column\": \"p_3\",\n      \"properties\": {\n        \"dtype\": \"number\",\n        \"std\": 1.0279968235707357,\n        \"min\": 7.375123857636184,\n        \"max\": 13.59,\n        \"num_unique_values\": 15000,\n        \"samples\": [\n          7.413334004503641,\n          7.581044539997396,\n          7.390951943137337\n        ],\n        \"semantic_type\": \"\",\n        \"description\": \"\"\n      }\n    },\n    {\n      \"column\": \"p_1\",\n      \"properties\": {\n        \"dtype\": \"number\",\n        \"std\": 0.9174278157851847,\n        \"min\": 15.637400317289643,\n        \"max\": 21.65,\n        \"num_unique_values\": 15000,\n        \"samples\": [\n          15.646108167458898,\n          15.637804841779772,\n          15.64744393483231\n        ],\n        \"semantic_type\": \"\",\n        \"description\": \"\"\n      }\n    },\n    {\n      \"column\": \"q\",\n      \"properties\": {\n        \"dtype\": \"number\",\n        \"std\": 9.174278157851873,\n        \"min\": 0.0,\n        \"max\": 60.125996827103556,\n        \"num_unique_values\": 15000,\n        \"samples\": [\n          60.038918325411004,\n          60.12195158220226,\n          60.02556065167689\n        ],\n        \"semantic_type\": \"\",\n        \"description\": \"\"\n      }\n    },\n    {\n      \"column\": \"h_4\",\n      \"properties\": {\n        \"dtype\": \"number\",\n        \"std\": 127.79538166588824,\n        \"min\": 727.5749808357859,\n        \"max\": 1500.0000000000002,\n        \"num_unique_values\": 15000,\n        \"samples\": [\n          732.3203645526913,\n          753.149047187107,\n          729.5406972612592\n        ],\n        \"semantic_type\": \"\",\n        \"description\": \"\"\n      }\n    },\n    {\n      \"column\": \"u\",\n      \"properties\": {\n        \"dtype\": \"number\",\n        \"std\": 0,\n        \"min\": 1,\n        \"max\": 1,\n        \"num_unique_values\": 1,\n        \"samples\": [\n          1\n        ],\n        \"semantic_type\": \"\",\n        \"description\": \"\"\n      }\n    },\n    {\n      \"column\": \"x\",\n      \"properties\": {\n        \"dtype\": \"number\",\n        \"std\": 0.4330560058087809,\n        \"min\": 0.0,\n        \"max\": 1.5,\n        \"num_unique_values\": 15000,\n        \"samples\": [\n          1.1499766651110075\n        ],\n        \"semantic_type\": \"\",\n        \"description\": \"\"\n      }\n    }\n  ]\n}"
            }
          },
          "metadata": {},
          "execution_count": 169
        }
      ]
    },
    {
      "cell_type": "code",
      "source": [
        "import matplotlib.pyplot as plt\n",
        "plt.figure(figsize=(8, 4))\n",
        "plt.gca().spines[['top', 'right']].set_visible(False)\n",
        "# plot one by one\n",
        "\n",
        "plt.plot(df['x'], df['q_N'], 'r', lw=2)\n",
        "plt.plot(df['x'], df['q'], lw=2)\n",
        "\n",
        "\n",
        "# set x label\n",
        "plt.xlabel('Сутки')\n",
        "plt.ylabel('Давление')\n",
        "\n",
        "# set title\n",
        "plt.title('Расход')\n",
        "\n",
        "\n",
        "plt.ylim(0, 90)\n",
        "\n",
        "# display plot\n",
        "plt.show()\n"
      ],
      "metadata": {
        "id": "8rW2fuNBhnNm",
        "outputId": "d3753ee4-599a-48d4-a7d7-f4008a640eb4",
        "colab": {
          "base_uri": "https://localhost:8080/",
          "height": 494
        }
      },
      "execution_count": 182,
      "outputs": [
        {
          "output_type": "display_data",
          "data": {
            "text/plain": [
              "<Figure size 800x400 with 1 Axes>"
            ],
            "image/png": "[encoded data removed]"
          },
          "metadata": {}
        }
      ]
    },
    {
      "cell_type": "code",
      "source": [
        "df['q_N']"
      ],
      "metadata": {
        "id": "dtdorFJJFS99",
        "outputId": "f071e5b0-8170-4048-f7ce-cbac8e9478c8",
        "colab": {
          "base_uri": "https://localhost:8080/",
          "height": 458
        }
      },
      "execution_count": 162,
      "outputs": [
        {
          "output_type": "execute_result",
          "data": {
            "text/plain": [
              "0        83.297543\n",
              "1        83.272484\n",
              "2        83.247455\n",
              "3        83.222457\n",
              "4        83.197490\n",
              "           ...    \n",
              "14995    60.100595\n",
              "14996    60.100570\n",
              "14997    60.100544\n",
              "14998    60.100519\n",
              "14999    60.100493\n",
              "Name: q_N, Length: 15000, dtype: float64"
            ],
            "text/html": [
              "<div>\n",
              "<style scoped>\n",
              "    .dataframe tbody tr th:only-of-type {\n",
              "        vertical-align: middle;\n",
              "    }\n",
              "\n",
              "    .dataframe tbody tr th {\n",
              "        vertical-align: top;\n",
              "    }\n",
              "\n",
              "    .dataframe thead th {\n",
              "        text-align: right;\n",
              "    }\n",
              "</style>\n",
              "<table border=\"1\" class=\"dataframe\">\n",
              "  <thead>\n",
              "    <tr style=\"text-align: right;\">\n",
              "      <th></th>\n",
              "      <th>q_N</th>\n",
              "    </tr>\n",
              "  </thead>\n",
              "  <tbody>\n",
              "    <tr>\n",
              "      <th>0</th>\n",
              "      <td>83.297543</td>\n",
              "    </tr>\n",
              "    <tr>\n",
              "      <th>1</th>\n",
              "      <td>83.272484</td>\n",
              "    </tr>\n",
              "    <tr>\n",
              "      <th>2</th>\n",
              "      <td>83.247455</td>\n",
              "    </tr>\n",
              "    <tr>\n",
              "      <th>3</th>\n",
              "      <td>83.222457</td>\n",
              "    </tr>\n",
              "    <tr>\n",
              "      <th>4</th>\n",
              "      <td>83.197490</td>\n",
              "    </tr>\n",
              "    <tr>\n",
              "      <th>...</th>\n",
              "      <td>...</td>\n",
              "    </tr>\n",
              "    <tr>\n",
              "      <th>14995</th>\n",
              "      <td>60.100595</td>\n",
              "    </tr>\n",
              "    <tr>\n",
              "      <th>14996</th>\n",
              "      <td>60.100570</td>\n",
              "    </tr>\n",
              "    <tr>\n",
              "      <th>14997</th>\n",
              "      <td>60.100544</td>\n",
              "    </tr>\n",
              "    <tr>\n",
              "      <th>14998</th>\n",
              "      <td>60.100519</td>\n",
              "    </tr>\n",
              "    <tr>\n",
              "      <th>14999</th>\n",
              "      <td>60.100493</td>\n",
              "    </tr>\n",
              "  </tbody>\n",
              "</table>\n",
              "<p>15000 rows × 1 columns</p>\n",
              "</div><br><label><b>dtype:</b> float64</label>"
            ]
          },
          "metadata": {},
          "execution_count": 162
        }
      ]
    },
    {
      "cell_type": "code",
      "source": [
        "from matplotlib import pyplot as plt\n",
        "df['q'].plot(kind='line', figsize=(8, 4), title='q', grid=True)\n",
        "plt.gca().spines[['top', 'right']].set_visible(False)"
      ],
      "metadata": {
        "id": "RfbWpRu0Ul2b",
        "outputId": "517869a1-f733-47fc-d98f-a43f07068373",
        "colab": {
          "base_uri": "https://localhost:8080/",
          "height": 471
        }
      },
      "execution_count": 163,
      "outputs": [
        {
          "output_type": "display_data",
          "data": {
            "text/plain": [
              "<Figure size 800x400 with 1 Axes>"
            ],
            "image/png": "[encoded data removed]"
          },
          "metadata": {}
        }
      ]
    },
    {
      "cell_type": "code",
      "source": [
        "from matplotlib import pyplot as plt\n",
        "plt.figure(figsize=(8, 4))\n",
        "plt.gca().spines[['top', 'right']].set_visible(False)\n",
        "# plot one by one\n",
        "\n",
        "\n",
        "plt.plot(df['x'], df['p_1'], lw=2)\n",
        "\n",
        "\n",
        "# set x label\n",
        "plt.xlabel('Сутки')\n",
        "plt.ylabel('Давление')\n",
        "\n",
        "# set title\n",
        "plt.title('P(1)')\n",
        "\n",
        "\n",
        "plt.ylim(15, 22)\n",
        "\n",
        "# display plot\n",
        "plt.show()"
      ],
      "metadata": {
        "id": "4wtJyoayacfN",
        "outputId": "720d4c42-e804-4f03-bede-04f45b31d6dc",
        "colab": {
          "base_uri": "https://localhost:8080/",
          "height": 494
        }
      },
      "execution_count": 188,
      "outputs": [
        {
          "output_type": "display_data",
          "data": {
            "text/plain": [
              "<Figure size 800x400 with 1 Axes>"
            ],
            "image/png": "[encoded data removed]"
          },
          "metadata": {}
        }
      ]
    },
    {
      "cell_type": "code",
      "source": [
        "from matplotlib import pyplot as plt\n",
        "plt.figure(figsize=(8, 4))\n",
        "plt.gca().spines[['top', 'right']].set_visible(False)\n",
        "# plot one by one\n",
        "\n",
        "\n",
        "plt.plot(df['x'], df['p_3'], lw=2)\n",
        "\n",
        "\n",
        "# set x label\n",
        "plt.xlabel('Сутки')\n",
        "plt.ylabel('Давление')\n",
        "\n",
        "# set title\n",
        "plt.title('P(3)')\n",
        "\n",
        "\n",
        "plt.ylim(7, 14)\n",
        "\n",
        "# display plot\n",
        "plt.show()"
      ],
      "metadata": {
        "id": "pWhuIWS6b8h5",
        "outputId": "7491d469-805d-4d39-dc76-a744e26f2d74",
        "colab": {
          "base_uri": "https://localhost:8080/",
          "height": 494
        }
      },
      "execution_count": 192,
      "outputs": [
        {
          "output_type": "display_data",
          "data": {
            "text/plain": [
              "<Figure size 800x400 with 1 Axes>"
            ],
            "image/png": "[encoded data removed]"
          },
          "metadata": {}
        }
      ]
    },
    {
      "cell_type": "code",
      "source": [
        "from matplotlib import pyplot as plt\n",
        "plt.figure(figsize=(8, 4))\n",
        "plt.gca().spines[['top', 'right']].set_visible(False)\n",
        "# plot one by one\n",
        "\n",
        "\n",
        "plt.plot(df['x'], df['h_4'], lw=2)\n",
        "\n",
        "\n",
        "# set x label\n",
        "plt.xlabel('Сутки')\n",
        "plt.ylabel('Уровень, м.')\n",
        "\n",
        "# set title\n",
        "plt.title('h(4)')\n",
        "\n",
        "\n",
        "plt.ylim(700, 1510)\n",
        "\n",
        "# display plot\n",
        "plt.show()"
      ],
      "metadata": {
        "id": "1b32-JenxOyL",
        "outputId": "3b43247c-b906-4521-ab93-38f3ed155d83",
        "colab": {
          "base_uri": "https://localhost:8080/",
          "height": 494
        }
      },
      "execution_count": 195,
      "outputs": [
        {
          "output_type": "display_data",
          "data": {
            "text/plain": [
              "<Figure size 800x400 with 1 Axes>"
            ],
            "image/png": "[encoded data removed]"
          },
          "metadata": {}
        }
      ]
    },
    {
      "cell_type": "code",
      "source": [
        "df.iloc[10200]"
      ],
      "metadata": {
        "id": "8Q-ccWB0c4bR",
        "outputId": "cea74553-87e2-4061-b90b-7b1ff62c6a06",
        "colab": {
          "base_uri": "https://localhost:8080/",
          "height": 303
        }
      },
      "execution_count": 167,
      "outputs": [
        {
          "output_type": "execute_result",
          "data": {
            "text/plain": [
              "q_N     60.337475\n",
              "p_3      7.438615\n",
              "p_1     15.644609\n",
              "q       60.053912\n",
              "h_4    735.460087\n",
              "u        1.000000\n",
              "x        1.020068\n",
              "Name: 10200, dtype: float64"
            ],
            "text/html": [
              "<div>\n",
              "<style scoped>\n",
              "    .dataframe tbody tr th:only-of-type {\n",
              "        vertical-align: middle;\n",
              "    }\n",
              "\n",
              "    .dataframe tbody tr th {\n",
              "        vertical-align: top;\n",
              "    }\n",
              "\n",
              "    .dataframe thead th {\n",
              "        text-align: right;\n",
              "    }\n",
              "</style>\n",
              "<table border=\"1\" class=\"dataframe\">\n",
              "  <thead>\n",
              "    <tr style=\"text-align: right;\">\n",
              "      <th></th>\n",
              "      <th>10200</th>\n",
              "    </tr>\n",
              "  </thead>\n",
              "  <tbody>\n",
              "    <tr>\n",
              "      <th>q_N</th>\n",
              "      <td>60.337475</td>\n",
              "    </tr>\n",
              "    <tr>\n",
              "      <th>p_3</th>\n",
              "      <td>7.438615</td>\n",
              "    </tr>\n",
              "    <tr>\n",
              "      <th>p_1</th>\n",
              "      <td>15.644609</td>\n",
              "    </tr>\n",
              "    <tr>\n",
              "      <th>q</th>\n",
              "      <td>60.053912</td>\n",
              "    </tr>\n",
              "    <tr>\n",
              "      <th>h_4</th>\n",
              "      <td>735.460087</td>\n",
              "    </tr>\n",
              "    <tr>\n",
              "      <th>u</th>\n",
              "      <td>1.000000</td>\n",
              "    </tr>\n",
              "    <tr>\n",
              "      <th>x</th>\n",
              "      <td>1.020068</td>\n",
              "    </tr>\n",
              "  </tbody>\n",
              "</table>\n",
              "</div><br><label><b>dtype:</b> float64</label>"
            ]
          },
          "metadata": {},
          "execution_count": 167
        }
      ]
    },
    {
      "cell_type": "code",
      "source": [
        "from matplotlib import pyplot as plt\n",
        "df['u'].plot(kind='line', figsize=(8, 4), title='Насос', grid=True)\n",
        "plt.gca().spines[['top', 'right']].set_visible(False)"
      ],
      "metadata": {
        "id": "AX133_gXeHV_",
        "outputId": "1aa077ec-85fe-43a1-aac6-097908058e31",
        "colab": {
          "base_uri": "https://localhost:8080/",
          "height": 471
        }
      },
      "execution_count": 168,
      "outputs": [
        {
          "output_type": "display_data",
          "data": {
            "text/plain": [
              "<Figure size 800x400 with 1 Axes>"
            ],
            "image/png": "[encoded data removed]"
          },
          "metadata": {}
        }
      ]
    }
  ]
}