{
  "nbformat": 4,
  "nbformat_minor": 0,
  "metadata": {
    "colab": {
      "provenance": [],
      "toc_visible": true,
      "authorship_tag": "ABX9TyMUywSiuSiLPSSR08EP102M",
      "include_colab_link": true
    },
    "kernelspec": {
      "name": "python3",
      "display_name": "Python 3"
    },
    "language_info": {
      "name": "python"
    }
  },
  "cells": [
    {
      "cell_type": "markdown",
      "metadata": {
        "id": "view-in-github",
        "colab_type": "text"
      },
      "source": [
        "<a href=\"https://colab.research.google.com/github/IANovoselov/well/blob/main/well.ipynb\" target=\"_parent\"><img src=\"https://colab.research.google.com/assets/colab-badge.svg\" alt=\"Open In Colab\"/></a>"
      ]
    },
    {
      "cell_type": "code",
      "execution_count": 99,
      "metadata": {
        "id": "N0YZy14WujCD"
      },
      "outputs": [],
      "source": [
        "import numpy as np\n",
        "import pandas as pd"
      ]
    },
    {
      "cell_type": "code",
      "source": [
        "# Исходные данные для моделировния\n",
        "\n",
        "# Фонтанирующая скважина\n",
        "p_R = 28  # Среднепластовое давление\n",
        "p_G0 = 25  # Давление насыщенного газа\n",
        "\n",
        "# Нефонтанирующая скважина\n",
        "p_R = 21  # Среднепластовое давление\n",
        "p_G0 = 18  # Давление насыщенного газа\n",
        "\n",
        "H_R = 3000  # Глубина забоя по вертикали\n",
        "w_1 = 12  # Гидропроводность из пласта в ПЗ скважины\n",
        "w_2 = 60  # Гидропроводность из ПЗ в забой\n",
        "betta = 0.3  # Объёмная доля воды\n",
        "p_0 = 0.1  # Атмосферное давление\n",
        "\n",
        "# Удельный вес\n",
        "gamma_oil = 0.0068  # нефти\n",
        "gamma_water = 0.011  # воды\n",
        "gamma_gas = 0.000008  # газа\n",
        "G = 100  # Газовый фактор\n",
        "p_L = 1.5  # Давление в линии нефтесбора\n",
        "\n",
        "# Гидросопротивление\n",
        "r_K = 0.2  # обсадной колонный\n",
        "r_N = 1.6  # НКТ\n",
        "r_T = 0.8  # затрубного пространства\n",
        "r_U = 2  # устьевого штуцера\n",
        "r_GU = 3  # перепускного клапана\n",
        "\n",
        "# Параметры насоса\n",
        "H_N = 2000  # уровень подвеса\n",
        "h_0 = 1700  # номинальный напор\n",
        "q_0 = 60  # номинальный дебит\n",
        "\n",
        "# Напорная характеристика\n",
        "q_Pump = [5/3, 4/3, 2/3]\n",
        "lambda_0 = [10/3, 2, 3/2]\n",
        "lambda_1 = [2, 1, 1/4]\n",
        "lambda_2 = [0.007, 0.82, 0.74]\n",
        "lambda_3 = [0.79, 0.18, 0.3]"
      ],
      "metadata": {
        "id": "ZV2ClIokAvU2"
      },
      "execution_count": 100,
      "outputs": []
    },
    {
      "cell_type": "code",
      "source": [
        "# Моделируемые данные, начальные условия\n",
        "_q_N = []\n",
        "_q_T = []\n",
        "_p_1 = []\n",
        "_p_2 = []\n",
        "_p_3 = []\n",
        "_p_5 = []\n",
        "_p_4 = []\n",
        "_p_8 = []\n",
        "_u = []"
      ],
      "metadata": {
        "id": "iFZbkJ2zA8gc"
      },
      "execution_count": 101,
      "outputs": []
    },
    {
      "cell_type": "code",
      "source": [
        "\n",
        "# # Начальное состояние насоса\n",
        "# u = 0\n",
        "# w = 0\n",
        "\n",
        "# num = 1\n",
        "# Q_sum = 0\n",
        "# q = 0\n",
        "\n",
        "# Q_H = 45000\n",
        "# Q_K = 120000\n",
        "# v_R = 0.7\n",
        "# k_G = 10\n",
        "\n",
        "# p_R_0 = p_R\n",
        "\n",
        "# iterations_num = 5000\n",
        "\n",
        "# for k in range(iterations_num):\n",
        "\n",
        "#     Q_sum += q\n",
        "\n",
        "#     if (Q_sum-Q_H)>0 and (Q_sum-Q_K)>0:\n",
        "#         betta = (1/(Q_K-Q_H))*((Q_sum-Q_H)-(Q_sum-Q_K))\n",
        "#     elif (Q_sum-Q_H)>0 and (Q_sum-Q_K)<=0:\n",
        "#         betta = (1/(Q_K-Q_H))*((Q_sum-Q_H))\n",
        "#     else:\n",
        "#         betta = (1/(Q_K-Q_H))\n",
        "\n",
        "#     p_R = p_R_0*(1-v_R*betta)\n",
        "\n",
        "#     gamma = (1-betta)*gamma_oil+betta*gamma_water\n",
        "#     Y_G = (1-betta)*gamma_gas*G\n",
        "\n",
        "#     r12=r_K+((1/w_1)/gamma)\n",
        "#     r21=r12\n",
        "#     r11=r12+r_N+r_U\n",
        "#     r22=r12+r_T+r_GU\n",
        "\n",
        "#     dH_R =  (p_R-p_L)/gamma - H_R\n",
        "#     gh_1 = u*w*w*h_0*lambda_0[num]+dH_R\n",
        "#     gh_2 = dH_R\n",
        "\n",
        "#     R = np.array([[u*w*(h_0/q_0)*lambda_1[num]+r11, r12],\n",
        "#                   [r12+(Y_G/gamma)*r_GU*u*w*k_G, r22]])\n",
        "\n",
        "#     Q = np.linalg.inv(R).dot(np.array([[1], [1]]))\n",
        "\n",
        "#     if dH_R > 0:\n",
        "#         q_N_porog = dH_R/(r12+u*w*(Y_G/gamma)*r_GU*k_G)\n",
        "\n",
        "#         a = h_0*lambda_0[2]\n",
        "#         b = (h_0/q_0)*lambda_1[2]*q_N_porog\n",
        "#         c = r11*q_N_porog - dH_R\n",
        "\n",
        "#         w_porog = (b + np.sqrt(b*b-4*a*c))/(2*a)\n",
        "\n",
        "#         if u*w > 0:\n",
        "#             if w <= w_porog:\n",
        "#                 H_4 = 0\n",
        "#                 H_8 = 0\n",
        "#                 Q = np.linalg.inv(R).dot(np.array([[gh_1], [gh_2]]))\n",
        "#                 q_N = Q[0, 0]\n",
        "#                 q_T = Q[1, 0]\n",
        "#             else:\n",
        "#                 q_T = 0\n",
        "#                 H_8 = 0\n",
        "#                 if (gh_1/(u*w*(h_0/q_0)*lambda_1[num]+r11)) > 0 :\n",
        "#                     q_N = gh_1/(u*w*(h_0/q_0)*lambda_1[num]+r11)\n",
        "#                 else:\n",
        "#                     q_N = 0\n",
        "\n",
        "#             if (((((r_GU*Y_G*k_G+r_R)/gamma)+r_K)*q_N)-dH_R) > 0:\n",
        "#                 H_4 = ((((r_GU*Y_G*k_G+r_R)/gamma)+r_K)*q_N)-dH_R\n",
        "#             else:\n",
        "#                 H_4 = 0\n",
        "#         else:\n",
        "#             H_4 = 0\n",
        "#             H_8 = 0\n",
        "#             Q = np.linalg.inv(R).dot(np.array([[gh_1], [gh_2]]))\n",
        "#             q_N = Q[0, 0]\n",
        "#             q_T = Q[1, 0]\n",
        "\n",
        "\n",
        "#     else:\n",
        "#         w_0 = np.sqrt(-dH_R/(h_0*lambda_0[2]))\n",
        "#         if u*w > 0:\n",
        "#             if w < w_0:\n",
        "#                 H_4 = -dH_R\n",
        "#                 H_8 = -dH_R - w*w*h_0*lambda_0[2]\n",
        "#                 q_N = 0\n",
        "#                 q_T = 0\n",
        "\n",
        "#             else:\n",
        "#                 q_T = 0\n",
        "#                 H_8 = 0\n",
        "#                 if (gh_1/(u*w*(h_0/q_0)*lambda_1[num]+r11)) > 0:\n",
        "#                     q_N = gh_1/(u*w*(h_0/q_0)*lambda_1[num]+r11)\n",
        "#                 else:\n",
        "#                     q_N = 0\n",
        "\n",
        "#                 if ((((r_GU*Y_G*k_G)/gamma)*q_N)-dH_R) > 0:\n",
        "#                     H_4 = ((((r_GU*Y_G*k_G+r_R)/gamma)+r_K)*q_N)-dH_R\n",
        "#                 else:\n",
        "#                     H_4 = 0\n",
        "\n",
        "\n",
        "#         else:\n",
        "#             H_4 = -dH_R\n",
        "#             H_8 = -dH_R\n",
        "#             q_N = 0\n",
        "#             q_T = 0\n",
        "\n",
        "#     q = q_N + q_T\n",
        "#     if q >= w*q_0*q_Pump[1] and q <= w*q_0*q_Pump[0]:\n",
        "#         num = 0\n",
        "#     elif q > w*q_0*q_Pump[2] and q < w*q_0*q_Pump[1]:\n",
        "#         num = 1\n",
        "#     else:\n",
        "#         num = 2\n",
        "\n",
        "#     p_1 = p_R - r_R*(q_N+q_T)\n",
        "#     p_3 = p_1 - gamma*(H_R-H_N+r_K*(q_N+q_T))\n",
        "#     p_5 = p_L + gamma * H_N + gamma*(r_N+r_U)*q_N\n",
        "#     p_4 = p_L + r_GU*(Y_G*u*k_G*q_N+gamma*q_T)\n",
        "#     p_8 = p_L + gamma*r_U*q_N\n",
        "\n",
        "#     _q_N.append(q_N)\n",
        "#     _q_T.append(q_T)\n",
        "#     _p_3.append(p_3)\n",
        "\n",
        "#     if k == 1500:\n",
        "#       u = 1\n",
        "#       w = 1\n",
        "\n",
        "#     _u.append(u)\n",
        "\n",
        "# df = pd.DataFrame({'q_N': _q_N, 'q_T': _q_T, 'p_3': _p_3, 'u': _u})\n",
        "\n",
        "# from matplotlib import pyplot as plt\n",
        "# df['q_N'].plot(kind='line', figsize=(8, 4), title='q_N', grid=True)\n",
        "# plt.gca().spines[['top', 'right']].set_visible(False)"
      ],
      "metadata": {
        "id": "wgeNLCOsb_VM"
      },
      "execution_count": 102,
      "outputs": []
    },
    {
      "cell_type": "code",
      "source": [
        "# Статический расчёт скважины\n",
        "\n",
        "# Гидросопротивления\n",
        "r_1 = 1/w_1  # Пласт - ПЗ\n",
        "r_2 = 1/w_2  # ПЗ - забой\n",
        "r_R = r_1 + r_2\n",
        "r_R"
      ],
      "metadata": {
        "id": "AeMVydD0TX6j",
        "outputId": "3c608178-b9bb-4cbf-fdfa-7a451fc0b8c1",
        "colab": {
          "base_uri": "https://localhost:8080/"
        }
      },
      "execution_count": 103,
      "outputs": [
        {
          "output_type": "execute_result",
          "data": {
            "text/plain": [
              "0.09999999999999999"
            ]
          },
          "metadata": {},
          "execution_count": 103
        }
      ]
    },
    {
      "cell_type": "code",
      "source": [
        "# Давление на забое скважины\n",
        "p_1 = p_R - r_R*q_0\n",
        "p_1"
      ],
      "metadata": {
        "id": "qJ9vWZ6rUvSE",
        "outputId": "55262e46-8f20-44c3-9378-cb371a9a2a54",
        "colab": {
          "base_uri": "https://localhost:8080/"
        }
      },
      "execution_count": 104,
      "outputs": [
        {
          "output_type": "execute_result",
          "data": {
            "text/plain": [
              "15.0"
            ]
          },
          "metadata": {},
          "execution_count": 104
        }
      ]
    },
    {
      "cell_type": "code",
      "source": [
        "# Давление на приёме насоса\n",
        "gamma = (1-betta)*gamma_oil+betta*gamma_water  # Удельный вес жидкости\n",
        "p_3 = p_1 - gamma*(H_R-H_N+r_K*q_0)\n",
        "p_3"
      ],
      "metadata": {
        "id": "gmRI70oSWM91",
        "outputId": "e00ec06f-b5b5-446a-aca7-22bd329b33f4",
        "colab": {
          "base_uri": "https://localhost:8080/"
        }
      },
      "execution_count": 105,
      "outputs": [
        {
          "output_type": "execute_result",
          "data": {
            "text/plain": [
              "6.84328"
            ]
          },
          "metadata": {},
          "execution_count": 105
        }
      ]
    },
    {
      "cell_type": "code",
      "source": [
        "# Ограничения\n",
        "h_lim = 100  # По уровню над приёмом насос\n",
        "betta_G_lim = 0.25  # По газу у первой ступени"
      ],
      "metadata": {
        "id": "OzA0P0qvYEJt"
      },
      "execution_count": 106,
      "outputs": []
    },
    {
      "cell_type": "code",
      "source": [
        "# Высота столба жидкости\n",
        "\n",
        "dH_R =  (p_R-p_L)/gamma - H_R\n",
        "dH_R"
      ],
      "metadata": {
        "id": "MBH_PzROWrqa",
        "outputId": "6c4e2a8b-14c7-4cf7-fa15-ade578d426ff",
        "colab": {
          "base_uri": "https://localhost:8080/"
        }
      },
      "execution_count": 107,
      "outputs": [
        {
          "output_type": "execute_result",
          "data": {
            "text/plain": [
              "-580.6451612903224"
            ]
          },
          "metadata": {},
          "execution_count": 107
        }
      ]
    },
    {
      "cell_type": "code",
      "source": [
        "alpha_G_3 = 0.4\n",
        "alpha_betta = 0.333\n",
        "k_S = 0.7\n",
        "X_G = 0.00008\n",
        "\n",
        "M_R3 = (1-betta)*G*((alpha_G_3*p_0) / (p_G0 - p_0))\n",
        "p_G3 = p_G0 * (((1-k_S)*M_R3)/(((1-k_S)*M_R3)+alpha_betta))\n",
        "\n",
        "a_GU = k_S*X_G*M_R3"
      ],
      "metadata": {
        "id": "ojGUBRRekLFT"
      },
      "execution_count": 108,
      "outputs": []
    },
    {
      "cell_type": "code",
      "source": [
        "q_0 = (p_R - p_G3 - gamma*(H_R-H_N)) / (r_R + gamma*r_K)\n",
        "q_0"
      ],
      "metadata": {
        "id": "ALcWazZSn2A4",
        "outputId": "22d13cc8-1506-4e49-c032-608203b38a22",
        "colab": {
          "base_uri": "https://localhost:8080/"
        }
      },
      "execution_count": 109,
      "outputs": [
        {
          "output_type": "execute_result",
          "data": {
            "text/plain": [
              "105.46686865142698"
            ]
          },
          "metadata": {},
          "execution_count": 109
        }
      ]
    },
    {
      "cell_type": "code",
      "source": [
        "h_0 =(r_U + r_N + r_K + r_R/gamma) - dH_R\n",
        "h_0"
      ],
      "metadata": {
        "id": "dp8cdvMjnkls",
        "outputId": "29f3b704-dfd3-410c-b375-1aaadadff1dd",
        "colab": {
          "base_uri": "https://localhost:8080/"
        }
      },
      "execution_count": 110,
      "outputs": [
        {
          "output_type": "execute_result",
          "data": {
            "text/plain": [
              "596.8521091811413"
            ]
          },
          "metadata": {},
          "execution_count": 110
        }
      ]
    },
    {
      "cell_type": "code",
      "source": [
        "# Расчёт динамики\n",
        "\n",
        "# Начальные условия\n",
        "epsilon = 0.02 * q_0\n",
        "M_q = 0.5\n",
        "\n",
        "h_4 = H_N + dH_R\n",
        "p_2 = p_R\n",
        "t = 0\n",
        "w = 1\n",
        "q = 0\n",
        "\n",
        "# Сегмент напорной характеристики\n",
        "i = 1"
      ],
      "metadata": {
        "id": "2BfX0rNuZpdL"
      },
      "execution_count": 111,
      "outputs": []
    },
    {
      "cell_type": "code",
      "source": [
        "# Начало расчёта\n",
        "for k in range(35000):\n",
        "\n",
        "    p_3 = p_L + p_G0 * r_GU * np.sqrt(w) * a_GU * q + gamma * h_4\n",
        "    p_3\n",
        "\n",
        "    _q = (p_2 - p_3 - gamma*(H_R-H_N)) / (r_1 + gamma * r_K)\n",
        "\n",
        "    # Балансировка притока по начальным условиям\n",
        "    while abs(_q - q) > epsilon:\n",
        "      q = (1 - M_q)*1 + M_q *_q\n",
        "      p_3 = p_L + p_G0 * r_GU * np.sqrt(w) * a_GU * q + gamma * h_4\n",
        "      _q = (p_2 - p_3 - gamma*(H_R-H_N)) / (r_1 + gamma * r_K)\n",
        "\n",
        "    q = _q\n",
        "\n",
        "    # Расчёт подачи\n",
        "\n",
        "    q_N = (w*w*h_0*lambda_0[i] - H_N + (1/gamma)*(p_3 - p_L)) / (w*(h_0/q_0)*lambda_1[i]+r_U+r_N)\n",
        "    q_N = max(q_N, 0)\n",
        "\n",
        "    if q_N > w*q_0*q_N:\n",
        "      i-=1\n",
        "    else:\n",
        "      i+=1\n",
        "\n",
        "    if i < 0:\n",
        "      i = 0\n",
        "    if i > 2:\n",
        "      i = 2\n",
        "\n",
        "    betta_G3 = (M_R3*(p_G0 - p_3)) / (p_3 + M_R3*(p_G0 - p_3))\n",
        "    M_RS = (1 - k_S*np.sqrt(w))* M_R3\n",
        "    betta_GN = (M_RS*(p_G0 - p_3)) / (p_3 + M_RS*(p_G0 - p_3))\n",
        "\n",
        "    h_4 = (1/gamma)*(p_3 - p_L - r_GU*np.sqrt(w)*a_GU*(p_G0-p_3)*q)\n",
        "\n",
        "    _p_3.append(p_3)\n",
        "    _q_N.append(q_N)\n",
        "\n",
        "    # Шаг по Эйлеру\n",
        "\n",
        "    p_2 = p_2 + (0.0001/0.4)*(p_R - p_2 - r_2*q)\n",
        "    h_4 = h_4 + (0.0001/0.01)*(q-q_N)\n",
        "\n",
        "    if k == 1000:\n",
        "      w = 0\n",
        "    if k == 3000:\n",
        "      w = 1\n",
        "\n"
      ],
      "metadata": {
        "id": "WA8XTqw5laeO"
      },
      "execution_count": 112,
      "outputs": []
    },
    {
      "cell_type": "code",
      "source": [
        "df = pd.DataFrame({'q_N': _q_N, 'p_3': _p_3})\n",
        "\n",
        "from matplotlib import pyplot as plt\n",
        "df['q_N'].plot(kind='line', figsize=(8, 4), title='q_N', grid=True)\n",
        "plt.gca().spines[['top', 'right']].set_visible(False)"
      ],
      "metadata": {
        "id": "3VoIFG_wvc09",
        "outputId": "532dad94-1cfb-4a37-a2a6-0c52dc054849",
        "colab": {
          "base_uri": "https://localhost:8080/",
          "height": 390
        }
      },
      "execution_count": 113,
      "outputs": [
        {
          "output_type": "display_data",
          "data": {
            "text/plain": [
              "<Figure size 800x400 with 1 Axes>"
            ],
            "image/png": "[encoded data removed]"
          },
          "metadata": {}
        }
      ]
    },
    {
      "cell_type": "code",
      "source": [
        "from matplotlib import pyplot as plt\n",
        "df['p_3'].plot(kind='line', figsize=(8, 4), title='p_3', grid=True)\n",
        "plt.gca().spines[['top', 'right']].set_visible(False)"
      ],
      "metadata": {
        "id": "1b32-JenxOyL",
        "outputId": "dfce78a1-26d1-4c62-a14a-233a15320e5f",
        "colab": {
          "base_uri": "https://localhost:8080/",
          "height": 390
        }
      },
      "execution_count": 114,
      "outputs": [
        {
          "output_type": "display_data",
          "data": {
            "text/plain": [
              "<Figure size 800x400 with 1 Axes>"
            ],
            "image/png": "[encoded data removed]"
          },
          "metadata": {}
        }
      ]
    }
  ]
}