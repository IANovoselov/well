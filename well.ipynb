{
  "nbformat": 4,
  "nbformat_minor": 0,
  "metadata": {
    "colab": {
      "provenance": [],
      "authorship_tag": "ABX9TyPCA4iY+lCnFWrbaIZ/QucF",
      "include_colab_link": true
    },
    "kernelspec": {
      "name": "python3",
      "display_name": "Python 3"
    },
    "language_info": {
      "name": "python"
    }
  },
  "cells": [
    {
      "cell_type": "markdown",
      "metadata": {
        "id": "view-in-github",
        "colab_type": "text"
      },
      "source": [
        "<a href=\"https://colab.research.google.com/github/IANovoselov/well/blob/main/well.ipynb\" target=\"_parent\"><img src=\"https://colab.research.google.com/assets/colab-badge.svg\" alt=\"Open In Colab\"/></a>"
      ]
    },
    {
      "cell_type": "code",
      "execution_count": 363,
      "metadata": {
        "id": "N0YZy14WujCD"
      },
      "outputs": [],
      "source": [
        "import numpy as np\n",
        "import pandas as pd"
      ]
    },
    {
      "cell_type": "code",
      "source": [
        " # Исходные данные для моделировния\n",
        "\n",
        "# Фонтанирующая скважина\n",
        "# p_R = 28  # Среднепластовое давление\n",
        "# p_G0 = 25  # Давление насыщенного газа\n",
        "\n",
        "# Нефонтанирующая скважина\n",
        "p_R = 21.65  # Среднепластовое давление\n",
        "p_G0 = 17.32  # Давление насыщенного газа\n",
        "\n",
        "H_R = 3000  # Глубина забоя по вертикали\n",
        "w_1 = 12  # Гидропроводность из пласта в ПЗ скважины\n",
        "w_2 = 60  # Гидропроводность из ПЗ в забой\n",
        "betta = 0.3  # Объёмная доля воды\n",
        "p_0 = 0.1  # Атмосферное давление\n",
        "\n",
        "# Удельный вес\n",
        "gamma_oil = 0.0068  # нефти\n",
        "gamma_water = 0.011  # воды\n",
        "gamma_gas = 0.000008  # газа\n",
        "G = 100  # Газовый фактор\n",
        "p_L = 1.5  # Давление в линии нефтесбора\n",
        "\n",
        "# Гидросопротивление\n",
        "r_K = 0.5  # обсадной колонный\n",
        "r_N = 4  # НКТ\n",
        "r_T = 0.8  # затрубного пространства\n",
        "r_U = 3  # устьевого штуцера\n",
        "r_GU = 3  # перепускного клапана\n",
        "\n",
        "# Параметры насоса\n",
        "H_N = 2000  # уровень подвеса\n",
        "q_0 = 108  # номинальный дебит\n",
        "\n",
        "# Напорная характеристика\n",
        "q_Pump = [5/3, 4/3, 2/3]\n",
        "lambda_0 = [10/3, 2, 3/2]\n",
        "lambda_1 = [2, 1, 1/4]"
      ],
      "metadata": {
        "id": "ZV2ClIokAvU2"
      },
      "execution_count": 364,
      "outputs": []
    },
    {
      "cell_type": "code",
      "source": [
        "# Моделируемые данные, начальные условия\n",
        "_q_N = []\n",
        "_q_T = []\n",
        "__q = []\n",
        "_p_1 = []\n",
        "_p_2 = []\n",
        "_p_3 = []\n",
        "_p_5 = []\n",
        "_p_4 = []\n",
        "_p_8 = []\n",
        "_u = []\n",
        "_h_4 = []"
      ],
      "metadata": {
        "id": "iFZbkJ2zA8gc"
      },
      "execution_count": 365,
      "outputs": []
    },
    {
      "cell_type": "code",
      "source": [
        "# Статический расчёт скважины\n",
        "\n",
        "# Гидросопротивления\n",
        "r_1 = 1/w_1  # Пласт - ПЗ\n",
        "r_2 = 1/w_2  # ПЗ - забой\n",
        "r_R = r_1 + r_2\n",
        "r_R = 0.1"
      ],
      "metadata": {
        "id": "AeMVydD0TX6j"
      },
      "execution_count": 366,
      "outputs": []
    },
    {
      "cell_type": "code",
      "source": [
        "# Ограничения\n",
        "h_lim = 100  # По уровню над приёмом насос\n",
        "betta_G_lim = 0.25  # По газу у первой ступени"
      ],
      "metadata": {
        "id": "OzA0P0qvYEJt"
      },
      "execution_count": 367,
      "outputs": []
    },
    {
      "cell_type": "code",
      "source": [
        "# Высота столба жидкости\n",
        "gamma = (1-betta)*gamma_oil+betta*gamma_water\n",
        "dH_R =  (p_R-p_L)/gamma - H_R\n",
        "dH_R"
      ],
      "metadata": {
        "id": "MBH_PzROWrqa",
        "outputId": "3350f4dd-0e98-48a3-9e3f-9bd49f78648e",
        "colab": {
          "base_uri": "https://localhost:8080/"
        }
      },
      "execution_count": 368,
      "outputs": [
        {
          "output_type": "execute_result",
          "data": {
            "text/plain": [
              "-500.0"
            ]
          },
          "metadata": {},
          "execution_count": 368
        }
      ]
    },
    {
      "cell_type": "code",
      "source": [
        "h_0 = q_0*(r_U + r_N + r_K + r_R/gamma) - dH_R"
      ],
      "metadata": {
        "id": "bJB6xG_5CDdx"
      },
      "execution_count": 369,
      "outputs": []
    },
    {
      "cell_type": "code",
      "source": [
        "alpha_G_3 = 0.4\n",
        "alpha_betta = 0.333\n",
        "k_S = 0.7\n",
        "X_G = 0.00008\n",
        "\n",
        "M_R3 = (1-betta)*G*((alpha_G_3*p_0) / (p_G0 - p_0))\n",
        "p_G3 = p_G0 * (((1-k_S)*M_R3)/(((1-k_S)*M_R3)+alpha_betta))\n",
        "\n",
        "a_GU = 0.0000091 #k_S*X_G*M_R3"
      ],
      "metadata": {
        "id": "ojGUBRRekLFT"
      },
      "execution_count": 370,
      "outputs": []
    },
    {
      "cell_type": "code",
      "source": [
        "# Расчёт динамики\n",
        "\n",
        "# Начальные условия\n",
        "\n",
        "M_q = 0.5\n",
        "\n",
        "h_4 = H_N + dH_R\n",
        "p_2 = p_R\n",
        "t = 0\n",
        "w = 1\n",
        "q = 0\n",
        "p_3 = p_L + gamma * h_4\n",
        "epsilon = 0.01 * p_3\n",
        "\n",
        "# Сегмент напорной характеристики\n",
        "i = 1\n",
        "\n",
        "q = (p_2 - p_3 - gamma*(H_R-H_N)) / (r_R + gamma * r_K)\n",
        "__p_3 = (p_L + p_G0 * r_GU * np.sqrt(w) * a_GU * q + gamma * h_4) / (1 + r_GU * np.sqrt(w) * a_GU * q)\n",
        "# Балансировка притока по начальным условиям\n",
        "while abs(p_3 - __p_3) > epsilon:\n",
        "    p_3 = (1 - M_q)*p_3 + M_q *__p_3\n",
        "    q = (p_2 - p_3 - gamma*(H_R-H_N)) / (r_R + gamma * r_K)\n",
        "    __p_3 = (p_L + p_G0 * r_GU * np.sqrt(w) * a_GU * q_0 + gamma * h_4) / (1 + r_GU * np.sqrt(w) * a_GU * q_0)"
      ],
      "metadata": {
        "id": "2BfX0rNuZpdL"
      },
      "execution_count": 371,
      "outputs": []
    },
    {
      "cell_type": "code",
      "source": [
        "# Начало расчёта\n",
        "for k in range(15000):\n",
        "\n",
        "    p_3 = (p_L + p_G0 * r_GU * np.sqrt(w) * a_GU * q + gamma * h_4) / (1 + r_GU * np.sqrt(w) * a_GU * q)\n",
        "    q = (p_2 - p_3 - gamma*(H_R-H_N)) / (r_1 + gamma * r_K)\n",
        "\n",
        "\n",
        "    # Расчёт подачи\n",
        "\n",
        "    q_N = (w*w*h_0*lambda_0[i] - H_N + (1/gamma)*(p_3 - p_L)) / (w*(h_0/q_0)*lambda_1[i]+r_U+r_N)\n",
        "    q_N = max(q_N, 0)\n",
        "\n",
        "    if w*q_0*q_Pump[0] <= q_N <= w*q_0*q_Pump[1]:\n",
        "        i = 0\n",
        "        q_N = (w*w*h_0*lambda_0[i] - H_N + (1/gamma)*(p_3 - p_L)) / (w*(h_0/q_0)*lambda_1[i]+r_U+r_N)\n",
        "        q_N = max(q_N, 0)\n",
        "\n",
        "    if w*q_0*q_Pump[1] < q_N < w*q_0*q_Pump[2]:\n",
        "        i = 1\n",
        "        q_N = (w*w*h_0*lambda_0[i] - H_N + (1/gamma)*(p_3 - p_L)) / (w*(h_0/q_0)*lambda_1[i]+r_U+r_N)\n",
        "        q_N = max(q_N, 0)\n",
        "\n",
        "    if w*q_0*q_Pump[1] <= q_N <= w*q_0*q_Pump[2]:\n",
        "        i = 2\n",
        "        q_N = (w*w*h_0*lambda_0[i] - H_N + (1/gamma)*(p_3 - p_L)) / (w*(h_0/q_0)*lambda_1[i]+r_U+r_N)\n",
        "        q_N = max(q_N, 0)\n",
        "\n",
        "\n",
        "\n",
        "    betta_G3 = (M_R3*(p_G0 - p_3)) / (p_3 + M_R3*(p_G0 - p_3))\n",
        "    M_RS = (1 - k_S*np.sqrt(w))* M_R3\n",
        "    betta_GN = (M_RS*(p_G0 - p_3)) / (p_3 + M_RS*(p_G0 - p_3))\n",
        "\n",
        "    h_4 = (1/gamma)*(p_3 - p_L - r_GU*np.sqrt(w)*a_GU*(p_G0-p_3)*q)\n",
        "\n",
        "    p_1 = p_R - r_R*q\n",
        "\n",
        "    _p_1.append(p_1)\n",
        "    _p_3.append(p_3)\n",
        "    _q_N.append(q_N)\n",
        "    __q.append(q)\n",
        "    _h_4.append(h_4)\n",
        "    _u.append(w)\n",
        "\n",
        "    # Шаг по Эйлеру\n",
        "\n",
        "    p_2 = p_2 + (0.0001/0.4)*(p_R - p_2 - r_2*q)\n",
        "    h_4 = h_4 + (0.0001/0.01)*(q-q_N)\n"
      ],
      "metadata": {
        "id": "WA8XTqw5laeO"
      },
      "execution_count": 372,
      "outputs": []
    },
    {
      "cell_type": "markdown",
      "source": [],
      "metadata": {
        "id": "GQ9c3dLcfTU5"
      }
    },
    {
      "cell_type": "code",
      "source": [
        "x = np.linspace(0, 1.5, 15000)\n",
        "x"
      ],
      "metadata": {
        "id": "pp2qJH-gbQGG",
        "outputId": "5e96444b-e29e-4e05-c549-9e2ec34bcea7",
        "colab": {
          "base_uri": "https://localhost:8080/"
        }
      },
      "execution_count": 373,
      "outputs": [
        {
          "output_type": "execute_result",
          "data": {
            "text/plain": [
              "array([0.00000000e+00, 1.00006667e-04, 2.00013334e-04, ...,\n",
              "       1.49979999e+00, 1.49989999e+00, 1.50000000e+00])"
            ]
          },
          "metadata": {},
          "execution_count": 373
        }
      ]
    },
    {
      "cell_type": "code",
      "source": [
        "df = pd.DataFrame({'q_N': _q_N, 'p_3': _p_3, 'p_1': _p_1, 'q': __q, 'h_4': _h_4, 'u': _u, 'x': x})"
      ],
      "metadata": {
        "id": "3VoIFG_wvc09"
      },
      "execution_count": 374,
      "outputs": []
    },
    {
      "cell_type": "code",
      "source": [
        "df"
      ],
      "metadata": {
        "id": "tsFwHH7qkkJa",
        "outputId": "485bb580-c822-4c08-e1ff-c25656623ffc",
        "colab": {
          "base_uri": "https://localhost:8080/",
          "height": 423
        }
      },
      "execution_count": 375,
      "outputs": [
        {
          "output_type": "execute_result",
          "data": {
            "text/plain": [
              "              q_N        p_3        p_1           q          h_4  u       x\n",
              "0      152.201067  13.590000  21.650000    0.000000  1500.000000  1  0.0000\n",
              "1      152.152805  13.577733  21.635958    0.140418  1498.476209  1  0.0001\n",
              "2      152.104603  13.565480  21.621934    0.280655  1496.954302  1  0.0002\n",
              "3      152.056462  13.553244  21.607929    0.420711  1495.434276  1  0.0003\n",
              "4      152.008380  13.541022  21.593941    0.560586  1493.916128  1  0.0004\n",
              "...           ...        ...        ...         ...          ... ..     ...\n",
              "14995  108.185597   2.401936  10.846296  108.037040   106.443719  1  1.4996\n",
              "14996  108.185550   2.401924  10.846297  108.037031   106.442234  1  1.4997\n",
              "14997  108.185503   2.401912  10.846298  108.037021   106.440749  1  1.4998\n",
              "14998  108.185456   2.401900  10.846299  108.037012   106.439265  1  1.4999\n",
              "14999  108.185409   2.401888  10.846300  108.037003   106.437781  1  1.5000\n",
              "\n",
              "[15000 rows x 7 columns]"
            ],
            "text/html": [
              "\n",
              "  <div id=\"df-f35a57a4-8430-4bc8-95e3-4bc805f7dff1\" class=\"colab-df-container\">\n",
              "    <div>\n",
              "<style scoped>\n",
              "    .dataframe tbody tr th:only-of-type {\n",
              "        vertical-align: middle;\n",
              "    }\n",
              "\n",
              "    .dataframe tbody tr th {\n",
              "        vertical-align: top;\n",
              "    }\n",
              "\n",
              "    .dataframe thead th {\n",
              "        text-align: right;\n",
              "    }\n",
              "</style>\n",
              "<table border=\"1\" class=\"dataframe\">\n",
              "  <thead>\n",
              "    <tr style=\"text-align: right;\">\n",
              "      <th></th>\n",
              "      <th>q_N</th>\n",
              "      <th>p_3</th>\n",
              "      <th>p_1</th>\n",
              "      <th>q</th>\n",
              "      <th>h_4</th>\n",
              "      <th>u</th>\n",
              "      <th>x</th>\n",
              "    </tr>\n",
              "  </thead>\n",
              "  <tbody>\n",
              "    <tr>\n",
              "      <th>0</th>\n",
              "      <td>152.201067</td>\n",
              "      <td>13.590000</td>\n",
              "      <td>21.650000</td>\n",
              "      <td>0.000000</td>\n",
              "      <td>1500.000000</td>\n",
              "      <td>1</td>\n",
              "      <td>0.0000</td>\n",
              "    </tr>\n",
              "    <tr>\n",
              "      <th>1</th>\n",
              "      <td>152.152805</td>\n",
              "      <td>13.577733</td>\n",
              "      <td>21.635958</td>\n",
              "      <td>0.140418</td>\n",
              "      <td>1498.476209</td>\n",
              "      <td>1</td>\n",
              "      <td>0.0001</td>\n",
              "    </tr>\n",
              "    <tr>\n",
              "      <th>2</th>\n",
              "      <td>152.104603</td>\n",
              "      <td>13.565480</td>\n",
              "      <td>21.621934</td>\n",
              "      <td>0.280655</td>\n",
              "      <td>1496.954302</td>\n",
              "      <td>1</td>\n",
              "      <td>0.0002</td>\n",
              "    </tr>\n",
              "    <tr>\n",
              "      <th>3</th>\n",
              "      <td>152.056462</td>\n",
              "      <td>13.553244</td>\n",
              "      <td>21.607929</td>\n",
              "      <td>0.420711</td>\n",
              "      <td>1495.434276</td>\n",
              "      <td>1</td>\n",
              "      <td>0.0003</td>\n",
              "    </tr>\n",
              "    <tr>\n",
              "      <th>4</th>\n",
              "      <td>152.008380</td>\n",
              "      <td>13.541022</td>\n",
              "      <td>21.593941</td>\n",
              "      <td>0.560586</td>\n",
              "      <td>1493.916128</td>\n",
              "      <td>1</td>\n",
              "      <td>0.0004</td>\n",
              "    </tr>\n",
              "    <tr>\n",
              "      <th>...</th>\n",
              "      <td>...</td>\n",
              "      <td>...</td>\n",
              "      <td>...</td>\n",
              "      <td>...</td>\n",
              "      <td>...</td>\n",
              "      <td>...</td>\n",
              "      <td>...</td>\n",
              "    </tr>\n",
              "    <tr>\n",
              "      <th>14995</th>\n",
              "      <td>108.185597</td>\n",
              "      <td>2.401936</td>\n",
              "      <td>10.846296</td>\n",
              "      <td>108.037040</td>\n",
              "      <td>106.443719</td>\n",
              "      <td>1</td>\n",
              "      <td>1.4996</td>\n",
              "    </tr>\n",
              "    <tr>\n",
              "      <th>14996</th>\n",
              "      <td>108.185550</td>\n",
              "      <td>2.401924</td>\n",
              "      <td>10.846297</td>\n",
              "      <td>108.037031</td>\n",
              "      <td>106.442234</td>\n",
              "      <td>1</td>\n",
              "      <td>1.4997</td>\n",
              "    </tr>\n",
              "    <tr>\n",
              "      <th>14997</th>\n",
              "      <td>108.185503</td>\n",
              "      <td>2.401912</td>\n",
              "      <td>10.846298</td>\n",
              "      <td>108.037021</td>\n",
              "      <td>106.440749</td>\n",
              "      <td>1</td>\n",
              "      <td>1.4998</td>\n",
              "    </tr>\n",
              "    <tr>\n",
              "      <th>14998</th>\n",
              "      <td>108.185456</td>\n",
              "      <td>2.401900</td>\n",
              "      <td>10.846299</td>\n",
              "      <td>108.037012</td>\n",
              "      <td>106.439265</td>\n",
              "      <td>1</td>\n",
              "      <td>1.4999</td>\n",
              "    </tr>\n",
              "    <tr>\n",
              "      <th>14999</th>\n",
              "      <td>108.185409</td>\n",
              "      <td>2.401888</td>\n",
              "      <td>10.846300</td>\n",
              "      <td>108.037003</td>\n",
              "      <td>106.437781</td>\n",
              "      <td>1</td>\n",
              "      <td>1.5000</td>\n",
              "    </tr>\n",
              "  </tbody>\n",
              "</table>\n",
              "<p>15000 rows × 7 columns</p>\n",
              "</div>\n",
              "    <div class=\"colab-df-buttons\">\n",
              "\n",
              "  <div class=\"colab-df-container\">\n",
              "    <button class=\"colab-df-convert\" onclick=\"convertToInteractive('df-f35a57a4-8430-4bc8-95e3-4bc805f7dff1')\"\n",
              "            title=\"Convert this dataframe to an interactive table.\"\n",
              "            style=\"display:none;\">\n",
              "\n",
              "  <svg xmlns=\"http://www.w3.org/2000/svg\" height=\"24px\" viewBox=\"0 -960 960 960\">\n",
              "    <path d=\"M120-120v-720h720v720H120Zm60-500h600v-160H180v160Zm220 220h160v-160H400v160Zm0 220h160v-160H400v160ZM180-400h160v-160H180v160Zm440 0h160v-160H620v160ZM180-180h160v-160H180v160Zm440 0h160v-160H620v160Z\"/>\n",
              "  </svg>\n",
              "    </button>\n",
              "\n",
              "  <style>\n",
              "    .colab-df-container {\n",
              "      display:flex;\n",
              "      gap: 12px;\n",
              "    }\n",
              "\n",
              "    .colab-df-convert {\n",
              "      background-color: #E8F0FE;\n",
              "      border: none;\n",
              "      border-radius: 50%;\n",
              "      cursor: pointer;\n",
              "      display: none;\n",
              "      fill: #1967D2;\n",
              "      height: 32px;\n",
              "      padding: 0 0 0 0;\n",
              "      width: 32px;\n",
              "    }\n",
              "\n",
              "    .colab-df-convert:hover {\n",
              "      background-color: #E2EBFA;\n",
              "      box-shadow: 0px 1px 2px rgba(60, 64, 67, 0.3), 0px 1px 3px 1px rgba(60, 64, 67, 0.15);\n",
              "      fill: #174EA6;\n",
              "    }\n",
              "\n",
              "    .colab-df-buttons div {\n",
              "      margin-bottom: 4px;\n",
              "    }\n",
              "\n",
              "    [theme=dark] .colab-df-convert {\n",
              "      background-color: #3B4455;\n",
              "      fill: #D2E3FC;\n",
              "    }\n",
              "\n",
              "    [theme=dark] .colab-df-convert:hover {\n",
              "      background-color: #434B5C;\n",
              "      box-shadow: 0px 1px 3px 1px rgba(0, 0, 0, 0.15);\n",
              "      filter: drop-shadow(0px 1px 2px rgba(0, 0, 0, 0.3));\n",
              "      fill: #FFFFFF;\n",
              "    }\n",
              "  </style>\n",
              "\n",
              "    <script>\n",
              "      const buttonEl =\n",
              "        document.querySelector('#df-f35a57a4-8430-4bc8-95e3-4bc805f7dff1 button.colab-df-convert');\n",
              "      buttonEl.style.display =\n",
              "        google.colab.kernel.accessAllowed ? 'block' : 'none';\n",
              "\n",
              "      async function convertToInteractive(key) {\n",
              "        const element = document.querySelector('#df-f35a57a4-8430-4bc8-95e3-4bc805f7dff1');\n",
              "        const dataTable =\n",
              "          await google.colab.kernel.invokeFunction('convertToInteractive',\n",
              "                                                    [key], {});\n",
              "        if (!dataTable) return;\n",
              "\n",
              "        const docLinkHtml = 'Like what you see? Visit the ' +\n",
              "          '<a target=\"_blank\" href=https://colab.research.google.com/notebooks/data_table.ipynb>data table notebook</a>'\n",
              "          + ' to learn more about interactive tables.';\n",
              "        element.innerHTML = '';\n",
              "        dataTable['output_type'] = 'display_data';\n",
              "        await google.colab.output.renderOutput(dataTable, element);\n",
              "        const docLink = document.createElement('div');\n",
              "        docLink.innerHTML = docLinkHtml;\n",
              "        element.appendChild(docLink);\n",
              "      }\n",
              "    </script>\n",
              "  </div>\n",
              "\n",
              "\n",
              "<div id=\"df-a971df5e-f96d-41f4-b867-58416b6e95da\">\n",
              "  <button class=\"colab-df-quickchart\" onclick=\"quickchart('df-a971df5e-f96d-41f4-b867-58416b6e95da')\"\n",
              "            title=\"Suggest charts\"\n",
              "            style=\"display:none;\">\n",
              "\n",
              "<svg xmlns=\"http://www.w3.org/2000/svg\" height=\"24px\"viewBox=\"0 0 24 24\"\n",
              "     width=\"24px\">\n",
              "    <g>\n",
              "        <path d=\"M19 3H5c-1.1 0-2 .9-2 2v14c0 1.1.9 2 2 2h14c1.1 0 2-.9 2-2V5c0-1.1-.9-2-2-2zM9 17H7v-7h2v7zm4 0h-2V7h2v10zm4 0h-2v-4h2v4z\"/>\n",
              "    </g>\n",
              "</svg>\n",
              "  </button>\n",
              "\n",
              "<style>\n",
              "  .colab-df-quickchart {\n",
              "      --bg-color: #E8F0FE;\n",
              "      --fill-color: #1967D2;\n",
              "      --hover-bg-color: #E2EBFA;\n",
              "      --hover-fill-color: #174EA6;\n",
              "      --disabled-fill-color: #AAA;\n",
              "      --disabled-bg-color: #DDD;\n",
              "  }\n",
              "\n",
              "  [theme=dark] .colab-df-quickchart {\n",
              "      --bg-color: #3B4455;\n",
              "      --fill-color: #D2E3FC;\n",
              "      --hover-bg-color: #434B5C;\n",
              "      --hover-fill-color: #FFFFFF;\n",
              "      --disabled-bg-color: #3B4455;\n",
              "      --disabled-fill-color: #666;\n",
              "  }\n",
              "\n",
              "  .colab-df-quickchart {\n",
              "    background-color: var(--bg-color);\n",
              "    border: none;\n",
              "    border-radius: 50%;\n",
              "    cursor: pointer;\n",
              "    display: none;\n",
              "    fill: var(--fill-color);\n",
              "    height: 32px;\n",
              "    padding: 0;\n",
              "    width: 32px;\n",
              "  }\n",
              "\n",
              "  .colab-df-quickchart:hover {\n",
              "    background-color: var(--hover-bg-color);\n",
              "    box-shadow: 0 1px 2px rgba(60, 64, 67, 0.3), 0 1px 3px 1px rgba(60, 64, 67, 0.15);\n",
              "    fill: var(--button-hover-fill-color);\n",
              "  }\n",
              "\n",
              "  .colab-df-quickchart-complete:disabled,\n",
              "  .colab-df-quickchart-complete:disabled:hover {\n",
              "    background-color: var(--disabled-bg-color);\n",
              "    fill: var(--disabled-fill-color);\n",
              "    box-shadow: none;\n",
              "  }\n",
              "\n",
              "  .colab-df-spinner {\n",
              "    border: 2px solid var(--fill-color);\n",
              "    border-color: transparent;\n",
              "    border-bottom-color: var(--fill-color);\n",
              "    animation:\n",
              "      spin 1s steps(1) infinite;\n",
              "  }\n",
              "\n",
              "  @keyframes spin {\n",
              "    0% {\n",
              "      border-color: transparent;\n",
              "      border-bottom-color: var(--fill-color);\n",
              "      border-left-color: var(--fill-color);\n",
              "    }\n",
              "    20% {\n",
              "      border-color: transparent;\n",
              "      border-left-color: var(--fill-color);\n",
              "      border-top-color: var(--fill-color);\n",
              "    }\n",
              "    30% {\n",
              "      border-color: transparent;\n",
              "      border-left-color: var(--fill-color);\n",
              "      border-top-color: var(--fill-color);\n",
              "      border-right-color: var(--fill-color);\n",
              "    }\n",
              "    40% {\n",
              "      border-color: transparent;\n",
              "      border-right-color: var(--fill-color);\n",
              "      border-top-color: var(--fill-color);\n",
              "    }\n",
              "    60% {\n",
              "      border-color: transparent;\n",
              "      border-right-color: var(--fill-color);\n",
              "    }\n",
              "    80% {\n",
              "      border-color: transparent;\n",
              "      border-right-color: var(--fill-color);\n",
              "      border-bottom-color: var(--fill-color);\n",
              "    }\n",
              "    90% {\n",
              "      border-color: transparent;\n",
              "      border-bottom-color: var(--fill-color);\n",
              "    }\n",
              "  }\n",
              "</style>\n",
              "\n",
              "  <script>\n",
              "    async function quickchart(key) {\n",
              "      const quickchartButtonEl =\n",
              "        document.querySelector('#' + key + ' button');\n",
              "      quickchartButtonEl.disabled = true;  // To prevent multiple clicks.\n",
              "      quickchartButtonEl.classList.add('colab-df-spinner');\n",
              "      try {\n",
              "        const charts = await google.colab.kernel.invokeFunction(\n",
              "            'suggestCharts', [key], {});\n",
              "      } catch (error) {\n",
              "        console.error('Error during call to suggestCharts:', error);\n",
              "      }\n",
              "      quickchartButtonEl.classList.remove('colab-df-spinner');\n",
              "      quickchartButtonEl.classList.add('colab-df-quickchart-complete');\n",
              "    }\n",
              "    (() => {\n",
              "      let quickchartButtonEl =\n",
              "        document.querySelector('#df-a971df5e-f96d-41f4-b867-58416b6e95da button');\n",
              "      quickchartButtonEl.style.display =\n",
              "        google.colab.kernel.accessAllowed ? 'block' : 'none';\n",
              "    })();\n",
              "  </script>\n",
              "</div>\n",
              "    </div>\n",
              "  </div>\n"
            ],
            "application/vnd.google.colaboratory.intrinsic+json": {
              "type": "dataframe",
              "variable_name": "df",
              "summary": "{\n  \"name\": \"df\",\n  \"rows\": 15000,\n  \"fields\": [\n    {\n      \"column\": \"q_N\",\n      \"properties\": {\n        \"dtype\": \"number\",\n        \"std\": 7.237009052268264,\n        \"min\": 108.18540897155954,\n        \"max\": 152.20106688192757,\n        \"num_unique_values\": 15000,\n        \"samples\": [\n          108.4496289691424,\n          109.61240987399266,\n          108.29478209683994\n        ],\n        \"semantic_type\": \"\",\n        \"description\": \"\"\n      }\n    },\n    {\n      \"column\": \"p_3\",\n      \"properties\": {\n        \"dtype\": \"number\",\n        \"std\": 1.8395378057639389,\n        \"min\": 2.401888145100866,\n        \"max\": 13.59,\n        \"num_unique_values\": 15000,\n        \"samples\": [\n          2.4690488562568342,\n          2.7646101052264007,\n          2.4296891326959806\n        ],\n        \"semantic_type\": \"\",\n        \"description\": \"\"\n      }\n    },\n    {\n      \"column\": \"p_1\",\n      \"properties\": {\n        \"dtype\": \"number\",\n        \"std\": 1.6412495860827494,\n        \"min\": 10.818406166252592,\n        \"max\": 21.65,\n        \"num_unique_values\": 15000,\n        \"samples\": [\n          10.841031166519286,\n          10.82072215275189,\n          10.844117406727802\n        ],\n        \"semantic_type\": \"\",\n        \"description\": \"\"\n      }\n    },\n    {\n      \"column\": \"q\",\n      \"properties\": {\n        \"dtype\": \"number\",\n        \"std\": 16.412495860827534,\n        \"min\": 0.0,\n        \"max\": 108.31593833747407,\n        \"num_unique_values\": 15000,\n        \"samples\": [\n          108.08968833480712,\n          108.29277847248109,\n          108.05882593272196\n        ],\n        \"semantic_type\": \"\",\n        \"description\": \"\"\n      }\n    },\n    {\n      \"column\": \"h_4\",\n      \"properties\": {\n        \"dtype\": \"number\",\n        \"std\": 229.28642859775408,\n        \"min\": 106.43778091837487,\n        \"max\": 1500.0000000000002,\n        \"num_unique_values\": 15000,\n        \"samples\": [\n          114.79230142386875,\n          151.56062711899142,\n          109.89610757697409\n        ],\n        \"semantic_type\": \"\",\n        \"description\": \"\"\n      }\n    },\n    {\n      \"column\": \"u\",\n      \"properties\": {\n        \"dtype\": \"number\",\n        \"std\": 0,\n        \"min\": 1,\n        \"max\": 1,\n        \"num_unique_values\": 1,\n        \"samples\": [\n          1\n        ],\n        \"semantic_type\": \"\",\n        \"description\": \"\"\n      }\n    },\n    {\n      \"column\": \"x\",\n      \"properties\": {\n        \"dtype\": \"number\",\n        \"std\": 0.4330560058087809,\n        \"min\": 0.0,\n        \"max\": 1.5,\n        \"num_unique_values\": 15000,\n        \"samples\": [\n          1.1499766651110075\n        ],\n        \"semantic_type\": \"\",\n        \"description\": \"\"\n      }\n    }\n  ]\n}"
            }
          },
          "metadata": {},
          "execution_count": 375
        }
      ]
    },
    {
      "cell_type": "code",
      "source": [
        "import matplotlib.pyplot as plt\n",
        "plt.figure(figsize=(10, 5))\n",
        "plt.gca().spines[['top', 'right']].set_visible(False)\n",
        "# plot one by one\n",
        "\n",
        "plt.plot(df['x'], df['q_N'], 'r', lw=2)\n",
        "plt.plot(df['x'], df['q'], lw=2)\n",
        "\n",
        "\n",
        "# set x label\n",
        "plt.xlabel('Сутки')\n",
        "plt.ylabel('Давление')\n",
        "\n",
        "# set title\n",
        "plt.title('Расход')\n",
        "\n",
        "\n",
        "plt.ylim(0, 90)\n",
        "plt.grid(True)\n",
        "\n",
        "plt.annotate('q', xy = (df['x'][500],df['q'][200] ))\n",
        "plt.annotate('qN', xy = (df['x'][500],df['q_N'][200] ))\n",
        "# display plot\n",
        "plt.show()\n"
      ],
      "metadata": {
        "id": "8rW2fuNBhnNm",
        "outputId": "276c0cff-b4db-4af9-acbe-0fe44544b66e",
        "colab": {
          "base_uri": "https://localhost:8080/",
          "height": 487
        }
      },
      "execution_count": 376,
      "outputs": [
        {
          "output_type": "display_data",
          "data": {
            "text/plain": [
              "<Figure size 1000x500 with 1 Axes>"
            ],
            "image/png": "[encoded data removed]"
          },
          "metadata": {}
        }
      ]
    },
    {
      "cell_type": "code",
      "source": [
        "df['q_N']"
      ],
      "metadata": {
        "id": "dtdorFJJFS99",
        "outputId": "3b4aee8d-7f34-45f8-c621-757d14e6d5b7",
        "colab": {
          "base_uri": "https://localhost:8080/",
          "height": 458
        }
      },
      "execution_count": 377,
      "outputs": [
        {
          "output_type": "execute_result",
          "data": {
            "text/plain": [
              "0        152.201067\n",
              "1        152.152805\n",
              "2        152.104603\n",
              "3        152.056462\n",
              "4        152.008380\n",
              "            ...    \n",
              "14995    108.185597\n",
              "14996    108.185550\n",
              "14997    108.185503\n",
              "14998    108.185456\n",
              "14999    108.185409\n",
              "Name: q_N, Length: 15000, dtype: float64"
            ],
            "text/html": [
              "<div>\n",
              "<style scoped>\n",
              "    .dataframe tbody tr th:only-of-type {\n",
              "        vertical-align: middle;\n",
              "    }\n",
              "\n",
              "    .dataframe tbody tr th {\n",
              "        vertical-align: top;\n",
              "    }\n",
              "\n",
              "    .dataframe thead th {\n",
              "        text-align: right;\n",
              "    }\n",
              "</style>\n",
              "<table border=\"1\" class=\"dataframe\">\n",
              "  <thead>\n",
              "    <tr style=\"text-align: right;\">\n",
              "      <th></th>\n",
              "      <th>q_N</th>\n",
              "    </tr>\n",
              "  </thead>\n",
              "  <tbody>\n",
              "    <tr>\n",
              "      <th>0</th>\n",
              "      <td>152.201067</td>\n",
              "    </tr>\n",
              "    <tr>\n",
              "      <th>1</th>\n",
              "      <td>152.152805</td>\n",
              "    </tr>\n",
              "    <tr>\n",
              "      <th>2</th>\n",
              "      <td>152.104603</td>\n",
              "    </tr>\n",
              "    <tr>\n",
              "      <th>3</th>\n",
              "      <td>152.056462</td>\n",
              "    </tr>\n",
              "    <tr>\n",
              "      <th>4</th>\n",
              "      <td>152.008380</td>\n",
              "    </tr>\n",
              "    <tr>\n",
              "      <th>...</th>\n",
              "      <td>...</td>\n",
              "    </tr>\n",
              "    <tr>\n",
              "      <th>14995</th>\n",
              "      <td>108.185597</td>\n",
              "    </tr>\n",
              "    <tr>\n",
              "      <th>14996</th>\n",
              "      <td>108.185550</td>\n",
              "    </tr>\n",
              "    <tr>\n",
              "      <th>14997</th>\n",
              "      <td>108.185503</td>\n",
              "    </tr>\n",
              "    <tr>\n",
              "      <th>14998</th>\n",
              "      <td>108.185456</td>\n",
              "    </tr>\n",
              "    <tr>\n",
              "      <th>14999</th>\n",
              "      <td>108.185409</td>\n",
              "    </tr>\n",
              "  </tbody>\n",
              "</table>\n",
              "<p>15000 rows × 1 columns</p>\n",
              "</div><br><label><b>dtype:</b> float64</label>"
            ]
          },
          "metadata": {},
          "execution_count": 377
        }
      ]
    },
    {
      "cell_type": "code",
      "source": [
        "from matplotlib import pyplot as plt\n",
        "df['q'].plot(kind='line', figsize=(8, 4), title='q', grid=True)\n",
        "plt.gca().spines[['top', 'right']].set_visible(False)"
      ],
      "metadata": {
        "id": "RfbWpRu0Ul2b",
        "outputId": "add6712d-feb5-4be6-c4da-27471d9123e5",
        "colab": {
          "base_uri": "https://localhost:8080/",
          "height": 391
        }
      },
      "execution_count": 378,
      "outputs": [
        {
          "output_type": "display_data",
          "data": {
            "text/plain": [
              "<Figure size 800x400 with 1 Axes>"
            ],
            "image/png": "[encoded data removed]"
          },
          "metadata": {}
        }
      ]
    },
    {
      "cell_type": "code",
      "source": [
        "from matplotlib import pyplot as plt\n",
        "plt.figure(figsize=(10, 5))\n",
        "plt.gca().spines[['top', 'right']].set_visible(False)\n",
        "# plot one by one\n",
        "\n",
        "\n",
        "plt.plot(df['x'], df['p_1'],'r', lw=2)\n",
        "plt.plot(df['x'], [df['p_1'][14999]]*15000,'r--', lw=1)\n",
        "\n",
        "plt.plot(df['x'], df['p_3'], lw=2)\n",
        "plt.plot(df['x'], [df['p_3'][14999]]*15000,'b--', lw=1)\n",
        "\n",
        "# set x label\n",
        "plt.xlabel('Сутки')\n",
        "plt.ylabel('Давление')\n",
        "\n",
        "# set title\n",
        "plt.title('P(1), P(3)')\n",
        "\n",
        "\n",
        "plt.ylim(7, 22)\n",
        "plt.grid(True)\n",
        "plt.annotate('P(1)', xy = (df['x'][500],df['p_1'][200] ))\n",
        "plt.annotate(str(df['p_1'][14999].round(2)), xy = (0,16))\n",
        "\n",
        "plt.annotate('P(3)', xy = (df['x'][500],df['p_3'][200] ))\n",
        "plt.annotate(str(df['p_3'][14999].round(2)), xy = (0,7.6))\n",
        "\n",
        "# display plot\n",
        "plt.show()"
      ],
      "metadata": {
        "id": "4wtJyoayacfN",
        "outputId": "23e042d8-173b-47fe-bb41-86e875bacd34",
        "colab": {
          "base_uri": "https://localhost:8080/",
          "height": 487
        }
      },
      "execution_count": 379,
      "outputs": [
        {
          "output_type": "display_data",
          "data": {
            "text/plain": [
              "<Figure size 1000x500 with 1 Axes>"
            ],
            "image/png": "[encoded data removed]"
          },
          "metadata": {}
        }
      ]
    },
    {
      "cell_type": "code",
      "source": [
        "str(df['p_1'][14999].round(2))"
      ],
      "metadata": {
        "id": "DCb6NHEvnvL4",
        "outputId": "0410141b-92ef-47a7-c63d-20f1849366a8",
        "colab": {
          "base_uri": "https://localhost:8080/",
          "height": 36
        }
      },
      "execution_count": 380,
      "outputs": [
        {
          "output_type": "execute_result",
          "data": {
            "text/plain": [
              "'10.85'"
            ],
            "application/vnd.google.colaboratory.intrinsic+json": {
              "type": "string"
            }
          },
          "metadata": {},
          "execution_count": 380
        }
      ]
    },
    {
      "cell_type": "code",
      "source": [
        "df.iloc[14999]"
      ],
      "metadata": {
        "id": "8Q-ccWB0c4bR",
        "outputId": "26c84d31-b8f6-4ba8-b435-2d0e9de9bc51",
        "colab": {
          "base_uri": "https://localhost:8080/",
          "height": 303
        }
      },
      "execution_count": 381,
      "outputs": [
        {
          "output_type": "execute_result",
          "data": {
            "text/plain": [
              "q_N    108.185409\n",
              "p_3      2.401888\n",
              "p_1     10.846300\n",
              "q      108.037003\n",
              "h_4    106.437781\n",
              "u        1.000000\n",
              "x        1.500000\n",
              "Name: 14999, dtype: float64"
            ],
            "text/html": [
              "<div>\n",
              "<style scoped>\n",
              "    .dataframe tbody tr th:only-of-type {\n",
              "        vertical-align: middle;\n",
              "    }\n",
              "\n",
              "    .dataframe tbody tr th {\n",
              "        vertical-align: top;\n",
              "    }\n",
              "\n",
              "    .dataframe thead th {\n",
              "        text-align: right;\n",
              "    }\n",
              "</style>\n",
              "<table border=\"1\" class=\"dataframe\">\n",
              "  <thead>\n",
              "    <tr style=\"text-align: right;\">\n",
              "      <th></th>\n",
              "      <th>14999</th>\n",
              "    </tr>\n",
              "  </thead>\n",
              "  <tbody>\n",
              "    <tr>\n",
              "      <th>q_N</th>\n",
              "      <td>108.185409</td>\n",
              "    </tr>\n",
              "    <tr>\n",
              "      <th>p_3</th>\n",
              "      <td>2.401888</td>\n",
              "    </tr>\n",
              "    <tr>\n",
              "      <th>p_1</th>\n",
              "      <td>10.846300</td>\n",
              "    </tr>\n",
              "    <tr>\n",
              "      <th>q</th>\n",
              "      <td>108.037003</td>\n",
              "    </tr>\n",
              "    <tr>\n",
              "      <th>h_4</th>\n",
              "      <td>106.437781</td>\n",
              "    </tr>\n",
              "    <tr>\n",
              "      <th>u</th>\n",
              "      <td>1.000000</td>\n",
              "    </tr>\n",
              "    <tr>\n",
              "      <th>x</th>\n",
              "      <td>1.500000</td>\n",
              "    </tr>\n",
              "  </tbody>\n",
              "</table>\n",
              "</div><br><label><b>dtype:</b> float64</label>"
            ]
          },
          "metadata": {},
          "execution_count": 381
        }
      ]
    },
    {
      "cell_type": "code",
      "source": [
        "from matplotlib import pyplot as plt\n",
        "df['u'].plot(kind='line', figsize=(8, 4), title='Насос', grid=True)\n",
        "plt.gca().spines[['top', 'right']].set_visible(False)"
      ],
      "metadata": {
        "id": "AX133_gXeHV_",
        "outputId": "57117c6b-6de1-4387-ef46-03b790c63783",
        "colab": {
          "base_uri": "https://localhost:8080/",
          "height": 391
        }
      },
      "execution_count": 382,
      "outputs": [
        {
          "output_type": "display_data",
          "data": {
            "text/plain": [
              "<Figure size 800x400 with 1 Axes>"
            ],
            "image/png": "[encoded data removed]"
          },
          "metadata": {}
        }
      ]
    }
  ]
}