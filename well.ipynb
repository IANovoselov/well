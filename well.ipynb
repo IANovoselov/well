{
  "nbformat": 4,
  "nbformat_minor": 0,
  "metadata": {
    "colab": {
      "provenance": [],
      "authorship_tag": "ABX9TyN7SH/Eqsr/SPe+BYdfcyeq",
      "include_colab_link": true
    },
    "kernelspec": {
      "name": "python3",
      "display_name": "Python 3"
    },
    "language_info": {
      "name": "python"
    }
  },
  "cells": [
    {
      "cell_type": "markdown",
      "metadata": {
        "id": "view-in-github",
        "colab_type": "text"
      },
      "source": [
        "<a href=\"https://colab.research.google.com/github/IANovoselov/well/blob/main/well.ipynb\" target=\"_parent\"><img src=\"https://colab.research.google.com/assets/colab-badge.svg\" alt=\"Open In Colab\"/></a>"
      ]
    },
    {
      "cell_type": "code",
      "execution_count": 371,
      "metadata": {
        "id": "N0YZy14WujCD"
      },
      "outputs": [],
      "source": [
        "import numpy as np\n",
        "import pandas as pd"
      ]
    },
    {
      "cell_type": "code",
      "source": [
        " # Исходные данные для моделировния\n",
        "\n",
        "# Фонтанирующая скважина\n",
        "# p_R = 28  # Среднепластовое давление\n",
        "# p_G0 = 25  # Давление насыщенного газа\n",
        "\n",
        "# Нефонтанирующая скважина\n",
        "p_R = 21.65  # Среднепластовое давление\n",
        "p_G0 = 17.32  # Давление насыщенного газа\n",
        "\n",
        "H_R = 3000  # Глубина забоя по вертикали\n",
        "w_1 = 12  # Гидропроводность из пласта в ПЗ скважины\n",
        "w_2 = 60  # Гидропроводность из ПЗ в забой\n",
        "betta = 0.3  # Объёмная доля воды\n",
        "p_0 = 0.1  # Атмосферное давление\n",
        "\n",
        "# Удельный вес\n",
        "gamma_oil = 0.0068  # нефти\n",
        "gamma_water = 0.011  # воды\n",
        "gamma_gas = 0.000008  # газа\n",
        "G = 100  # Газовый фактор\n",
        "p_L = 1.5  # Давление в линии нефтесбора\n",
        "\n",
        "# Гидросопротивление\n",
        "r_K = 0.5  # обсадной колонный\n",
        "r_N = 4  # НКТ\n",
        "r_T = 0.8  # затрубного пространства\n",
        "r_U = 3  # устьевого штуцера\n",
        "r_GU = 3  # перепускного клапана\n",
        "\n",
        "# Параметры насоса\n",
        "H_N = 2000  # уровень подвеса\n",
        "q_0 = 95  # номинальный дебит\n",
        "\n",
        "# Напорная характеристика\n",
        "q_Pump = [5/3, 4/3, 2/3]\n",
        "lambda_0 = [10/3, 2, 3/2]\n",
        "lambda_1 = [2, 1, 1/4]"
      ],
      "metadata": {
        "id": "ZV2ClIokAvU2"
      },
      "execution_count": 372,
      "outputs": []
    },
    {
      "cell_type": "code",
      "source": [
        "# Моделируемые данные, начальные условия\n",
        "_q_N = []\n",
        "_q_T = []\n",
        "__q = []\n",
        "_p_1 = []\n",
        "_p_2 = []\n",
        "_p_3 = []\n",
        "_p_5 = []\n",
        "_p_4 = []\n",
        "_p_8 = []\n",
        "_u = []\n",
        "_h_4 = []"
      ],
      "metadata": {
        "id": "iFZbkJ2zA8gc"
      },
      "execution_count": 373,
      "outputs": []
    },
    {
      "cell_type": "code",
      "source": [
        "# Статический расчёт скважины\n",
        "\n",
        "# Гидросопротивления\n",
        "r_1 = 1/w_1  # Пласт - ПЗ\n",
        "r_2 = 1/w_2  # ПЗ - забой\n",
        "r_R = r_1 + r_2\n",
        "r_R = 0.1"
      ],
      "metadata": {
        "id": "AeMVydD0TX6j"
      },
      "execution_count": 374,
      "outputs": []
    },
    {
      "cell_type": "code",
      "source": [
        "# Ограничения\n",
        "h_lim = 100  # По уровню над приёмом насос\n",
        "betta_G_lim = 0.25  # По газу у первой ступени"
      ],
      "metadata": {
        "id": "OzA0P0qvYEJt"
      },
      "execution_count": 375,
      "outputs": []
    },
    {
      "cell_type": "code",
      "source": [
        "# Высота столба жидкости\n",
        "gamma = (1-betta)*gamma_oil+betta*gamma_water\n",
        "dH_R =  (p_R-p_L)/gamma - H_R\n",
        "dH_R"
      ],
      "metadata": {
        "id": "MBH_PzROWrqa",
        "outputId": "21d7b597-c283-4044-8b97-36b15ef6edac",
        "colab": {
          "base_uri": "https://localhost:8080/"
        }
      },
      "execution_count": 376,
      "outputs": [
        {
          "output_type": "execute_result",
          "data": {
            "text/plain": [
              "-500.0"
            ]
          },
          "metadata": {},
          "execution_count": 376
        }
      ]
    },
    {
      "cell_type": "code",
      "source": [
        "h_0 = q_0*(r_U + r_N + r_K + r_R/gamma) - dH_R"
      ],
      "metadata": {
        "id": "bJB6xG_5CDdx"
      },
      "execution_count": 377,
      "outputs": []
    },
    {
      "cell_type": "code",
      "source": [
        "alpha_G_3 = 0.4\n",
        "alpha_betta = 0.333\n",
        "k_S = 0.7\n",
        "X_G = 0.00008\n",
        "\n",
        "M_R3 = (1-betta)*G*((alpha_G_3*p_0) / (p_G0 - p_0))\n",
        "p_G3 = p_G0 * (((1-k_S)*M_R3)/(((1-k_S)*M_R3)+alpha_betta))\n",
        "\n",
        "a_GU = 0.0000091 #k_S*X_G*M_R3"
      ],
      "metadata": {
        "id": "ojGUBRRekLFT"
      },
      "execution_count": 378,
      "outputs": []
    },
    {
      "cell_type": "code",
      "source": [
        "# Расчёт динамики\n",
        "\n",
        "# Начальные условия\n",
        "\n",
        "M_q = 0.5\n",
        "\n",
        "h_4 = H_N + dH_R\n",
        "p_2 = p_R\n",
        "t = 0\n",
        "w = 1\n",
        "q = 0\n",
        "p_3 = p_L + gamma * h_4\n",
        "epsilon = 0.01 * p_3\n",
        "\n",
        "# Сегмент напорной характеристики\n",
        "i = 1\n",
        "\n",
        "q = (p_2 - p_3 - gamma*(H_R-H_N)) / (r_R + gamma * r_K)\n",
        "__p_3 = (p_L + p_G0 * r_GU * np.sqrt(w) * a_GU * q + gamma * h_4) / (1 + r_GU * np.sqrt(w) * a_GU * q)\n",
        "# Балансировка притока по начальным условиям\n",
        "while abs(p_3 - __p_3) > epsilon:\n",
        "    p_3 = (1 - M_q)*p_3 + M_q *__p_3\n",
        "    q = (p_2 - p_3 - gamma*(H_R-H_N)) / (r_R + gamma * r_K)\n",
        "    __p_3 = (p_L + p_G0 * r_GU * np.sqrt(w) * a_GU * q_0 + gamma * h_4) / (1 + r_GU * np.sqrt(w) * a_GU * q_0)"
      ],
      "metadata": {
        "id": "2BfX0rNuZpdL"
      },
      "execution_count": 379,
      "outputs": []
    },
    {
      "cell_type": "code",
      "source": [
        "# Начало расчёта\n",
        "for k in range(15000):\n",
        "\n",
        "    p_3 = (p_L + p_G0 * r_GU * np.sqrt(w) * a_GU * q + gamma * h_4) / (1 + r_GU * np.sqrt(w) * a_GU * q)\n",
        "    q = (p_2 - p_3 - gamma*(H_R-H_N)) / (r_1 + gamma * r_K)\n",
        "\n",
        "\n",
        "    # Расчёт подачи\n",
        "\n",
        "    q_N = (w*w*h_0*lambda_0[i] - H_N + (1/gamma)*(p_3 - p_L)) / (w*(h_0/q_0)*lambda_1[i]+r_U+r_N)\n",
        "    q_N = max(q_N, 0)\n",
        "\n",
        "    if w*q_0*q_Pump[0] <= q_N <= w*q_0*q_Pump[1]:\n",
        "        i = 0\n",
        "        q_N = (w*w*h_0*lambda_0[i] - H_N + (1/gamma)*(p_3 - p_L)) / (w*(h_0/q_0)*lambda_1[i]+r_U+r_N)\n",
        "        q_N = max(q_N, 0)\n",
        "\n",
        "    if w*q_0*q_Pump[1] < q_N < w*q_0*q_Pump[2]:\n",
        "        i = 1\n",
        "        q_N = (w*w*h_0*lambda_0[i] - H_N + (1/gamma)*(p_3 - p_L)) / (w*(h_0/q_0)*lambda_1[i]+r_U+r_N)\n",
        "        q_N = max(q_N, 0)\n",
        "\n",
        "    if w*q_0*q_Pump[1] <= q_N <= w*q_0*q_Pump[2]:\n",
        "        i = 2\n",
        "        q_N = (w*w*h_0*lambda_0[i] - H_N + (1/gamma)*(p_3 - p_L)) / (w*(h_0/q_0)*lambda_1[i]+r_U+r_N)\n",
        "        q_N = max(q_N, 0)\n",
        "\n",
        "\n",
        "\n",
        "    betta_G3 = (M_R3*(p_G0 - p_3)) / (p_3 + M_R3*(p_G0 - p_3))\n",
        "    M_RS = (1 - k_S*np.sqrt(w))* M_R3\n",
        "    betta_GN = (M_RS*(p_G0 - p_3)) / (p_3 + M_RS*(p_G0 - p_3))\n",
        "\n",
        "    h_4 = (1/gamma)*(p_3 - p_L - r_GU*np.sqrt(w)*a_GU*(p_G0-p_3)*q)\n",
        "\n",
        "    p_1 = p_R - r_R*q\n",
        "\n",
        "    p_8 = p_L + gamma * r_U * q_N\n",
        "    p_4 = (p_L + r_GU * np.sqrt(w) * a_GU * q * (p_G0 - p_3))\n",
        "\n",
        "    _p_1.append(p_1)\n",
        "    _p_3.append(p_3)\n",
        "    _p_4.append(p_4)\n",
        "    _p_8.append(p_8)\n",
        "    _q_N.append(q_N)\n",
        "    __q.append(q)\n",
        "    _h_4.append(h_4)\n",
        "    _u.append(w)\n",
        "\n",
        "    # Шаг по Эйлеру\n",
        "\n",
        "    p_2 = p_2 + (0.0001/0.4)*(p_R - p_2 - r_2*q)\n",
        "    h_4 = h_4 + (0.0001/0.01)*(q-q_N)\n"
      ],
      "metadata": {
        "id": "WA8XTqw5laeO"
      },
      "execution_count": 380,
      "outputs": []
    },
    {
      "cell_type": "markdown",
      "source": [],
      "metadata": {
        "id": "GQ9c3dLcfTU5"
      }
    },
    {
      "cell_type": "code",
      "source": [
        "x = np.linspace(0, 1.5, 15000)\n",
        "x"
      ],
      "metadata": {
        "id": "pp2qJH-gbQGG",
        "outputId": "4b0d628d-a0d0-48ee-da71-30ed20adce99",
        "colab": {
          "base_uri": "https://localhost:8080/"
        }
      },
      "execution_count": 381,
      "outputs": [
        {
          "output_type": "execute_result",
          "data": {
            "text/plain": [
              "array([0.00000000e+00, 1.00006667e-04, 2.00013334e-04, ...,\n",
              "       1.49979999e+00, 1.49989999e+00, 1.50000000e+00])"
            ]
          },
          "metadata": {},
          "execution_count": 381
        }
      ]
    },
    {
      "cell_type": "code",
      "source": [
        "df = pd.DataFrame({'q_N': _q_N, 'p_3': _p_3, 'p_1': _p_1, 'q': __q, 'h_4': _h_4, 'u': _u, 'x': x,\n",
        "                   'p_4': _p_4, 'p_8': _p_8})"
      ],
      "metadata": {
        "id": "3VoIFG_wvc09"
      },
      "execution_count": 382,
      "outputs": []
    },
    {
      "cell_type": "code",
      "source": [
        "df"
      ],
      "metadata": {
        "id": "tsFwHH7qkkJa",
        "outputId": "9a1d5a44-f9da-447a-cdec-de7965c8f0fc",
        "colab": {
          "base_uri": "https://localhost:8080/",
          "height": 424
        }
      },
      "execution_count": 383,
      "outputs": [
        {
          "output_type": "execute_result",
          "data": {
            "text/plain": [
              "              q_N        p_3        p_1          q          h_4  u       x  \\\n",
              "0      133.114890  13.590000  21.650000   0.000000  1500.000000  1  0.0000   \n",
              "1      133.073512  13.579271  21.637719   0.122810  1498.667295  1  0.0001   \n",
              "2      133.032184  13.568555  21.625454   0.245462  1497.336230  1  0.0002   \n",
              "3      132.990908  13.557853  21.613204   0.367956  1496.006801  1  0.0003   \n",
              "4      132.949683  13.547163  21.600971   0.490293  1494.679009  1  0.0004   \n",
              "...           ...        ...        ...        ...          ... ..     ...   \n",
              "14995   95.161788   3.749100  12.147013  95.029874   274.676535  1  1.4996   \n",
              "14996   95.161747   3.749089  12.147013  95.029866   274.675216  1  1.4997   \n",
              "14997   95.161706   3.749079  12.147014  95.029859   274.673898  1  1.4998   \n",
              "14998   95.161665   3.749068  12.147015  95.029851   274.672580  1  1.4999   \n",
              "14999   95.161624   3.749058  12.147016  95.029844   274.671262  1  1.5000   \n",
              "\n",
              "            p_4       p_8  \n",
              "0      1.500000  4.718718  \n",
              "1      1.500013  4.717718  \n",
              "2      1.500025  4.716718  \n",
              "3      1.500038  4.715720  \n",
              "4      1.500050  4.714723  \n",
              "...         ...       ...  \n",
              "14995  1.535207  3.801012  \n",
              "14996  1.535207  3.801011  \n",
              "14997  1.535207  3.801010  \n",
              "14998  1.535207  3.801009  \n",
              "14999  1.535207  3.801008  \n",
              "\n",
              "[15000 rows x 9 columns]"
            ],
            "text/html": [
              "\n",
              "  <div id=\"df-0b5c349a-8993-445f-ba94-6e11d78e443b\" class=\"colab-df-container\">\n",
              "    <div>\n",
              "<style scoped>\n",
              "    .dataframe tbody tr th:only-of-type {\n",
              "        vertical-align: middle;\n",
              "    }\n",
              "\n",
              "    .dataframe tbody tr th {\n",
              "        vertical-align: top;\n",
              "    }\n",
              "\n",
              "    .dataframe thead th {\n",
              "        text-align: right;\n",
              "    }\n",
              "</style>\n",
              "<table border=\"1\" class=\"dataframe\">\n",
              "  <thead>\n",
              "    <tr style=\"text-align: right;\">\n",
              "      <th></th>\n",
              "      <th>q_N</th>\n",
              "      <th>p_3</th>\n",
              "      <th>p_1</th>\n",
              "      <th>q</th>\n",
              "      <th>h_4</th>\n",
              "      <th>u</th>\n",
              "      <th>x</th>\n",
              "      <th>p_4</th>\n",
              "      <th>p_8</th>\n",
              "    </tr>\n",
              "  </thead>\n",
              "  <tbody>\n",
              "    <tr>\n",
              "      <th>0</th>\n",
              "      <td>133.114890</td>\n",
              "      <td>13.590000</td>\n",
              "      <td>21.650000</td>\n",
              "      <td>0.000000</td>\n",
              "      <td>1500.000000</td>\n",
              "      <td>1</td>\n",
              "      <td>0.0000</td>\n",
              "      <td>1.500000</td>\n",
              "      <td>4.718718</td>\n",
              "    </tr>\n",
              "    <tr>\n",
              "      <th>1</th>\n",
              "      <td>133.073512</td>\n",
              "      <td>13.579271</td>\n",
              "      <td>21.637719</td>\n",
              "      <td>0.122810</td>\n",
              "      <td>1498.667295</td>\n",
              "      <td>1</td>\n",
              "      <td>0.0001</td>\n",
              "      <td>1.500013</td>\n",
              "      <td>4.717718</td>\n",
              "    </tr>\n",
              "    <tr>\n",
              "      <th>2</th>\n",
              "      <td>133.032184</td>\n",
              "      <td>13.568555</td>\n",
              "      <td>21.625454</td>\n",
              "      <td>0.245462</td>\n",
              "      <td>1497.336230</td>\n",
              "      <td>1</td>\n",
              "      <td>0.0002</td>\n",
              "      <td>1.500025</td>\n",
              "      <td>4.716718</td>\n",
              "    </tr>\n",
              "    <tr>\n",
              "      <th>3</th>\n",
              "      <td>132.990908</td>\n",
              "      <td>13.557853</td>\n",
              "      <td>21.613204</td>\n",
              "      <td>0.367956</td>\n",
              "      <td>1496.006801</td>\n",
              "      <td>1</td>\n",
              "      <td>0.0003</td>\n",
              "      <td>1.500038</td>\n",
              "      <td>4.715720</td>\n",
              "    </tr>\n",
              "    <tr>\n",
              "      <th>4</th>\n",
              "      <td>132.949683</td>\n",
              "      <td>13.547163</td>\n",
              "      <td>21.600971</td>\n",
              "      <td>0.490293</td>\n",
              "      <td>1494.679009</td>\n",
              "      <td>1</td>\n",
              "      <td>0.0004</td>\n",
              "      <td>1.500050</td>\n",
              "      <td>4.714723</td>\n",
              "    </tr>\n",
              "    <tr>\n",
              "      <th>...</th>\n",
              "      <td>...</td>\n",
              "      <td>...</td>\n",
              "      <td>...</td>\n",
              "      <td>...</td>\n",
              "      <td>...</td>\n",
              "      <td>...</td>\n",
              "      <td>...</td>\n",
              "      <td>...</td>\n",
              "      <td>...</td>\n",
              "    </tr>\n",
              "    <tr>\n",
              "      <th>14995</th>\n",
              "      <td>95.161788</td>\n",
              "      <td>3.749100</td>\n",
              "      <td>12.147013</td>\n",
              "      <td>95.029874</td>\n",
              "      <td>274.676535</td>\n",
              "      <td>1</td>\n",
              "      <td>1.4996</td>\n",
              "      <td>1.535207</td>\n",
              "      <td>3.801012</td>\n",
              "    </tr>\n",
              "    <tr>\n",
              "      <th>14996</th>\n",
              "      <td>95.161747</td>\n",
              "      <td>3.749089</td>\n",
              "      <td>12.147013</td>\n",
              "      <td>95.029866</td>\n",
              "      <td>274.675216</td>\n",
              "      <td>1</td>\n",
              "      <td>1.4997</td>\n",
              "      <td>1.535207</td>\n",
              "      <td>3.801011</td>\n",
              "    </tr>\n",
              "    <tr>\n",
              "      <th>14997</th>\n",
              "      <td>95.161706</td>\n",
              "      <td>3.749079</td>\n",
              "      <td>12.147014</td>\n",
              "      <td>95.029859</td>\n",
              "      <td>274.673898</td>\n",
              "      <td>1</td>\n",
              "      <td>1.4998</td>\n",
              "      <td>1.535207</td>\n",
              "      <td>3.801010</td>\n",
              "    </tr>\n",
              "    <tr>\n",
              "      <th>14998</th>\n",
              "      <td>95.161665</td>\n",
              "      <td>3.749068</td>\n",
              "      <td>12.147015</td>\n",
              "      <td>95.029851</td>\n",
              "      <td>274.672580</td>\n",
              "      <td>1</td>\n",
              "      <td>1.4999</td>\n",
              "      <td>1.535207</td>\n",
              "      <td>3.801009</td>\n",
              "    </tr>\n",
              "    <tr>\n",
              "      <th>14999</th>\n",
              "      <td>95.161624</td>\n",
              "      <td>3.749058</td>\n",
              "      <td>12.147016</td>\n",
              "      <td>95.029844</td>\n",
              "      <td>274.671262</td>\n",
              "      <td>1</td>\n",
              "      <td>1.5000</td>\n",
              "      <td>1.535207</td>\n",
              "      <td>3.801008</td>\n",
              "    </tr>\n",
              "  </tbody>\n",
              "</table>\n",
              "<p>15000 rows × 9 columns</p>\n",
              "</div>\n",
              "    <div class=\"colab-df-buttons\">\n",
              "\n",
              "  <div class=\"colab-df-container\">\n",
              "    <button class=\"colab-df-convert\" onclick=\"convertToInteractive('df-0b5c349a-8993-445f-ba94-6e11d78e443b')\"\n",
              "            title=\"Convert this dataframe to an interactive table.\"\n",
              "            style=\"display:none;\">\n",
              "\n",
              "  <svg xmlns=\"http://www.w3.org/2000/svg\" height=\"24px\" viewBox=\"0 -960 960 960\">\n",
              "    <path d=\"M120-120v-720h720v720H120Zm60-500h600v-160H180v160Zm220 220h160v-160H400v160Zm0 220h160v-160H400v160ZM180-400h160v-160H180v160Zm440 0h160v-160H620v160ZM180-180h160v-160H180v160Zm440 0h160v-160H620v160Z\"/>\n",
              "  </svg>\n",
              "    </button>\n",
              "\n",
              "  <style>\n",
              "    .colab-df-container {\n",
              "      display:flex;\n",
              "      gap: 12px;\n",
              "    }\n",
              "\n",
              "    .colab-df-convert {\n",
              "      background-color: #E8F0FE;\n",
              "      border: none;\n",
              "      border-radius: 50%;\n",
              "      cursor: pointer;\n",
              "      display: none;\n",
              "      fill: #1967D2;\n",
              "      height: 32px;\n",
              "      padding: 0 0 0 0;\n",
              "      width: 32px;\n",
              "    }\n",
              "\n",
              "    .colab-df-convert:hover {\n",
              "      background-color: #E2EBFA;\n",
              "      box-shadow: 0px 1px 2px rgba(60, 64, 67, 0.3), 0px 1px 3px 1px rgba(60, 64, 67, 0.15);\n",
              "      fill: #174EA6;\n",
              "    }\n",
              "\n",
              "    .colab-df-buttons div {\n",
              "      margin-bottom: 4px;\n",
              "    }\n",
              "\n",
              "    [theme=dark] .colab-df-convert {\n",
              "      background-color: #3B4455;\n",
              "      fill: #D2E3FC;\n",
              "    }\n",
              "\n",
              "    [theme=dark] .colab-df-convert:hover {\n",
              "      background-color: #434B5C;\n",
              "      box-shadow: 0px 1px 3px 1px rgba(0, 0, 0, 0.15);\n",
              "      filter: drop-shadow(0px 1px 2px rgba(0, 0, 0, 0.3));\n",
              "      fill: #FFFFFF;\n",
              "    }\n",
              "  </style>\n",
              "\n",
              "    <script>\n",
              "      const buttonEl =\n",
              "        document.querySelector('#df-0b5c349a-8993-445f-ba94-6e11d78e443b button.colab-df-convert');\n",
              "      buttonEl.style.display =\n",
              "        google.colab.kernel.accessAllowed ? 'block' : 'none';\n",
              "\n",
              "      async function convertToInteractive(key) {\n",
              "        const element = document.querySelector('#df-0b5c349a-8993-445f-ba94-6e11d78e443b');\n",
              "        const dataTable =\n",
              "          await google.colab.kernel.invokeFunction('convertToInteractive',\n",
              "                                                    [key], {});\n",
              "        if (!dataTable) return;\n",
              "\n",
              "        const docLinkHtml = 'Like what you see? Visit the ' +\n",
              "          '<a target=\"_blank\" href=https://colab.research.google.com/notebooks/data_table.ipynb>data table notebook</a>'\n",
              "          + ' to learn more about interactive tables.';\n",
              "        element.innerHTML = '';\n",
              "        dataTable['output_type'] = 'display_data';\n",
              "        await google.colab.output.renderOutput(dataTable, element);\n",
              "        const docLink = document.createElement('div');\n",
              "        docLink.innerHTML = docLinkHtml;\n",
              "        element.appendChild(docLink);\n",
              "      }\n",
              "    </script>\n",
              "  </div>\n",
              "\n",
              "\n",
              "<div id=\"df-754f6989-cd77-4e86-8a38-66dfd29770bf\">\n",
              "  <button class=\"colab-df-quickchart\" onclick=\"quickchart('df-754f6989-cd77-4e86-8a38-66dfd29770bf')\"\n",
              "            title=\"Suggest charts\"\n",
              "            style=\"display:none;\">\n",
              "\n",
              "<svg xmlns=\"http://www.w3.org/2000/svg\" height=\"24px\"viewBox=\"0 0 24 24\"\n",
              "     width=\"24px\">\n",
              "    <g>\n",
              "        <path d=\"M19 3H5c-1.1 0-2 .9-2 2v14c0 1.1.9 2 2 2h14c1.1 0 2-.9 2-2V5c0-1.1-.9-2-2-2zM9 17H7v-7h2v7zm4 0h-2V7h2v10zm4 0h-2v-4h2v4z\"/>\n",
              "    </g>\n",
              "</svg>\n",
              "  </button>\n",
              "\n",
              "<style>\n",
              "  .colab-df-quickchart {\n",
              "      --bg-color: #E8F0FE;\n",
              "      --fill-color: #1967D2;\n",
              "      --hover-bg-color: #E2EBFA;\n",
              "      --hover-fill-color: #174EA6;\n",
              "      --disabled-fill-color: #AAA;\n",
              "      --disabled-bg-color: #DDD;\n",
              "  }\n",
              "\n",
              "  [theme=dark] .colab-df-quickchart {\n",
              "      --bg-color: #3B4455;\n",
              "      --fill-color: #D2E3FC;\n",
              "      --hover-bg-color: #434B5C;\n",
              "      --hover-fill-color: #FFFFFF;\n",
              "      --disabled-bg-color: #3B4455;\n",
              "      --disabled-fill-color: #666;\n",
              "  }\n",
              "\n",
              "  .colab-df-quickchart {\n",
              "    background-color: var(--bg-color);\n",
              "    border: none;\n",
              "    border-radius: 50%;\n",
              "    cursor: pointer;\n",
              "    display: none;\n",
              "    fill: var(--fill-color);\n",
              "    height: 32px;\n",
              "    padding: 0;\n",
              "    width: 32px;\n",
              "  }\n",
              "\n",
              "  .colab-df-quickchart:hover {\n",
              "    background-color: var(--hover-bg-color);\n",
              "    box-shadow: 0 1px 2px rgba(60, 64, 67, 0.3), 0 1px 3px 1px rgba(60, 64, 67, 0.15);\n",
              "    fill: var(--button-hover-fill-color);\n",
              "  }\n",
              "\n",
              "  .colab-df-quickchart-complete:disabled,\n",
              "  .colab-df-quickchart-complete:disabled:hover {\n",
              "    background-color: var(--disabled-bg-color);\n",
              "    fill: var(--disabled-fill-color);\n",
              "    box-shadow: none;\n",
              "  }\n",
              "\n",
              "  .colab-df-spinner {\n",
              "    border: 2px solid var(--fill-color);\n",
              "    border-color: transparent;\n",
              "    border-bottom-color: var(--fill-color);\n",
              "    animation:\n",
              "      spin 1s steps(1) infinite;\n",
              "  }\n",
              "\n",
              "  @keyframes spin {\n",
              "    0% {\n",
              "      border-color: transparent;\n",
              "      border-bottom-color: var(--fill-color);\n",
              "      border-left-color: var(--fill-color);\n",
              "    }\n",
              "    20% {\n",
              "      border-color: transparent;\n",
              "      border-left-color: var(--fill-color);\n",
              "      border-top-color: var(--fill-color);\n",
              "    }\n",
              "    30% {\n",
              "      border-color: transparent;\n",
              "      border-left-color: var(--fill-color);\n",
              "      border-top-color: var(--fill-color);\n",
              "      border-right-color: var(--fill-color);\n",
              "    }\n",
              "    40% {\n",
              "      border-color: transparent;\n",
              "      border-right-color: var(--fill-color);\n",
              "      border-top-color: var(--fill-color);\n",
              "    }\n",
              "    60% {\n",
              "      border-color: transparent;\n",
              "      border-right-color: var(--fill-color);\n",
              "    }\n",
              "    80% {\n",
              "      border-color: transparent;\n",
              "      border-right-color: var(--fill-color);\n",
              "      border-bottom-color: var(--fill-color);\n",
              "    }\n",
              "    90% {\n",
              "      border-color: transparent;\n",
              "      border-bottom-color: var(--fill-color);\n",
              "    }\n",
              "  }\n",
              "</style>\n",
              "\n",
              "  <script>\n",
              "    async function quickchart(key) {\n",
              "      const quickchartButtonEl =\n",
              "        document.querySelector('#' + key + ' button');\n",
              "      quickchartButtonEl.disabled = true;  // To prevent multiple clicks.\n",
              "      quickchartButtonEl.classList.add('colab-df-spinner');\n",
              "      try {\n",
              "        const charts = await google.colab.kernel.invokeFunction(\n",
              "            'suggestCharts', [key], {});\n",
              "      } catch (error) {\n",
              "        console.error('Error during call to suggestCharts:', error);\n",
              "      }\n",
              "      quickchartButtonEl.classList.remove('colab-df-spinner');\n",
              "      quickchartButtonEl.classList.add('colab-df-quickchart-complete');\n",
              "    }\n",
              "    (() => {\n",
              "      let quickchartButtonEl =\n",
              "        document.querySelector('#df-754f6989-cd77-4e86-8a38-66dfd29770bf button');\n",
              "      quickchartButtonEl.style.display =\n",
              "        google.colab.kernel.accessAllowed ? 'block' : 'none';\n",
              "    })();\n",
              "  </script>\n",
              "</div>\n",
              "    </div>\n",
              "  </div>\n"
            ],
            "application/vnd.google.colaboratory.intrinsic+json": {
              "type": "dataframe",
              "variable_name": "df",
              "summary": "{\n  \"name\": \"df\",\n  \"rows\": 15000,\n  \"fields\": [\n    {\n      \"column\": \"q_N\",\n      \"properties\": {\n        \"dtype\": \"number\",\n        \"std\": 6.254895193663348,\n        \"min\": 95.16162404274004,\n        \"max\": 133.11489019654806,\n        \"num_unique_values\": 15000,\n        \"samples\": [\n          95.39158190454707,\n          96.40255945108993,\n          95.25684026200942\n        ],\n        \"semantic_type\": \"\",\n        \"description\": \"\"\n      }\n    },\n    {\n      \"column\": \"p_3\",\n      \"properties\": {\n        \"dtype\": \"number\",\n        \"std\": 1.6218383588651866,\n        \"min\": 3.7490576681726377,\n        \"max\": 13.59,\n        \"num_unique_values\": 15000,\n        \"samples\": [\n          3.80868368422149,\n          4.070821116451479,\n          3.7737463818945947\n        ],\n        \"semantic_type\": \"\",\n        \"description\": \"\"\n      }\n    },\n    {\n      \"column\": \"p_1\",\n      \"properties\": {\n        \"dtype\": \"number\",\n        \"std\": 1.4471533182506053,\n        \"min\": 12.125322640934169,\n        \"max\": 21.65,\n        \"num_unique_values\": 15000,\n        \"samples\": [\n          12.142773775415366,\n          12.126729589782565,\n          12.145257951019998\n        ],\n        \"semantic_type\": \"\",\n        \"description\": \"\"\n      }\n    },\n    {\n      \"column\": \"q\",\n      \"properties\": {\n        \"dtype\": \"number\",\n        \"std\": 14.471533182506052,\n        \"min\": 0.0,\n        \"max\": 95.2467735906583,\n        \"num_unique_values\": 15000,\n        \"samples\": [\n          95.07226224584633,\n          95.23270410217432,\n          95.0474204898\n        ],\n        \"semantic_type\": \"\",\n        \"description\": \"\"\n      }\n    },\n    {\n      \"column\": \"h_4\",\n      \"properties\": {\n        \"dtype\": \"number\",\n        \"std\": 202.06110148563687,\n        \"min\": 274.6712621104294,\n        \"max\": 1500.0000000000002,\n        \"num_unique_values\": 15000,\n        \"samples\": [\n          282.08628173467054,\n          314.68674954615926,\n          277.7415181681815\n        ],\n        \"semantic_type\": \"\",\n        \"description\": \"\"\n      }\n    },\n    {\n      \"column\": \"u\",\n      \"properties\": {\n        \"dtype\": \"number\",\n        \"std\": 0,\n        \"min\": 1,\n        \"max\": 1,\n        \"num_unique_values\": 1,\n        \"samples\": [\n          1\n        ],\n        \"semantic_type\": \"\",\n        \"description\": \"\"\n      }\n    },\n    {\n      \"column\": \"x\",\n      \"properties\": {\n        \"dtype\": \"number\",\n        \"std\": 0.4330560058087809,\n        \"min\": 0.0,\n        \"max\": 1.5,\n        \"num_unique_values\": 15000,\n        \"samples\": [\n          1.1499766651110075\n        ],\n        \"semantic_type\": \"\",\n        \"description\": \"\"\n      }\n    },\n    {\n      \"column\": \"p_4\",\n      \"properties\": {\n        \"dtype\": \"number\",\n        \"std\": 0.006806271406736136,\n        \"min\": 1.5,\n        \"max\": 1.5352072955625773,\n        \"num_unique_values\": 15000,\n        \"samples\": [\n          1.5350682534400455\n        ],\n        \"semantic_type\": \"\",\n        \"description\": \"\"\n      }\n    },\n    {\n      \"column\": \"p_8\",\n      \"properties\": {\n        \"dtype\": \"number\",\n        \"std\": 0.1512433657827804,\n        \"min\": 3.8010080693534545,\n        \"max\": 4.718718044952532,\n        \"num_unique_values\": 15000,\n        \"samples\": [\n          3.806568450451948\n        ],\n        \"semantic_type\": \"\",\n        \"description\": \"\"\n      }\n    }\n  ]\n}"
            }
          },
          "metadata": {},
          "execution_count": 383
        }
      ]
    },
    {
      "cell_type": "code",
      "source": [
        "import matplotlib.pyplot as plt\n",
        "plt.figure(figsize=(10, 5))\n",
        "plt.gca().spines[['top', 'right']].set_visible(False)\n",
        "# plot one by one\n",
        "\n",
        "plt.plot(df['x'], df['q_N'], 'r', lw=2)\n",
        "plt.plot(df['x'], df['q'], lw=2)\n",
        "plt.plot(df['x'], [df['q'][14999]]*15000,'r--', lw=1)\n",
        "\n",
        "\n",
        "# set x label\n",
        "plt.xlabel('Сутки')\n",
        "plt.ylabel('Давление')\n",
        "\n",
        "# set title\n",
        "plt.title('Расход')\n",
        "\n",
        "\n",
        "plt.ylim(0, 160)\n",
        "plt.grid(True)\n",
        "\n",
        "plt.annotate('q', xy = (df['x'][500],df['q'][200] ))\n",
        "plt.annotate('qN', xy = (df['x'][500],df['q_N'][200] ))\n",
        "plt.annotate(df['q_N'][14999].round(1), xy = (df['x'][100], df['q_N'][14999]*1.03 ))\n",
        "# display plot\n",
        "plt.show()\n"
      ],
      "metadata": {
        "id": "8rW2fuNBhnNm",
        "outputId": "853d692d-855a-4b92-c99c-1a6fe523cc5b",
        "colab": {
          "base_uri": "https://localhost:8080/",
          "height": 487
        }
      },
      "execution_count": 397,
      "outputs": [
        {
          "output_type": "display_data",
          "data": {
            "text/plain": [
              "<Figure size 1000x500 with 1 Axes>"
            ],
            "image/png": "[encoded data removed]"
          },
          "metadata": {}
        }
      ]
    },
    {
      "cell_type": "code",
      "source": [
        "df['q_N']"
      ],
      "metadata": {
        "id": "dtdorFJJFS99",
        "outputId": "ec5f19bb-7100-46da-d666-6efe8d02c8c3",
        "colab": {
          "base_uri": "https://localhost:8080/",
          "height": 458
        }
      },
      "execution_count": 385,
      "outputs": [
        {
          "output_type": "execute_result",
          "data": {
            "text/plain": [
              "0        133.114890\n",
              "1        133.073512\n",
              "2        133.032184\n",
              "3        132.990908\n",
              "4        132.949683\n",
              "            ...    \n",
              "14995     95.161788\n",
              "14996     95.161747\n",
              "14997     95.161706\n",
              "14998     95.161665\n",
              "14999     95.161624\n",
              "Name: q_N, Length: 15000, dtype: float64"
            ],
            "text/html": [
              "<div>\n",
              "<style scoped>\n",
              "    .dataframe tbody tr th:only-of-type {\n",
              "        vertical-align: middle;\n",
              "    }\n",
              "\n",
              "    .dataframe tbody tr th {\n",
              "        vertical-align: top;\n",
              "    }\n",
              "\n",
              "    .dataframe thead th {\n",
              "        text-align: right;\n",
              "    }\n",
              "</style>\n",
              "<table border=\"1\" class=\"dataframe\">\n",
              "  <thead>\n",
              "    <tr style=\"text-align: right;\">\n",
              "      <th></th>\n",
              "      <th>q_N</th>\n",
              "    </tr>\n",
              "  </thead>\n",
              "  <tbody>\n",
              "    <tr>\n",
              "      <th>0</th>\n",
              "      <td>133.114890</td>\n",
              "    </tr>\n",
              "    <tr>\n",
              "      <th>1</th>\n",
              "      <td>133.073512</td>\n",
              "    </tr>\n",
              "    <tr>\n",
              "      <th>2</th>\n",
              "      <td>133.032184</td>\n",
              "    </tr>\n",
              "    <tr>\n",
              "      <th>3</th>\n",
              "      <td>132.990908</td>\n",
              "    </tr>\n",
              "    <tr>\n",
              "      <th>4</th>\n",
              "      <td>132.949683</td>\n",
              "    </tr>\n",
              "    <tr>\n",
              "      <th>...</th>\n",
              "      <td>...</td>\n",
              "    </tr>\n",
              "    <tr>\n",
              "      <th>14995</th>\n",
              "      <td>95.161788</td>\n",
              "    </tr>\n",
              "    <tr>\n",
              "      <th>14996</th>\n",
              "      <td>95.161747</td>\n",
              "    </tr>\n",
              "    <tr>\n",
              "      <th>14997</th>\n",
              "      <td>95.161706</td>\n",
              "    </tr>\n",
              "    <tr>\n",
              "      <th>14998</th>\n",
              "      <td>95.161665</td>\n",
              "    </tr>\n",
              "    <tr>\n",
              "      <th>14999</th>\n",
              "      <td>95.161624</td>\n",
              "    </tr>\n",
              "  </tbody>\n",
              "</table>\n",
              "<p>15000 rows × 1 columns</p>\n",
              "</div><br><label><b>dtype:</b> float64</label>"
            ]
          },
          "metadata": {},
          "execution_count": 385
        }
      ]
    },
    {
      "cell_type": "code",
      "source": [
        "from matplotlib import pyplot as plt\n",
        "plt.figure(figsize=(10, 5))\n",
        "plt.gca().spines[['top', 'right']].set_visible(False)\n",
        "# plot one by one\n",
        "\n",
        "\n",
        "plt.plot(df['x'], df['p_1'],'r', lw=2)\n",
        "plt.plot(df['x'], [df['p_1'][14999]]*15000,'r--', lw=1)\n",
        "\n",
        "plt.plot(df['x'], df['p_3'], lw=2)\n",
        "plt.plot(df['x'], [df['p_3'][14999]]*15000,'b--', lw=1)\n",
        "\n",
        "plt.plot(df['x'], df['p_8'], lw=2)\n",
        "plt.plot(df['x'], [df['p_8'][14999]]*15000,'g--', lw=1)\n",
        "\n",
        "\n",
        "# set x label\n",
        "plt.xlabel('Сутки')\n",
        "plt.ylabel('Давление')\n",
        "\n",
        "# set title\n",
        "plt.title('P(1), P(3), P(8)')\n",
        "\n",
        "\n",
        "plt.ylim(1, 22)\n",
        "plt.grid(True)\n",
        "plt.annotate('P(1)', xy = (df['x'][500],df['p_1'][200] ))\n",
        "plt.annotate(str(df['p_1'][14999].round(2)), xy = (df['x'][200], df['p_1'][14999]*1.03))\n",
        "\n",
        "plt.annotate('P(3)', xy = (df['x'][900],8 ))\n",
        "plt.annotate(str(df['p_3'][14999].round(2)), xy = (df['x'][200], df['p_3'][14999]*1.03))\n",
        "\n",
        "\n",
        "plt.annotate('P(8)', xy = (df['x'][500],df['p_8'][200] ))\n",
        "#plt.annotate(str(df['p_8'][14999].round(2)), xy = (df['x'][200], df['p_8'][14999]*1.03))\n",
        "\n",
        "# display plot\n",
        "plt.show()"
      ],
      "metadata": {
        "id": "4wtJyoayacfN",
        "outputId": "42238590-26d9-4799-a41f-176829f1a1c8",
        "colab": {
          "base_uri": "https://localhost:8080/",
          "height": 487
        }
      },
      "execution_count": 399,
      "outputs": [
        {
          "output_type": "display_data",
          "data": {
            "text/plain": [
              "<Figure size 1000x500 with 1 Axes>"
            ],
            "image/png": "[encoded data removed]"
          },
          "metadata": {}
        }
      ]
    },
    {
      "cell_type": "code",
      "source": [
        "str(df['p_1'][14999].round(2))"
      ],
      "metadata": {
        "id": "DCb6NHEvnvL4",
        "outputId": "3455c549-d4a3-4646-f6e9-c3d6e4219028",
        "colab": {
          "base_uri": "https://localhost:8080/",
          "height": 35
        }
      },
      "execution_count": 388,
      "outputs": [
        {
          "output_type": "execute_result",
          "data": {
            "text/plain": [
              "'12.15'"
            ],
            "application/vnd.google.colaboratory.intrinsic+json": {
              "type": "string"
            }
          },
          "metadata": {},
          "execution_count": 388
        }
      ]
    },
    {
      "cell_type": "code",
      "source": [
        "df.iloc[14999]"
      ],
      "metadata": {
        "id": "8Q-ccWB0c4bR",
        "outputId": "6a3b74a8-cf36-42de-9441-341d0afa8f5d",
        "colab": {
          "base_uri": "https://localhost:8080/",
          "height": 366
        }
      },
      "execution_count": 389,
      "outputs": [
        {
          "output_type": "execute_result",
          "data": {
            "text/plain": [
              "q_N     95.161624\n",
              "p_3      3.749058\n",
              "p_1     12.147016\n",
              "q       95.029844\n",
              "h_4    274.671262\n",
              "u        1.000000\n",
              "x        1.500000\n",
              "p_4      1.535207\n",
              "p_8      3.801008\n",
              "Name: 14999, dtype: float64"
            ],
            "text/html": [
              "<div>\n",
              "<style scoped>\n",
              "    .dataframe tbody tr th:only-of-type {\n",
              "        vertical-align: middle;\n",
              "    }\n",
              "\n",
              "    .dataframe tbody tr th {\n",
              "        vertical-align: top;\n",
              "    }\n",
              "\n",
              "    .dataframe thead th {\n",
              "        text-align: right;\n",
              "    }\n",
              "</style>\n",
              "<table border=\"1\" class=\"dataframe\">\n",
              "  <thead>\n",
              "    <tr style=\"text-align: right;\">\n",
              "      <th></th>\n",
              "      <th>14999</th>\n",
              "    </tr>\n",
              "  </thead>\n",
              "  <tbody>\n",
              "    <tr>\n",
              "      <th>q_N</th>\n",
              "      <td>95.161624</td>\n",
              "    </tr>\n",
              "    <tr>\n",
              "      <th>p_3</th>\n",
              "      <td>3.749058</td>\n",
              "    </tr>\n",
              "    <tr>\n",
              "      <th>p_1</th>\n",
              "      <td>12.147016</td>\n",
              "    </tr>\n",
              "    <tr>\n",
              "      <th>q</th>\n",
              "      <td>95.029844</td>\n",
              "    </tr>\n",
              "    <tr>\n",
              "      <th>h_4</th>\n",
              "      <td>274.671262</td>\n",
              "    </tr>\n",
              "    <tr>\n",
              "      <th>u</th>\n",
              "      <td>1.000000</td>\n",
              "    </tr>\n",
              "    <tr>\n",
              "      <th>x</th>\n",
              "      <td>1.500000</td>\n",
              "    </tr>\n",
              "    <tr>\n",
              "      <th>p_4</th>\n",
              "      <td>1.535207</td>\n",
              "    </tr>\n",
              "    <tr>\n",
              "      <th>p_8</th>\n",
              "      <td>3.801008</td>\n",
              "    </tr>\n",
              "  </tbody>\n",
              "</table>\n",
              "</div><br><label><b>dtype:</b> float64</label>"
            ]
          },
          "metadata": {},
          "execution_count": 389
        }
      ]
    },
    {
      "cell_type": "code",
      "source": [
        "from matplotlib import pyplot as plt\n",
        "plt.figure(figsize=(10, 5))\n",
        "\n",
        "plt.plot(df['x'], df['h_4'],'b', lw=2)\n",
        "plt.plot(df['x'], [df['h_4'][14999]]*15000,'b--', lw=1)\n",
        "\n",
        "plt.annotate('h(4)', xy = (df['x'][500],df['h_4'][200] ))\n",
        "plt.annotate(str(df['h_4'][14999].round(2)), xy = (df['x'][200], df['h_4'][14999]*1.05))\n",
        "\n",
        "# set x label\n",
        "plt.xlabel('Сутки')\n",
        "plt.ylabel('Уровень')\n",
        "\n",
        "# set title\n",
        "plt.title('h(4)')\n",
        "plt.ylim(200, 1600)\n",
        "plt.grid(True)\n",
        "plt.show()"
      ],
      "metadata": {
        "id": "AX133_gXeHV_",
        "outputId": "dbe94f2a-418f-44ca-de63-d29b7975dba4",
        "colab": {
          "base_uri": "https://localhost:8080/",
          "height": 487
        }
      },
      "execution_count": 407,
      "outputs": [
        {
          "output_type": "display_data",
          "data": {
            "text/plain": [
              "<Figure size 1000x500 with 1 Axes>"
            ],
            "image/png": "[encoded data removed]"
          },
          "metadata": {}
        }
      ]
    }
  ]
}